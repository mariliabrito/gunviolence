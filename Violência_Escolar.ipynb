{
  "nbformat": 4,
  "nbformat_minor": 0,
  "metadata": {
    "colab": {
      "provenance": [],
      "include_colab_link": true
    },
    "kernelspec": {
      "name": "python3",
      "display_name": "Python 3"
    },
    "language_info": {
      "name": "python"
    }
  },
  "cells": [
    {
      "cell_type": "markdown",
      "metadata": {
        "id": "view-in-github",
        "colab_type": "text"
      },
      "source": [
        "<a href=\"https://colab.research.google.com/github/mariliabrito/gunviolence/blob/main/Viol%C3%AAncia_Escolar.ipynb\" target=\"_parent\"><img src=\"https://colab.research.google.com/assets/colab-badge.svg\" alt=\"Open In Colab\"/></a>"
      ]
    },
    {
      "cell_type": "markdown",
      "source": [
        "<a href=\"TAIL\"><img src=\"https://i.imgur.com/GRTE0OG.png\" width=\"150\" title=\"Tail Logo\" /></a>\n",
        "\n",
        "# <font color =\"#00b8ff\">Análise de Violência Escolar</font>\n",
        "## <font color =\"#00b8ff\">Trainees - 2022.2</font>"
      ],
      "metadata": {
        "id": "JFB8z8ya0tUW"
      }
    },
    {
      "cell_type": "markdown",
      "source": [
        "## <font color =\"#00b8ff\">1. Introdução</font>\n",
        "**Equipe:** Marília Brito, Jonas, Gisele, Hermano Neto, João Victor Dantas, Maria Eduarda Bandeira, Raffael Leobino\n",
        "\n",
        " FOTO \n",
        "\n",
        "## Introdução \n",
        "\n",
        "Após a ocorrência de dois massacres em território brasileiro no intervalo de uma semana, o tema em questão recebeu grande destaque. O país alarmou-se diante de ameaças e possíveis novos ataques. Diante dessa situação, levantou-se diversos questionamentos quanto à natureza dessas ocorrências.\n",
        "\n",
        "Segundo um mapeamento da Universidade Estadual de Campinas (Unicamp) sobre casos de ataques em escolas por alunos ou ex-alunos, o primeiro episódio foi registrado em 2002, quando um adolescente de 17 anos disparou contra duas colegas dentro da sala de aula de uma escola particular de Salvador. Desde esse caso, foram contabilizados 22 ataques, 13 deles realizados nos últimos dois anos.\n",
        "\n",
        "A fim de compreender o fenômeno, suas causas e possíveis formas de proteção, a equipe de Trainees resolveu analisar um dataset de violência escolar. Foi escolhida uma base norte-americana, visto que essa totaliza uma maior quantidade de dados, 2069 ocorrências, de 1970 até junho de 2022, e possui mais variáveis para estudo. \n",
        "\n",
        "O dataset foi obtido através do Center for Homeland, Defense\n",
        "and Security (School Shooting Safety Compendium) e todos os casos apresentam link da nóticia/registro, de forma a garantir sua confiabilidade.\n",
        "\n",
        "## Objetivos gerais \n",
        "Extrair informações relevantes sobre a temática\n",
        "de violência nas escolas envolvendo violentadores;\n",
        "\n",
        "## Objetivos específicos\n",
        "* Observar tendência ao longo do tempo;\n",
        "* Identificar perfil do violentador e da vítima;\n",
        "* Extrair possíveis fatores de risco e proteção;\n",
        "* Realizar análise preditiva.\n",
        "\n",
        "### Colunas do dataset:"
      ],
      "metadata": {
        "id": "MzAG-w2g1GOT"
      }
    },
    {
      "cell_type": "code",
      "source": [
        "import pandas as pd\n",
        "import matplotlib.pyplot as plt\n",
        "import seaborn as sns\n",
        "import numpy as np\n",
        "import matplotlib.ticker as ticker"
      ],
      "metadata": {
        "id": "WkR0Ljajf3C5"
      },
      "execution_count": 108,
      "outputs": []
    },
    {
      "cell_type": "code",
      "source": [
        "# Importando 4 abas do arquivo de excel\n",
        "# As abas dos datasets são: incidente, atirador, vítima, arma.\n",
        "\n",
        "df_incid = pd.read_excel(\"https://github.com/mariliabrito/gunviolence/blob/main/SSDB_Raw_Data_2022.xlsx?raw=true\", sheet_name=1, parse_dates=[\"Date\"]) #Rafael, Gisele e Dantas\n",
        "df_shoot = pd.read_excel(\"https://github.com/mariliabrito/gunviolence/blob/main/SSDB_Raw_Data_2022.xlsx?raw=true\", sheet_name=2) #Hermano e Duda\n",
        "df_victm = pd.read_excel(\"https://github.com/mariliabrito/gunviolence/blob/main/SSDB_Raw_Data_2022.xlsx?raw=true\", sheet_name=3) #Hermano e Duda\n",
        "df_weapn = pd.read_excel(\"https://github.com/mariliabrito/gunviolence/blob/main/SSDB_Raw_Data_2022.xlsx?raw=true\", sheet_name=4) #Rafael, Gisele e Dantas"
      ],
      "metadata": {
        "id": "hL6SophSf74n"
      },
      "execution_count": 109,
      "outputs": []
    },
    {
      "cell_type": "code",
      "source": [
        "df_shoot.describe(include='all') #Esse comando inclui TODAS as colunas do referido dataset."
      ],
      "metadata": {
        "colab": {
          "base_uri": "https://localhost:8080/",
          "height": 175
        },
        "id": "Xzvo-OiF6Qvb",
        "outputId": "f536e533-e0d9-4f32-b257-2d8aa14b4e8c"
      },
      "execution_count": 110,
      "outputs": [
        {
          "output_type": "execute_result",
          "data": {
            "text/plain": [
              "           incidentid   age gender   race schoolaffiliation    shooteroutcome  \\\n",
              "count            2294  1865   1928    643              2151              2289   \n",
              "unique           2060    67      4      8                20                12   \n",
              "top     19700415ARPIP    17   Male  Black           Student  Fled/Apprehended   \n",
              "freq                8   239   1838    314               934               845   \n",
              "\n",
              "       shooterdied injury chargesfiled     verdict minorchargedadult  \\\n",
              "count         2285   2286          706         182               243   \n",
              "unique           2      4          439         149                 3   \n",
              "top             No   None       Murder  No Suspect                No   \n",
              "freq          2063   1957           44          14               139   \n",
              "\n",
              "       criminalhistory  \n",
              "count              186  \n",
              "unique              76  \n",
              "top                 No  \n",
              "freq               102  "
            ],
            "text/html": [
              "\n",
              "  <div id=\"df-bbbf5f2f-73c6-417d-97e6-8cd462649601\">\n",
              "    <div class=\"colab-df-container\">\n",
              "      <div>\n",
              "<style scoped>\n",
              "    .dataframe tbody tr th:only-of-type {\n",
              "        vertical-align: middle;\n",
              "    }\n",
              "\n",
              "    .dataframe tbody tr th {\n",
              "        vertical-align: top;\n",
              "    }\n",
              "\n",
              "    .dataframe thead th {\n",
              "        text-align: right;\n",
              "    }\n",
              "</style>\n",
              "<table border=\"1\" class=\"dataframe\">\n",
              "  <thead>\n",
              "    <tr style=\"text-align: right;\">\n",
              "      <th></th>\n",
              "      <th>incidentid</th>\n",
              "      <th>age</th>\n",
              "      <th>gender</th>\n",
              "      <th>race</th>\n",
              "      <th>schoolaffiliation</th>\n",
              "      <th>shooteroutcome</th>\n",
              "      <th>shooterdied</th>\n",
              "      <th>injury</th>\n",
              "      <th>chargesfiled</th>\n",
              "      <th>verdict</th>\n",
              "      <th>minorchargedadult</th>\n",
              "      <th>criminalhistory</th>\n",
              "    </tr>\n",
              "  </thead>\n",
              "  <tbody>\n",
              "    <tr>\n",
              "      <th>count</th>\n",
              "      <td>2294</td>\n",
              "      <td>1865</td>\n",
              "      <td>1928</td>\n",
              "      <td>643</td>\n",
              "      <td>2151</td>\n",
              "      <td>2289</td>\n",
              "      <td>2285</td>\n",
              "      <td>2286</td>\n",
              "      <td>706</td>\n",
              "      <td>182</td>\n",
              "      <td>243</td>\n",
              "      <td>186</td>\n",
              "    </tr>\n",
              "    <tr>\n",
              "      <th>unique</th>\n",
              "      <td>2060</td>\n",
              "      <td>67</td>\n",
              "      <td>4</td>\n",
              "      <td>8</td>\n",
              "      <td>20</td>\n",
              "      <td>12</td>\n",
              "      <td>2</td>\n",
              "      <td>4</td>\n",
              "      <td>439</td>\n",
              "      <td>149</td>\n",
              "      <td>3</td>\n",
              "      <td>76</td>\n",
              "    </tr>\n",
              "    <tr>\n",
              "      <th>top</th>\n",
              "      <td>19700415ARPIP</td>\n",
              "      <td>17</td>\n",
              "      <td>Male</td>\n",
              "      <td>Black</td>\n",
              "      <td>Student</td>\n",
              "      <td>Fled/Apprehended</td>\n",
              "      <td>No</td>\n",
              "      <td>None</td>\n",
              "      <td>Murder</td>\n",
              "      <td>No Suspect</td>\n",
              "      <td>No</td>\n",
              "      <td>No</td>\n",
              "    </tr>\n",
              "    <tr>\n",
              "      <th>freq</th>\n",
              "      <td>8</td>\n",
              "      <td>239</td>\n",
              "      <td>1838</td>\n",
              "      <td>314</td>\n",
              "      <td>934</td>\n",
              "      <td>845</td>\n",
              "      <td>2063</td>\n",
              "      <td>1957</td>\n",
              "      <td>44</td>\n",
              "      <td>14</td>\n",
              "      <td>139</td>\n",
              "      <td>102</td>\n",
              "    </tr>\n",
              "  </tbody>\n",
              "</table>\n",
              "</div>\n",
              "      <button class=\"colab-df-convert\" onclick=\"convertToInteractive('df-bbbf5f2f-73c6-417d-97e6-8cd462649601')\"\n",
              "              title=\"Convert this dataframe to an interactive table.\"\n",
              "              style=\"display:none;\">\n",
              "        \n",
              "  <svg xmlns=\"http://www.w3.org/2000/svg\" height=\"24px\"viewBox=\"0 0 24 24\"\n",
              "       width=\"24px\">\n",
              "    <path d=\"M0 0h24v24H0V0z\" fill=\"none\"/>\n",
              "    <path d=\"M18.56 5.44l.94 2.06.94-2.06 2.06-.94-2.06-.94-.94-2.06-.94 2.06-2.06.94zm-11 1L8.5 8.5l.94-2.06 2.06-.94-2.06-.94L8.5 2.5l-.94 2.06-2.06.94zm10 10l.94 2.06.94-2.06 2.06-.94-2.06-.94-.94-2.06-.94 2.06-2.06.94z\"/><path d=\"M17.41 7.96l-1.37-1.37c-.4-.4-.92-.59-1.43-.59-.52 0-1.04.2-1.43.59L10.3 9.45l-7.72 7.72c-.78.78-.78 2.05 0 2.83L4 21.41c.39.39.9.59 1.41.59.51 0 1.02-.2 1.41-.59l7.78-7.78 2.81-2.81c.8-.78.8-2.07 0-2.86zM5.41 20L4 18.59l7.72-7.72 1.47 1.35L5.41 20z\"/>\n",
              "  </svg>\n",
              "      </button>\n",
              "      \n",
              "  <style>\n",
              "    .colab-df-container {\n",
              "      display:flex;\n",
              "      flex-wrap:wrap;\n",
              "      gap: 12px;\n",
              "    }\n",
              "\n",
              "    .colab-df-convert {\n",
              "      background-color: #E8F0FE;\n",
              "      border: none;\n",
              "      border-radius: 50%;\n",
              "      cursor: pointer;\n",
              "      display: none;\n",
              "      fill: #1967D2;\n",
              "      height: 32px;\n",
              "      padding: 0 0 0 0;\n",
              "      width: 32px;\n",
              "    }\n",
              "\n",
              "    .colab-df-convert:hover {\n",
              "      background-color: #E2EBFA;\n",
              "      box-shadow: 0px 1px 2px rgba(60, 64, 67, 0.3), 0px 1px 3px 1px rgba(60, 64, 67, 0.15);\n",
              "      fill: #174EA6;\n",
              "    }\n",
              "\n",
              "    [theme=dark] .colab-df-convert {\n",
              "      background-color: #3B4455;\n",
              "      fill: #D2E3FC;\n",
              "    }\n",
              "\n",
              "    [theme=dark] .colab-df-convert:hover {\n",
              "      background-color: #434B5C;\n",
              "      box-shadow: 0px 1px 3px 1px rgba(0, 0, 0, 0.15);\n",
              "      filter: drop-shadow(0px 1px 2px rgba(0, 0, 0, 0.3));\n",
              "      fill: #FFFFFF;\n",
              "    }\n",
              "  </style>\n",
              "\n",
              "      <script>\n",
              "        const buttonEl =\n",
              "          document.querySelector('#df-bbbf5f2f-73c6-417d-97e6-8cd462649601 button.colab-df-convert');\n",
              "        buttonEl.style.display =\n",
              "          google.colab.kernel.accessAllowed ? 'block' : 'none';\n",
              "\n",
              "        async function convertToInteractive(key) {\n",
              "          const element = document.querySelector('#df-bbbf5f2f-73c6-417d-97e6-8cd462649601');\n",
              "          const dataTable =\n",
              "            await google.colab.kernel.invokeFunction('convertToInteractive',\n",
              "                                                     [key], {});\n",
              "          if (!dataTable) return;\n",
              "\n",
              "          const docLinkHtml = 'Like what you see? Visit the ' +\n",
              "            '<a target=\"_blank\" href=https://colab.research.google.com/notebooks/data_table.ipynb>data table notebook</a>'\n",
              "            + ' to learn more about interactive tables.';\n",
              "          element.innerHTML = '';\n",
              "          dataTable['output_type'] = 'display_data';\n",
              "          await google.colab.output.renderOutput(dataTable, element);\n",
              "          const docLink = document.createElement('div');\n",
              "          docLink.innerHTML = docLinkHtml;\n",
              "          element.appendChild(docLink);\n",
              "        }\n",
              "      </script>\n",
              "    </div>\n",
              "  </div>\n",
              "  "
            ]
          },
          "metadata": {},
          "execution_count": 110
        }
      ]
    },
    {
      "cell_type": "code",
      "source": [
        "df_weapn.describe(include='all') "
      ],
      "metadata": {
        "colab": {
          "base_uri": "https://localhost:8080/",
          "height": 175
        },
        "id": "RlZgGM7l6-pM",
        "outputId": "a89d6958-859b-4fd6-8c6d-191ce3816980"
      },
      "execution_count": 111,
      "outputs": [
        {
          "output_type": "execute_result",
          "data": {
            "text/plain": [
              "           incidentid weaponcaliber   weapondetails weapontype\n",
              "count            2071          1442              93       2000\n",
              "unique           2018            35              67          9\n",
              "top     20171114CARAR       Unknown  Gel pellet gun    Handgun\n",
              "freq                4           734               4       1404"
            ],
            "text/html": [
              "\n",
              "  <div id=\"df-bded8273-c0aa-421d-aef2-5389dc058bca\">\n",
              "    <div class=\"colab-df-container\">\n",
              "      <div>\n",
              "<style scoped>\n",
              "    .dataframe tbody tr th:only-of-type {\n",
              "        vertical-align: middle;\n",
              "    }\n",
              "\n",
              "    .dataframe tbody tr th {\n",
              "        vertical-align: top;\n",
              "    }\n",
              "\n",
              "    .dataframe thead th {\n",
              "        text-align: right;\n",
              "    }\n",
              "</style>\n",
              "<table border=\"1\" class=\"dataframe\">\n",
              "  <thead>\n",
              "    <tr style=\"text-align: right;\">\n",
              "      <th></th>\n",
              "      <th>incidentid</th>\n",
              "      <th>weaponcaliber</th>\n",
              "      <th>weapondetails</th>\n",
              "      <th>weapontype</th>\n",
              "    </tr>\n",
              "  </thead>\n",
              "  <tbody>\n",
              "    <tr>\n",
              "      <th>count</th>\n",
              "      <td>2071</td>\n",
              "      <td>1442</td>\n",
              "      <td>93</td>\n",
              "      <td>2000</td>\n",
              "    </tr>\n",
              "    <tr>\n",
              "      <th>unique</th>\n",
              "      <td>2018</td>\n",
              "      <td>35</td>\n",
              "      <td>67</td>\n",
              "      <td>9</td>\n",
              "    </tr>\n",
              "    <tr>\n",
              "      <th>top</th>\n",
              "      <td>20171114CARAR</td>\n",
              "      <td>Unknown</td>\n",
              "      <td>Gel pellet gun</td>\n",
              "      <td>Handgun</td>\n",
              "    </tr>\n",
              "    <tr>\n",
              "      <th>freq</th>\n",
              "      <td>4</td>\n",
              "      <td>734</td>\n",
              "      <td>4</td>\n",
              "      <td>1404</td>\n",
              "    </tr>\n",
              "  </tbody>\n",
              "</table>\n",
              "</div>\n",
              "      <button class=\"colab-df-convert\" onclick=\"convertToInteractive('df-bded8273-c0aa-421d-aef2-5389dc058bca')\"\n",
              "              title=\"Convert this dataframe to an interactive table.\"\n",
              "              style=\"display:none;\">\n",
              "        \n",
              "  <svg xmlns=\"http://www.w3.org/2000/svg\" height=\"24px\"viewBox=\"0 0 24 24\"\n",
              "       width=\"24px\">\n",
              "    <path d=\"M0 0h24v24H0V0z\" fill=\"none\"/>\n",
              "    <path d=\"M18.56 5.44l.94 2.06.94-2.06 2.06-.94-2.06-.94-.94-2.06-.94 2.06-2.06.94zm-11 1L8.5 8.5l.94-2.06 2.06-.94-2.06-.94L8.5 2.5l-.94 2.06-2.06.94zm10 10l.94 2.06.94-2.06 2.06-.94-2.06-.94-.94-2.06-.94 2.06-2.06.94z\"/><path d=\"M17.41 7.96l-1.37-1.37c-.4-.4-.92-.59-1.43-.59-.52 0-1.04.2-1.43.59L10.3 9.45l-7.72 7.72c-.78.78-.78 2.05 0 2.83L4 21.41c.39.39.9.59 1.41.59.51 0 1.02-.2 1.41-.59l7.78-7.78 2.81-2.81c.8-.78.8-2.07 0-2.86zM5.41 20L4 18.59l7.72-7.72 1.47 1.35L5.41 20z\"/>\n",
              "  </svg>\n",
              "      </button>\n",
              "      \n",
              "  <style>\n",
              "    .colab-df-container {\n",
              "      display:flex;\n",
              "      flex-wrap:wrap;\n",
              "      gap: 12px;\n",
              "    }\n",
              "\n",
              "    .colab-df-convert {\n",
              "      background-color: #E8F0FE;\n",
              "      border: none;\n",
              "      border-radius: 50%;\n",
              "      cursor: pointer;\n",
              "      display: none;\n",
              "      fill: #1967D2;\n",
              "      height: 32px;\n",
              "      padding: 0 0 0 0;\n",
              "      width: 32px;\n",
              "    }\n",
              "\n",
              "    .colab-df-convert:hover {\n",
              "      background-color: #E2EBFA;\n",
              "      box-shadow: 0px 1px 2px rgba(60, 64, 67, 0.3), 0px 1px 3px 1px rgba(60, 64, 67, 0.15);\n",
              "      fill: #174EA6;\n",
              "    }\n",
              "\n",
              "    [theme=dark] .colab-df-convert {\n",
              "      background-color: #3B4455;\n",
              "      fill: #D2E3FC;\n",
              "    }\n",
              "\n",
              "    [theme=dark] .colab-df-convert:hover {\n",
              "      background-color: #434B5C;\n",
              "      box-shadow: 0px 1px 3px 1px rgba(0, 0, 0, 0.15);\n",
              "      filter: drop-shadow(0px 1px 2px rgba(0, 0, 0, 0.3));\n",
              "      fill: #FFFFFF;\n",
              "    }\n",
              "  </style>\n",
              "\n",
              "      <script>\n",
              "        const buttonEl =\n",
              "          document.querySelector('#df-bded8273-c0aa-421d-aef2-5389dc058bca button.colab-df-convert');\n",
              "        buttonEl.style.display =\n",
              "          google.colab.kernel.accessAllowed ? 'block' : 'none';\n",
              "\n",
              "        async function convertToInteractive(key) {\n",
              "          const element = document.querySelector('#df-bded8273-c0aa-421d-aef2-5389dc058bca');\n",
              "          const dataTable =\n",
              "            await google.colab.kernel.invokeFunction('convertToInteractive',\n",
              "                                                     [key], {});\n",
              "          if (!dataTable) return;\n",
              "\n",
              "          const docLinkHtml = 'Like what you see? Visit the ' +\n",
              "            '<a target=\"_blank\" href=https://colab.research.google.com/notebooks/data_table.ipynb>data table notebook</a>'\n",
              "            + ' to learn more about interactive tables.';\n",
              "          element.innerHTML = '';\n",
              "          dataTable['output_type'] = 'display_data';\n",
              "          await google.colab.output.renderOutput(dataTable, element);\n",
              "          const docLink = document.createElement('div');\n",
              "          docLink.innerHTML = docLinkHtml;\n",
              "          element.appendChild(docLink);\n",
              "        }\n",
              "      </script>\n",
              "    </div>\n",
              "  </div>\n",
              "  "
            ]
          },
          "metadata": {},
          "execution_count": 111
        }
      ]
    },
    {
      "cell_type": "code",
      "source": [
        "df_victm.describe(include='all') "
      ],
      "metadata": {
        "colab": {
          "base_uri": "https://localhost:8080/",
          "height": 175
        },
        "id": "JV51kOpp6y1-",
        "outputId": "68939e69-ef66-41e1-97d2-fdc1fdb281af"
      },
      "execution_count": 112,
      "outputs": [
        {
          "output_type": "execute_result",
          "data": {
            "text/plain": [
              "           incidentid   race   injury gender schoolaffiliation   age\n",
              "count            3099    317     3099   2395              2775  2817\n",
              "unique           1868      5        4      3                19    74\n",
              "top     19860516WYCOC  Black  Wounded   Male           Student  Teen\n",
              "freq               74    153     1840   1809              1885   535"
            ],
            "text/html": [
              "\n",
              "  <div id=\"df-03078f37-9a57-4046-ad98-ff4c5a868c7a\">\n",
              "    <div class=\"colab-df-container\">\n",
              "      <div>\n",
              "<style scoped>\n",
              "    .dataframe tbody tr th:only-of-type {\n",
              "        vertical-align: middle;\n",
              "    }\n",
              "\n",
              "    .dataframe tbody tr th {\n",
              "        vertical-align: top;\n",
              "    }\n",
              "\n",
              "    .dataframe thead th {\n",
              "        text-align: right;\n",
              "    }\n",
              "</style>\n",
              "<table border=\"1\" class=\"dataframe\">\n",
              "  <thead>\n",
              "    <tr style=\"text-align: right;\">\n",
              "      <th></th>\n",
              "      <th>incidentid</th>\n",
              "      <th>race</th>\n",
              "      <th>injury</th>\n",
              "      <th>gender</th>\n",
              "      <th>schoolaffiliation</th>\n",
              "      <th>age</th>\n",
              "    </tr>\n",
              "  </thead>\n",
              "  <tbody>\n",
              "    <tr>\n",
              "      <th>count</th>\n",
              "      <td>3099</td>\n",
              "      <td>317</td>\n",
              "      <td>3099</td>\n",
              "      <td>2395</td>\n",
              "      <td>2775</td>\n",
              "      <td>2817</td>\n",
              "    </tr>\n",
              "    <tr>\n",
              "      <th>unique</th>\n",
              "      <td>1868</td>\n",
              "      <td>5</td>\n",
              "      <td>4</td>\n",
              "      <td>3</td>\n",
              "      <td>19</td>\n",
              "      <td>74</td>\n",
              "    </tr>\n",
              "    <tr>\n",
              "      <th>top</th>\n",
              "      <td>19860516WYCOC</td>\n",
              "      <td>Black</td>\n",
              "      <td>Wounded</td>\n",
              "      <td>Male</td>\n",
              "      <td>Student</td>\n",
              "      <td>Teen</td>\n",
              "    </tr>\n",
              "    <tr>\n",
              "      <th>freq</th>\n",
              "      <td>74</td>\n",
              "      <td>153</td>\n",
              "      <td>1840</td>\n",
              "      <td>1809</td>\n",
              "      <td>1885</td>\n",
              "      <td>535</td>\n",
              "    </tr>\n",
              "  </tbody>\n",
              "</table>\n",
              "</div>\n",
              "      <button class=\"colab-df-convert\" onclick=\"convertToInteractive('df-03078f37-9a57-4046-ad98-ff4c5a868c7a')\"\n",
              "              title=\"Convert this dataframe to an interactive table.\"\n",
              "              style=\"display:none;\">\n",
              "        \n",
              "  <svg xmlns=\"http://www.w3.org/2000/svg\" height=\"24px\"viewBox=\"0 0 24 24\"\n",
              "       width=\"24px\">\n",
              "    <path d=\"M0 0h24v24H0V0z\" fill=\"none\"/>\n",
              "    <path d=\"M18.56 5.44l.94 2.06.94-2.06 2.06-.94-2.06-.94-.94-2.06-.94 2.06-2.06.94zm-11 1L8.5 8.5l.94-2.06 2.06-.94-2.06-.94L8.5 2.5l-.94 2.06-2.06.94zm10 10l.94 2.06.94-2.06 2.06-.94-2.06-.94-.94-2.06-.94 2.06-2.06.94z\"/><path d=\"M17.41 7.96l-1.37-1.37c-.4-.4-.92-.59-1.43-.59-.52 0-1.04.2-1.43.59L10.3 9.45l-7.72 7.72c-.78.78-.78 2.05 0 2.83L4 21.41c.39.39.9.59 1.41.59.51 0 1.02-.2 1.41-.59l7.78-7.78 2.81-2.81c.8-.78.8-2.07 0-2.86zM5.41 20L4 18.59l7.72-7.72 1.47 1.35L5.41 20z\"/>\n",
              "  </svg>\n",
              "      </button>\n",
              "      \n",
              "  <style>\n",
              "    .colab-df-container {\n",
              "      display:flex;\n",
              "      flex-wrap:wrap;\n",
              "      gap: 12px;\n",
              "    }\n",
              "\n",
              "    .colab-df-convert {\n",
              "      background-color: #E8F0FE;\n",
              "      border: none;\n",
              "      border-radius: 50%;\n",
              "      cursor: pointer;\n",
              "      display: none;\n",
              "      fill: #1967D2;\n",
              "      height: 32px;\n",
              "      padding: 0 0 0 0;\n",
              "      width: 32px;\n",
              "    }\n",
              "\n",
              "    .colab-df-convert:hover {\n",
              "      background-color: #E2EBFA;\n",
              "      box-shadow: 0px 1px 2px rgba(60, 64, 67, 0.3), 0px 1px 3px 1px rgba(60, 64, 67, 0.15);\n",
              "      fill: #174EA6;\n",
              "    }\n",
              "\n",
              "    [theme=dark] .colab-df-convert {\n",
              "      background-color: #3B4455;\n",
              "      fill: #D2E3FC;\n",
              "    }\n",
              "\n",
              "    [theme=dark] .colab-df-convert:hover {\n",
              "      background-color: #434B5C;\n",
              "      box-shadow: 0px 1px 3px 1px rgba(0, 0, 0, 0.15);\n",
              "      filter: drop-shadow(0px 1px 2px rgba(0, 0, 0, 0.3));\n",
              "      fill: #FFFFFF;\n",
              "    }\n",
              "  </style>\n",
              "\n",
              "      <script>\n",
              "        const buttonEl =\n",
              "          document.querySelector('#df-03078f37-9a57-4046-ad98-ff4c5a868c7a button.colab-df-convert');\n",
              "        buttonEl.style.display =\n",
              "          google.colab.kernel.accessAllowed ? 'block' : 'none';\n",
              "\n",
              "        async function convertToInteractive(key) {\n",
              "          const element = document.querySelector('#df-03078f37-9a57-4046-ad98-ff4c5a868c7a');\n",
              "          const dataTable =\n",
              "            await google.colab.kernel.invokeFunction('convertToInteractive',\n",
              "                                                     [key], {});\n",
              "          if (!dataTable) return;\n",
              "\n",
              "          const docLinkHtml = 'Like what you see? Visit the ' +\n",
              "            '<a target=\"_blank\" href=https://colab.research.google.com/notebooks/data_table.ipynb>data table notebook</a>'\n",
              "            + ' to learn more about interactive tables.';\n",
              "          element.innerHTML = '';\n",
              "          dataTable['output_type'] = 'display_data';\n",
              "          await google.colab.output.renderOutput(dataTable, element);\n",
              "          const docLink = document.createElement('div');\n",
              "          docLink.innerHTML = docLinkHtml;\n",
              "          element.appendChild(docLink);\n",
              "        }\n",
              "      </script>\n",
              "    </div>\n",
              "  </div>\n",
              "  "
            ]
          },
          "metadata": {},
          "execution_count": 112
        }
      ]
    },
    {
      "cell_type": "code",
      "source": [
        "df_incid.describe(include='all') "
      ],
      "metadata": {
        "colab": {
          "base_uri": "https://localhost:8080/",
          "height": 689
        },
        "id": "ZlwlIodr8nEl",
        "outputId": "cb59f1fb-56b5-4b48-93a5-d489c8c459b4"
      },
      "execution_count": 113,
      "outputs": [
        {
          "output_type": "stream",
          "name": "stderr",
          "text": [
            "<ipython-input-113-018d68bb2ac2>:1: FutureWarning: Treating datetime data as categorical rather than numeric in `.describe` is deprecated and will be removed in a future version of pandas. Specify `datetime_is_numeric=True` to silence this warning and adopt the future behavior now.\n",
            "  df_incid.describe(include='all')\n"
          ]
        },
        {
          "output_type": "execute_result",
          "data": {
            "text/plain": [
              "          Incident_ID                                            Sources  \\\n",
              "count            2069                                               2069   \n",
              "unique           2068                                               2009   \n",
              "top     20210902CASAL  https://www.columbine-angels.com/School_Violen...   \n",
              "freq                2                                                 15   \n",
              "first             NaN                                                NaN   \n",
              "last              NaN                                                NaN   \n",
              "mean              NaN                                                NaN   \n",
              "std               NaN                                                NaN   \n",
              "min               NaN                                                NaN   \n",
              "25%               NaN                                                NaN   \n",
              "50%               NaN                                                NaN   \n",
              "75%               NaN                                                NaN   \n",
              "max               NaN                                                NaN   \n",
              "\n",
              "       Number_News Media_Attention  Reliability                 Date Quarter  \\\n",
              "count          694             734  2069.000000                 2069    2058   \n",
              "unique          17               4          NaN                 1745       4   \n",
              "top              2           Local          NaN  2021-09-02 00:00:00    Fall   \n",
              "freq           128             504          NaN                    6     699   \n",
              "first          NaN             NaN          NaN  1970-01-05 00:00:00     NaN   \n",
              "last           NaN             NaN          NaN  2022-06-20 00:00:00     NaN   \n",
              "mean           NaN             NaN     2.766554                  NaN     NaN   \n",
              "std            NaN             NaN     0.996184                  NaN     NaN   \n",
              "min            NaN             NaN     1.000000                  NaN     NaN   \n",
              "25%            NaN             NaN     2.000000                  NaN     NaN   \n",
              "50%            NaN             NaN     2.000000                  NaN     NaN   \n",
              "75%            NaN             NaN     4.000000                  NaN     NaN   \n",
              "max            NaN             NaN     5.000000                  NaN     NaN   \n",
              "\n",
              "                     School     City State  ... Accomplice Hostages Barricade  \\\n",
              "count                  2068     2069  2069  ...       1768     2055      2055   \n",
              "unique                 1777      936    52  ...          3        2         2   \n",
              "top     Central High School  Chicago    CA  ...         No       No        No   \n",
              "freq                     17       63   215  ...       1357     2003      2011   \n",
              "first                   NaN      NaN   NaN  ...        NaN      NaN       NaN   \n",
              "last                    NaN      NaN   NaN  ...        NaN      NaN       NaN   \n",
              "mean                    NaN      NaN   NaN  ...        NaN      NaN       NaN   \n",
              "std                     NaN      NaN   NaN  ...        NaN      NaN       NaN   \n",
              "min                     NaN      NaN   NaN  ...        NaN      NaN       NaN   \n",
              "25%                     NaN      NaN   NaN  ...        NaN      NaN       NaN   \n",
              "50%                     NaN      NaN   NaN  ...        NaN      NaN       NaN   \n",
              "75%                     NaN      NaN   NaN  ...        NaN      NaN       NaN   \n",
              "max                     NaN      NaN   NaN  ...        NaN      NaN       NaN   \n",
              "\n",
              "       Officer_Involved Bullied Domestic_Violence Gang_Related Preplanned  \\\n",
              "count              2061    1761              1913         1645       1979   \n",
              "unique                3       2                 3            2          2   \n",
              "top                  No      No                No           No         No   \n",
              "freq               2016    1680              1795         1408       1882   \n",
              "first               NaN     NaN               NaN          NaN        NaN   \n",
              "last                NaN     NaN               NaN          NaN        NaN   \n",
              "mean                NaN     NaN               NaN          NaN        NaN   \n",
              "std                 NaN     NaN               NaN          NaN        NaN   \n",
              "min                 NaN     NaN               NaN          NaN        NaN   \n",
              "25%                 NaN     NaN               NaN          NaN        NaN   \n",
              "50%                 NaN     NaN               NaN          NaN        NaN   \n",
              "75%                 NaN     NaN               NaN          NaN        NaN   \n",
              "max                 NaN     NaN               NaN          NaN        NaN   \n",
              "\n",
              "       Shots_Fired Active_Shooter_FBI  \n",
              "count         1409               1096  \n",
              "unique          53                  2  \n",
              "top              1                 No  \n",
              "freq           629                905  \n",
              "first          NaN                NaN  \n",
              "last           NaN                NaN  \n",
              "mean           NaN                NaN  \n",
              "std            NaN                NaN  \n",
              "min            NaN                NaN  \n",
              "25%            NaN                NaN  \n",
              "50%            NaN                NaN  \n",
              "75%            NaN                NaN  \n",
              "max            NaN                NaN  \n",
              "\n",
              "[13 rows x 30 columns]"
            ],
            "text/html": [
              "\n",
              "  <div id=\"df-227eab8a-afed-44a6-b7e4-a8c8c18ef34a\">\n",
              "    <div class=\"colab-df-container\">\n",
              "      <div>\n",
              "<style scoped>\n",
              "    .dataframe tbody tr th:only-of-type {\n",
              "        vertical-align: middle;\n",
              "    }\n",
              "\n",
              "    .dataframe tbody tr th {\n",
              "        vertical-align: top;\n",
              "    }\n",
              "\n",
              "    .dataframe thead th {\n",
              "        text-align: right;\n",
              "    }\n",
              "</style>\n",
              "<table border=\"1\" class=\"dataframe\">\n",
              "  <thead>\n",
              "    <tr style=\"text-align: right;\">\n",
              "      <th></th>\n",
              "      <th>Incident_ID</th>\n",
              "      <th>Sources</th>\n",
              "      <th>Number_News</th>\n",
              "      <th>Media_Attention</th>\n",
              "      <th>Reliability</th>\n",
              "      <th>Date</th>\n",
              "      <th>Quarter</th>\n",
              "      <th>School</th>\n",
              "      <th>City</th>\n",
              "      <th>State</th>\n",
              "      <th>...</th>\n",
              "      <th>Accomplice</th>\n",
              "      <th>Hostages</th>\n",
              "      <th>Barricade</th>\n",
              "      <th>Officer_Involved</th>\n",
              "      <th>Bullied</th>\n",
              "      <th>Domestic_Violence</th>\n",
              "      <th>Gang_Related</th>\n",
              "      <th>Preplanned</th>\n",
              "      <th>Shots_Fired</th>\n",
              "      <th>Active_Shooter_FBI</th>\n",
              "    </tr>\n",
              "  </thead>\n",
              "  <tbody>\n",
              "    <tr>\n",
              "      <th>count</th>\n",
              "      <td>2069</td>\n",
              "      <td>2069</td>\n",
              "      <td>694</td>\n",
              "      <td>734</td>\n",
              "      <td>2069.000000</td>\n",
              "      <td>2069</td>\n",
              "      <td>2058</td>\n",
              "      <td>2068</td>\n",
              "      <td>2069</td>\n",
              "      <td>2069</td>\n",
              "      <td>...</td>\n",
              "      <td>1768</td>\n",
              "      <td>2055</td>\n",
              "      <td>2055</td>\n",
              "      <td>2061</td>\n",
              "      <td>1761</td>\n",
              "      <td>1913</td>\n",
              "      <td>1645</td>\n",
              "      <td>1979</td>\n",
              "      <td>1409</td>\n",
              "      <td>1096</td>\n",
              "    </tr>\n",
              "    <tr>\n",
              "      <th>unique</th>\n",
              "      <td>2068</td>\n",
              "      <td>2009</td>\n",
              "      <td>17</td>\n",
              "      <td>4</td>\n",
              "      <td>NaN</td>\n",
              "      <td>1745</td>\n",
              "      <td>4</td>\n",
              "      <td>1777</td>\n",
              "      <td>936</td>\n",
              "      <td>52</td>\n",
              "      <td>...</td>\n",
              "      <td>3</td>\n",
              "      <td>2</td>\n",
              "      <td>2</td>\n",
              "      <td>3</td>\n",
              "      <td>2</td>\n",
              "      <td>3</td>\n",
              "      <td>2</td>\n",
              "      <td>2</td>\n",
              "      <td>53</td>\n",
              "      <td>2</td>\n",
              "    </tr>\n",
              "    <tr>\n",
              "      <th>top</th>\n",
              "      <td>20210902CASAL</td>\n",
              "      <td>https://www.columbine-angels.com/School_Violen...</td>\n",
              "      <td>2</td>\n",
              "      <td>Local</td>\n",
              "      <td>NaN</td>\n",
              "      <td>2021-09-02 00:00:00</td>\n",
              "      <td>Fall</td>\n",
              "      <td>Central High School</td>\n",
              "      <td>Chicago</td>\n",
              "      <td>CA</td>\n",
              "      <td>...</td>\n",
              "      <td>No</td>\n",
              "      <td>No</td>\n",
              "      <td>No</td>\n",
              "      <td>No</td>\n",
              "      <td>No</td>\n",
              "      <td>No</td>\n",
              "      <td>No</td>\n",
              "      <td>No</td>\n",
              "      <td>1</td>\n",
              "      <td>No</td>\n",
              "    </tr>\n",
              "    <tr>\n",
              "      <th>freq</th>\n",
              "      <td>2</td>\n",
              "      <td>15</td>\n",
              "      <td>128</td>\n",
              "      <td>504</td>\n",
              "      <td>NaN</td>\n",
              "      <td>6</td>\n",
              "      <td>699</td>\n",
              "      <td>17</td>\n",
              "      <td>63</td>\n",
              "      <td>215</td>\n",
              "      <td>...</td>\n",
              "      <td>1357</td>\n",
              "      <td>2003</td>\n",
              "      <td>2011</td>\n",
              "      <td>2016</td>\n",
              "      <td>1680</td>\n",
              "      <td>1795</td>\n",
              "      <td>1408</td>\n",
              "      <td>1882</td>\n",
              "      <td>629</td>\n",
              "      <td>905</td>\n",
              "    </tr>\n",
              "    <tr>\n",
              "      <th>first</th>\n",
              "      <td>NaN</td>\n",
              "      <td>NaN</td>\n",
              "      <td>NaN</td>\n",
              "      <td>NaN</td>\n",
              "      <td>NaN</td>\n",
              "      <td>1970-01-05 00:00:00</td>\n",
              "      <td>NaN</td>\n",
              "      <td>NaN</td>\n",
              "      <td>NaN</td>\n",
              "      <td>NaN</td>\n",
              "      <td>...</td>\n",
              "      <td>NaN</td>\n",
              "      <td>NaN</td>\n",
              "      <td>NaN</td>\n",
              "      <td>NaN</td>\n",
              "      <td>NaN</td>\n",
              "      <td>NaN</td>\n",
              "      <td>NaN</td>\n",
              "      <td>NaN</td>\n",
              "      <td>NaN</td>\n",
              "      <td>NaN</td>\n",
              "    </tr>\n",
              "    <tr>\n",
              "      <th>last</th>\n",
              "      <td>NaN</td>\n",
              "      <td>NaN</td>\n",
              "      <td>NaN</td>\n",
              "      <td>NaN</td>\n",
              "      <td>NaN</td>\n",
              "      <td>2022-06-20 00:00:00</td>\n",
              "      <td>NaN</td>\n",
              "      <td>NaN</td>\n",
              "      <td>NaN</td>\n",
              "      <td>NaN</td>\n",
              "      <td>...</td>\n",
              "      <td>NaN</td>\n",
              "      <td>NaN</td>\n",
              "      <td>NaN</td>\n",
              "      <td>NaN</td>\n",
              "      <td>NaN</td>\n",
              "      <td>NaN</td>\n",
              "      <td>NaN</td>\n",
              "      <td>NaN</td>\n",
              "      <td>NaN</td>\n",
              "      <td>NaN</td>\n",
              "    </tr>\n",
              "    <tr>\n",
              "      <th>mean</th>\n",
              "      <td>NaN</td>\n",
              "      <td>NaN</td>\n",
              "      <td>NaN</td>\n",
              "      <td>NaN</td>\n",
              "      <td>2.766554</td>\n",
              "      <td>NaN</td>\n",
              "      <td>NaN</td>\n",
              "      <td>NaN</td>\n",
              "      <td>NaN</td>\n",
              "      <td>NaN</td>\n",
              "      <td>...</td>\n",
              "      <td>NaN</td>\n",
              "      <td>NaN</td>\n",
              "      <td>NaN</td>\n",
              "      <td>NaN</td>\n",
              "      <td>NaN</td>\n",
              "      <td>NaN</td>\n",
              "      <td>NaN</td>\n",
              "      <td>NaN</td>\n",
              "      <td>NaN</td>\n",
              "      <td>NaN</td>\n",
              "    </tr>\n",
              "    <tr>\n",
              "      <th>std</th>\n",
              "      <td>NaN</td>\n",
              "      <td>NaN</td>\n",
              "      <td>NaN</td>\n",
              "      <td>NaN</td>\n",
              "      <td>0.996184</td>\n",
              "      <td>NaN</td>\n",
              "      <td>NaN</td>\n",
              "      <td>NaN</td>\n",
              "      <td>NaN</td>\n",
              "      <td>NaN</td>\n",
              "      <td>...</td>\n",
              "      <td>NaN</td>\n",
              "      <td>NaN</td>\n",
              "      <td>NaN</td>\n",
              "      <td>NaN</td>\n",
              "      <td>NaN</td>\n",
              "      <td>NaN</td>\n",
              "      <td>NaN</td>\n",
              "      <td>NaN</td>\n",
              "      <td>NaN</td>\n",
              "      <td>NaN</td>\n",
              "    </tr>\n",
              "    <tr>\n",
              "      <th>min</th>\n",
              "      <td>NaN</td>\n",
              "      <td>NaN</td>\n",
              "      <td>NaN</td>\n",
              "      <td>NaN</td>\n",
              "      <td>1.000000</td>\n",
              "      <td>NaN</td>\n",
              "      <td>NaN</td>\n",
              "      <td>NaN</td>\n",
              "      <td>NaN</td>\n",
              "      <td>NaN</td>\n",
              "      <td>...</td>\n",
              "      <td>NaN</td>\n",
              "      <td>NaN</td>\n",
              "      <td>NaN</td>\n",
              "      <td>NaN</td>\n",
              "      <td>NaN</td>\n",
              "      <td>NaN</td>\n",
              "      <td>NaN</td>\n",
              "      <td>NaN</td>\n",
              "      <td>NaN</td>\n",
              "      <td>NaN</td>\n",
              "    </tr>\n",
              "    <tr>\n",
              "      <th>25%</th>\n",
              "      <td>NaN</td>\n",
              "      <td>NaN</td>\n",
              "      <td>NaN</td>\n",
              "      <td>NaN</td>\n",
              "      <td>2.000000</td>\n",
              "      <td>NaN</td>\n",
              "      <td>NaN</td>\n",
              "      <td>NaN</td>\n",
              "      <td>NaN</td>\n",
              "      <td>NaN</td>\n",
              "      <td>...</td>\n",
              "      <td>NaN</td>\n",
              "      <td>NaN</td>\n",
              "      <td>NaN</td>\n",
              "      <td>NaN</td>\n",
              "      <td>NaN</td>\n",
              "      <td>NaN</td>\n",
              "      <td>NaN</td>\n",
              "      <td>NaN</td>\n",
              "      <td>NaN</td>\n",
              "      <td>NaN</td>\n",
              "    </tr>\n",
              "    <tr>\n",
              "      <th>50%</th>\n",
              "      <td>NaN</td>\n",
              "      <td>NaN</td>\n",
              "      <td>NaN</td>\n",
              "      <td>NaN</td>\n",
              "      <td>2.000000</td>\n",
              "      <td>NaN</td>\n",
              "      <td>NaN</td>\n",
              "      <td>NaN</td>\n",
              "      <td>NaN</td>\n",
              "      <td>NaN</td>\n",
              "      <td>...</td>\n",
              "      <td>NaN</td>\n",
              "      <td>NaN</td>\n",
              "      <td>NaN</td>\n",
              "      <td>NaN</td>\n",
              "      <td>NaN</td>\n",
              "      <td>NaN</td>\n",
              "      <td>NaN</td>\n",
              "      <td>NaN</td>\n",
              "      <td>NaN</td>\n",
              "      <td>NaN</td>\n",
              "    </tr>\n",
              "    <tr>\n",
              "      <th>75%</th>\n",
              "      <td>NaN</td>\n",
              "      <td>NaN</td>\n",
              "      <td>NaN</td>\n",
              "      <td>NaN</td>\n",
              "      <td>4.000000</td>\n",
              "      <td>NaN</td>\n",
              "      <td>NaN</td>\n",
              "      <td>NaN</td>\n",
              "      <td>NaN</td>\n",
              "      <td>NaN</td>\n",
              "      <td>...</td>\n",
              "      <td>NaN</td>\n",
              "      <td>NaN</td>\n",
              "      <td>NaN</td>\n",
              "      <td>NaN</td>\n",
              "      <td>NaN</td>\n",
              "      <td>NaN</td>\n",
              "      <td>NaN</td>\n",
              "      <td>NaN</td>\n",
              "      <td>NaN</td>\n",
              "      <td>NaN</td>\n",
              "    </tr>\n",
              "    <tr>\n",
              "      <th>max</th>\n",
              "      <td>NaN</td>\n",
              "      <td>NaN</td>\n",
              "      <td>NaN</td>\n",
              "      <td>NaN</td>\n",
              "      <td>5.000000</td>\n",
              "      <td>NaN</td>\n",
              "      <td>NaN</td>\n",
              "      <td>NaN</td>\n",
              "      <td>NaN</td>\n",
              "      <td>NaN</td>\n",
              "      <td>...</td>\n",
              "      <td>NaN</td>\n",
              "      <td>NaN</td>\n",
              "      <td>NaN</td>\n",
              "      <td>NaN</td>\n",
              "      <td>NaN</td>\n",
              "      <td>NaN</td>\n",
              "      <td>NaN</td>\n",
              "      <td>NaN</td>\n",
              "      <td>NaN</td>\n",
              "      <td>NaN</td>\n",
              "    </tr>\n",
              "  </tbody>\n",
              "</table>\n",
              "<p>13 rows × 30 columns</p>\n",
              "</div>\n",
              "      <button class=\"colab-df-convert\" onclick=\"convertToInteractive('df-227eab8a-afed-44a6-b7e4-a8c8c18ef34a')\"\n",
              "              title=\"Convert this dataframe to an interactive table.\"\n",
              "              style=\"display:none;\">\n",
              "        \n",
              "  <svg xmlns=\"http://www.w3.org/2000/svg\" height=\"24px\"viewBox=\"0 0 24 24\"\n",
              "       width=\"24px\">\n",
              "    <path d=\"M0 0h24v24H0V0z\" fill=\"none\"/>\n",
              "    <path d=\"M18.56 5.44l.94 2.06.94-2.06 2.06-.94-2.06-.94-.94-2.06-.94 2.06-2.06.94zm-11 1L8.5 8.5l.94-2.06 2.06-.94-2.06-.94L8.5 2.5l-.94 2.06-2.06.94zm10 10l.94 2.06.94-2.06 2.06-.94-2.06-.94-.94-2.06-.94 2.06-2.06.94z\"/><path d=\"M17.41 7.96l-1.37-1.37c-.4-.4-.92-.59-1.43-.59-.52 0-1.04.2-1.43.59L10.3 9.45l-7.72 7.72c-.78.78-.78 2.05 0 2.83L4 21.41c.39.39.9.59 1.41.59.51 0 1.02-.2 1.41-.59l7.78-7.78 2.81-2.81c.8-.78.8-2.07 0-2.86zM5.41 20L4 18.59l7.72-7.72 1.47 1.35L5.41 20z\"/>\n",
              "  </svg>\n",
              "      </button>\n",
              "      \n",
              "  <style>\n",
              "    .colab-df-container {\n",
              "      display:flex;\n",
              "      flex-wrap:wrap;\n",
              "      gap: 12px;\n",
              "    }\n",
              "\n",
              "    .colab-df-convert {\n",
              "      background-color: #E8F0FE;\n",
              "      border: none;\n",
              "      border-radius: 50%;\n",
              "      cursor: pointer;\n",
              "      display: none;\n",
              "      fill: #1967D2;\n",
              "      height: 32px;\n",
              "      padding: 0 0 0 0;\n",
              "      width: 32px;\n",
              "    }\n",
              "\n",
              "    .colab-df-convert:hover {\n",
              "      background-color: #E2EBFA;\n",
              "      box-shadow: 0px 1px 2px rgba(60, 64, 67, 0.3), 0px 1px 3px 1px rgba(60, 64, 67, 0.15);\n",
              "      fill: #174EA6;\n",
              "    }\n",
              "\n",
              "    [theme=dark] .colab-df-convert {\n",
              "      background-color: #3B4455;\n",
              "      fill: #D2E3FC;\n",
              "    }\n",
              "\n",
              "    [theme=dark] .colab-df-convert:hover {\n",
              "      background-color: #434B5C;\n",
              "      box-shadow: 0px 1px 3px 1px rgba(0, 0, 0, 0.15);\n",
              "      filter: drop-shadow(0px 1px 2px rgba(0, 0, 0, 0.3));\n",
              "      fill: #FFFFFF;\n",
              "    }\n",
              "  </style>\n",
              "\n",
              "      <script>\n",
              "        const buttonEl =\n",
              "          document.querySelector('#df-227eab8a-afed-44a6-b7e4-a8c8c18ef34a button.colab-df-convert');\n",
              "        buttonEl.style.display =\n",
              "          google.colab.kernel.accessAllowed ? 'block' : 'none';\n",
              "\n",
              "        async function convertToInteractive(key) {\n",
              "          const element = document.querySelector('#df-227eab8a-afed-44a6-b7e4-a8c8c18ef34a');\n",
              "          const dataTable =\n",
              "            await google.colab.kernel.invokeFunction('convertToInteractive',\n",
              "                                                     [key], {});\n",
              "          if (!dataTable) return;\n",
              "\n",
              "          const docLinkHtml = 'Like what you see? Visit the ' +\n",
              "            '<a target=\"_blank\" href=https://colab.research.google.com/notebooks/data_table.ipynb>data table notebook</a>'\n",
              "            + ' to learn more about interactive tables.';\n",
              "          element.innerHTML = '';\n",
              "          dataTable['output_type'] = 'display_data';\n",
              "          await google.colab.output.renderOutput(dataTable, element);\n",
              "          const docLink = document.createElement('div');\n",
              "          docLink.innerHTML = docLinkHtml;\n",
              "          element.appendChild(docLink);\n",
              "        }\n",
              "      </script>\n",
              "    </div>\n",
              "  </div>\n",
              "  "
            ]
          },
          "metadata": {},
          "execution_count": 113
        }
      ]
    },
    {
      "cell_type": "code",
      "source": [
        "df_incid.head()"
      ],
      "metadata": {
        "colab": {
          "base_uri": "https://localhost:8080/",
          "height": 490
        },
        "id": "fYdmLyec0ysy",
        "outputId": "8cc76756-1965-4edd-bb65-17418c46a32f"
      },
      "execution_count": 114,
      "outputs": [
        {
          "output_type": "execute_result",
          "data": {
            "text/plain": [
              "     Incident_ID                                            Sources  \\\n",
              "0  20220620ILGRC  https://www.cbsnews.com/chicago/news/woman-and...   \n",
              "1  20220613WAMAE  https://www.q13fox.com/news/deputies-arrest-15...   \n",
              "2  20220610ALBYB  https://www.actionnews5.com/2022/06/10/student...   \n",
              "3  20220609ALWAG  https://www.live5news.com/2022/06/09/potential...   \n",
              "4  20220608ARLIL  https://www.kark.com/crime/lrpd-school-bus-hit...   \n",
              "\n",
              "  Number_News Media_Attention  Reliability       Date Quarter  \\\n",
              "0          50        National            4 2022-06-20  Summer   \n",
              "1           5           Local            4 2022-06-13  Summer   \n",
              "2           3           Local            4 2022-06-10  Summer   \n",
              "3         100        National            4 2022-06-09  Summer   \n",
              "4           5        National            4 2022-06-08  Summer   \n",
              "\n",
              "                            School         City State  ... Accomplice  \\\n",
              "0     Gresham School of Excellence      Chicago    IL  ...         No   \n",
              "1              Mariner High School      Everett    WA  ...         No   \n",
              "2              Byhalia High School      Byhalia    MS  ...        NaN   \n",
              "3    Walnut Park Elementary School      Gadsden    AL  ...        NaN   \n",
              "4  Little Rock School District Bus  Little Rock    AR  ...        NaN   \n",
              "\n",
              "  Hostages Barricade Officer_Involved Bullied Domestic_Violence Gang_Related  \\\n",
              "0       No        No               No      No                No          NaN   \n",
              "1       No        No               No      No                No          NaN   \n",
              "2       No        No               No      No                No          NaN   \n",
              "3      NaN       NaN              NaN     NaN               NaN          NaN   \n",
              "4       No        No               No      No                No          NaN   \n",
              "\n",
              "  Preplanned Shots_Fired Active_Shooter_FBI  \n",
              "0         No         100                 No  \n",
              "1         No          99                 No  \n",
              "2         No           1                 No  \n",
              "3        NaN         NaN                 No  \n",
              "4         No          99                 No  \n",
              "\n",
              "[5 rows x 30 columns]"
            ],
            "text/html": [
              "\n",
              "  <div id=\"df-86e822e9-e2df-49fb-904b-bef788d9d1ef\">\n",
              "    <div class=\"colab-df-container\">\n",
              "      <div>\n",
              "<style scoped>\n",
              "    .dataframe tbody tr th:only-of-type {\n",
              "        vertical-align: middle;\n",
              "    }\n",
              "\n",
              "    .dataframe tbody tr th {\n",
              "        vertical-align: top;\n",
              "    }\n",
              "\n",
              "    .dataframe thead th {\n",
              "        text-align: right;\n",
              "    }\n",
              "</style>\n",
              "<table border=\"1\" class=\"dataframe\">\n",
              "  <thead>\n",
              "    <tr style=\"text-align: right;\">\n",
              "      <th></th>\n",
              "      <th>Incident_ID</th>\n",
              "      <th>Sources</th>\n",
              "      <th>Number_News</th>\n",
              "      <th>Media_Attention</th>\n",
              "      <th>Reliability</th>\n",
              "      <th>Date</th>\n",
              "      <th>Quarter</th>\n",
              "      <th>School</th>\n",
              "      <th>City</th>\n",
              "      <th>State</th>\n",
              "      <th>...</th>\n",
              "      <th>Accomplice</th>\n",
              "      <th>Hostages</th>\n",
              "      <th>Barricade</th>\n",
              "      <th>Officer_Involved</th>\n",
              "      <th>Bullied</th>\n",
              "      <th>Domestic_Violence</th>\n",
              "      <th>Gang_Related</th>\n",
              "      <th>Preplanned</th>\n",
              "      <th>Shots_Fired</th>\n",
              "      <th>Active_Shooter_FBI</th>\n",
              "    </tr>\n",
              "  </thead>\n",
              "  <tbody>\n",
              "    <tr>\n",
              "      <th>0</th>\n",
              "      <td>20220620ILGRC</td>\n",
              "      <td>https://www.cbsnews.com/chicago/news/woman-and...</td>\n",
              "      <td>50</td>\n",
              "      <td>National</td>\n",
              "      <td>4</td>\n",
              "      <td>2022-06-20</td>\n",
              "      <td>Summer</td>\n",
              "      <td>Gresham School of Excellence</td>\n",
              "      <td>Chicago</td>\n",
              "      <td>IL</td>\n",
              "      <td>...</td>\n",
              "      <td>No</td>\n",
              "      <td>No</td>\n",
              "      <td>No</td>\n",
              "      <td>No</td>\n",
              "      <td>No</td>\n",
              "      <td>No</td>\n",
              "      <td>NaN</td>\n",
              "      <td>No</td>\n",
              "      <td>100</td>\n",
              "      <td>No</td>\n",
              "    </tr>\n",
              "    <tr>\n",
              "      <th>1</th>\n",
              "      <td>20220613WAMAE</td>\n",
              "      <td>https://www.q13fox.com/news/deputies-arrest-15...</td>\n",
              "      <td>5</td>\n",
              "      <td>Local</td>\n",
              "      <td>4</td>\n",
              "      <td>2022-06-13</td>\n",
              "      <td>Summer</td>\n",
              "      <td>Mariner High School</td>\n",
              "      <td>Everett</td>\n",
              "      <td>WA</td>\n",
              "      <td>...</td>\n",
              "      <td>No</td>\n",
              "      <td>No</td>\n",
              "      <td>No</td>\n",
              "      <td>No</td>\n",
              "      <td>No</td>\n",
              "      <td>No</td>\n",
              "      <td>NaN</td>\n",
              "      <td>No</td>\n",
              "      <td>99</td>\n",
              "      <td>No</td>\n",
              "    </tr>\n",
              "    <tr>\n",
              "      <th>2</th>\n",
              "      <td>20220610ALBYB</td>\n",
              "      <td>https://www.actionnews5.com/2022/06/10/student...</td>\n",
              "      <td>3</td>\n",
              "      <td>Local</td>\n",
              "      <td>4</td>\n",
              "      <td>2022-06-10</td>\n",
              "      <td>Summer</td>\n",
              "      <td>Byhalia High School</td>\n",
              "      <td>Byhalia</td>\n",
              "      <td>MS</td>\n",
              "      <td>...</td>\n",
              "      <td>NaN</td>\n",
              "      <td>No</td>\n",
              "      <td>No</td>\n",
              "      <td>No</td>\n",
              "      <td>No</td>\n",
              "      <td>No</td>\n",
              "      <td>NaN</td>\n",
              "      <td>No</td>\n",
              "      <td>1</td>\n",
              "      <td>No</td>\n",
              "    </tr>\n",
              "    <tr>\n",
              "      <th>3</th>\n",
              "      <td>20220609ALWAG</td>\n",
              "      <td>https://www.live5news.com/2022/06/09/potential...</td>\n",
              "      <td>100</td>\n",
              "      <td>National</td>\n",
              "      <td>4</td>\n",
              "      <td>2022-06-09</td>\n",
              "      <td>Summer</td>\n",
              "      <td>Walnut Park Elementary School</td>\n",
              "      <td>Gadsden</td>\n",
              "      <td>AL</td>\n",
              "      <td>...</td>\n",
              "      <td>NaN</td>\n",
              "      <td>NaN</td>\n",
              "      <td>NaN</td>\n",
              "      <td>NaN</td>\n",
              "      <td>NaN</td>\n",
              "      <td>NaN</td>\n",
              "      <td>NaN</td>\n",
              "      <td>NaN</td>\n",
              "      <td>NaN</td>\n",
              "      <td>No</td>\n",
              "    </tr>\n",
              "    <tr>\n",
              "      <th>4</th>\n",
              "      <td>20220608ARLIL</td>\n",
              "      <td>https://www.kark.com/crime/lrpd-school-bus-hit...</td>\n",
              "      <td>5</td>\n",
              "      <td>National</td>\n",
              "      <td>4</td>\n",
              "      <td>2022-06-08</td>\n",
              "      <td>Summer</td>\n",
              "      <td>Little Rock School District Bus</td>\n",
              "      <td>Little Rock</td>\n",
              "      <td>AR</td>\n",
              "      <td>...</td>\n",
              "      <td>NaN</td>\n",
              "      <td>No</td>\n",
              "      <td>No</td>\n",
              "      <td>No</td>\n",
              "      <td>No</td>\n",
              "      <td>No</td>\n",
              "      <td>NaN</td>\n",
              "      <td>No</td>\n",
              "      <td>99</td>\n",
              "      <td>No</td>\n",
              "    </tr>\n",
              "  </tbody>\n",
              "</table>\n",
              "<p>5 rows × 30 columns</p>\n",
              "</div>\n",
              "      <button class=\"colab-df-convert\" onclick=\"convertToInteractive('df-86e822e9-e2df-49fb-904b-bef788d9d1ef')\"\n",
              "              title=\"Convert this dataframe to an interactive table.\"\n",
              "              style=\"display:none;\">\n",
              "        \n",
              "  <svg xmlns=\"http://www.w3.org/2000/svg\" height=\"24px\"viewBox=\"0 0 24 24\"\n",
              "       width=\"24px\">\n",
              "    <path d=\"M0 0h24v24H0V0z\" fill=\"none\"/>\n",
              "    <path d=\"M18.56 5.44l.94 2.06.94-2.06 2.06-.94-2.06-.94-.94-2.06-.94 2.06-2.06.94zm-11 1L8.5 8.5l.94-2.06 2.06-.94-2.06-.94L8.5 2.5l-.94 2.06-2.06.94zm10 10l.94 2.06.94-2.06 2.06-.94-2.06-.94-.94-2.06-.94 2.06-2.06.94z\"/><path d=\"M17.41 7.96l-1.37-1.37c-.4-.4-.92-.59-1.43-.59-.52 0-1.04.2-1.43.59L10.3 9.45l-7.72 7.72c-.78.78-.78 2.05 0 2.83L4 21.41c.39.39.9.59 1.41.59.51 0 1.02-.2 1.41-.59l7.78-7.78 2.81-2.81c.8-.78.8-2.07 0-2.86zM5.41 20L4 18.59l7.72-7.72 1.47 1.35L5.41 20z\"/>\n",
              "  </svg>\n",
              "      </button>\n",
              "      \n",
              "  <style>\n",
              "    .colab-df-container {\n",
              "      display:flex;\n",
              "      flex-wrap:wrap;\n",
              "      gap: 12px;\n",
              "    }\n",
              "\n",
              "    .colab-df-convert {\n",
              "      background-color: #E8F0FE;\n",
              "      border: none;\n",
              "      border-radius: 50%;\n",
              "      cursor: pointer;\n",
              "      display: none;\n",
              "      fill: #1967D2;\n",
              "      height: 32px;\n",
              "      padding: 0 0 0 0;\n",
              "      width: 32px;\n",
              "    }\n",
              "\n",
              "    .colab-df-convert:hover {\n",
              "      background-color: #E2EBFA;\n",
              "      box-shadow: 0px 1px 2px rgba(60, 64, 67, 0.3), 0px 1px 3px 1px rgba(60, 64, 67, 0.15);\n",
              "      fill: #174EA6;\n",
              "    }\n",
              "\n",
              "    [theme=dark] .colab-df-convert {\n",
              "      background-color: #3B4455;\n",
              "      fill: #D2E3FC;\n",
              "    }\n",
              "\n",
              "    [theme=dark] .colab-df-convert:hover {\n",
              "      background-color: #434B5C;\n",
              "      box-shadow: 0px 1px 3px 1px rgba(0, 0, 0, 0.15);\n",
              "      filter: drop-shadow(0px 1px 2px rgba(0, 0, 0, 0.3));\n",
              "      fill: #FFFFFF;\n",
              "    }\n",
              "  </style>\n",
              "\n",
              "      <script>\n",
              "        const buttonEl =\n",
              "          document.querySelector('#df-86e822e9-e2df-49fb-904b-bef788d9d1ef button.colab-df-convert');\n",
              "        buttonEl.style.display =\n",
              "          google.colab.kernel.accessAllowed ? 'block' : 'none';\n",
              "\n",
              "        async function convertToInteractive(key) {\n",
              "          const element = document.querySelector('#df-86e822e9-e2df-49fb-904b-bef788d9d1ef');\n",
              "          const dataTable =\n",
              "            await google.colab.kernel.invokeFunction('convertToInteractive',\n",
              "                                                     [key], {});\n",
              "          if (!dataTable) return;\n",
              "\n",
              "          const docLinkHtml = 'Like what you see? Visit the ' +\n",
              "            '<a target=\"_blank\" href=https://colab.research.google.com/notebooks/data_table.ipynb>data table notebook</a>'\n",
              "            + ' to learn more about interactive tables.';\n",
              "          element.innerHTML = '';\n",
              "          dataTable['output_type'] = 'display_data';\n",
              "          await google.colab.output.renderOutput(dataTable, element);\n",
              "          const docLink = document.createElement('div');\n",
              "          docLink.innerHTML = docLinkHtml;\n",
              "          element.appendChild(docLink);\n",
              "        }\n",
              "      </script>\n",
              "    </div>\n",
              "  </div>\n",
              "  "
            ]
          },
          "metadata": {},
          "execution_count": 114
        }
      ]
    },
    {
      "cell_type": "code",
      "source": [
        "df_incid.info()"
      ],
      "metadata": {
        "colab": {
          "base_uri": "https://localhost:8080/"
        },
        "id": "LQMKAoJr1prm",
        "outputId": "127a58f5-b30b-4d2d-a3e8-a539d6d2337f"
      },
      "execution_count": 115,
      "outputs": [
        {
          "output_type": "stream",
          "name": "stdout",
          "text": [
            "<class 'pandas.core.frame.DataFrame'>\n",
            "RangeIndex: 2069 entries, 0 to 2068\n",
            "Data columns (total 30 columns):\n",
            " #   Column              Non-Null Count  Dtype         \n",
            "---  ------              --------------  -----         \n",
            " 0   Incident_ID         2069 non-null   object        \n",
            " 1   Sources             2069 non-null   object        \n",
            " 2   Number_News         694 non-null    object        \n",
            " 3   Media_Attention     734 non-null    object        \n",
            " 4   Reliability         2069 non-null   int64         \n",
            " 5   Date                2069 non-null   datetime64[ns]\n",
            " 6   Quarter             2058 non-null   object        \n",
            " 7   School              2068 non-null   object        \n",
            " 8   City                2069 non-null   object        \n",
            " 9   State               2069 non-null   object        \n",
            " 10  School_Level        2045 non-null   object        \n",
            " 11  Location            2066 non-null   object        \n",
            " 12  Location_Type       2064 non-null   object        \n",
            " 13  During_School       2047 non-null   object        \n",
            " 14  Time_Period         1905 non-null   object        \n",
            " 15  First_Shot          1594 non-null   object        \n",
            " 16  Summary             2069 non-null   object        \n",
            " 17  Narrative           2054 non-null   object        \n",
            " 18  Situation           1906 non-null   object        \n",
            " 19  Targets             1763 non-null   object        \n",
            " 20  Accomplice          1768 non-null   object        \n",
            " 21  Hostages            2055 non-null   object        \n",
            " 22  Barricade           2055 non-null   object        \n",
            " 23  Officer_Involved    2061 non-null   object        \n",
            " 24  Bullied             1761 non-null   object        \n",
            " 25  Domestic_Violence   1913 non-null   object        \n",
            " 26  Gang_Related        1645 non-null   object        \n",
            " 27  Preplanned          1979 non-null   object        \n",
            " 28  Shots_Fired         1409 non-null   object        \n",
            " 29  Active_Shooter_FBI  1096 non-null   object        \n",
            "dtypes: datetime64[ns](1), int64(1), object(28)\n",
            "memory usage: 485.0+ KB\n"
          ]
        }
      ]
    },
    {
      "cell_type": "code",
      "source": [
        "df_shoot.head()"
      ],
      "metadata": {
        "colab": {
          "base_uri": "https://localhost:8080/",
          "height": 206
        },
        "id": "g9NXI-Pl1C1m",
        "outputId": "11b2b236-7176-4b42-a25f-11fb916e5001"
      },
      "execution_count": 116,
      "outputs": [
        {
          "output_type": "execute_result",
          "data": {
            "text/plain": [
              "      incidentid   age gender race   schoolaffiliation    shooteroutcome  \\\n",
              "0  20220620ILGRC   NaN    NaN  NaN         No Relation      Fled/Escaped   \n",
              "1  20220613WAMAE    15   Male  NaN             Student  Fled/Apprehended   \n",
              "2  20220610ALBYB  Teen   Male  NaN             Student  Fled/Apprehended   \n",
              "3  20220609ALWAG   NaN    NaN  NaN  Police Officer/SRO   Law Enforcement   \n",
              "4  20220608ARLIL   NaN    NaN  NaN         No Relation      Fled/Escaped   \n",
              "\n",
              "  shooterdied injury                                       chargesfiled  \\\n",
              "0          No   None                                                NaN   \n",
              "1          No   None  unlawful possession of a firearm, disturbing s...   \n",
              "2          No   None                                                NaN   \n",
              "3          No   None                                                NaN   \n",
              "4          No   None                                                NaN   \n",
              "\n",
              "  verdict minorchargedadult criminalhistory  \n",
              "0     NaN               NaN             NaN  \n",
              "1     NaN               NaN             NaN  \n",
              "2     NaN               NaN             NaN  \n",
              "3     NaN               NaN             NaN  \n",
              "4     NaN               NaN             NaN  "
            ],
            "text/html": [
              "\n",
              "  <div id=\"df-af211eed-b6eb-42aa-ad2e-fe2a2c893e14\">\n",
              "    <div class=\"colab-df-container\">\n",
              "      <div>\n",
              "<style scoped>\n",
              "    .dataframe tbody tr th:only-of-type {\n",
              "        vertical-align: middle;\n",
              "    }\n",
              "\n",
              "    .dataframe tbody tr th {\n",
              "        vertical-align: top;\n",
              "    }\n",
              "\n",
              "    .dataframe thead th {\n",
              "        text-align: right;\n",
              "    }\n",
              "</style>\n",
              "<table border=\"1\" class=\"dataframe\">\n",
              "  <thead>\n",
              "    <tr style=\"text-align: right;\">\n",
              "      <th></th>\n",
              "      <th>incidentid</th>\n",
              "      <th>age</th>\n",
              "      <th>gender</th>\n",
              "      <th>race</th>\n",
              "      <th>schoolaffiliation</th>\n",
              "      <th>shooteroutcome</th>\n",
              "      <th>shooterdied</th>\n",
              "      <th>injury</th>\n",
              "      <th>chargesfiled</th>\n",
              "      <th>verdict</th>\n",
              "      <th>minorchargedadult</th>\n",
              "      <th>criminalhistory</th>\n",
              "    </tr>\n",
              "  </thead>\n",
              "  <tbody>\n",
              "    <tr>\n",
              "      <th>0</th>\n",
              "      <td>20220620ILGRC</td>\n",
              "      <td>NaN</td>\n",
              "      <td>NaN</td>\n",
              "      <td>NaN</td>\n",
              "      <td>No Relation</td>\n",
              "      <td>Fled/Escaped</td>\n",
              "      <td>No</td>\n",
              "      <td>None</td>\n",
              "      <td>NaN</td>\n",
              "      <td>NaN</td>\n",
              "      <td>NaN</td>\n",
              "      <td>NaN</td>\n",
              "    </tr>\n",
              "    <tr>\n",
              "      <th>1</th>\n",
              "      <td>20220613WAMAE</td>\n",
              "      <td>15</td>\n",
              "      <td>Male</td>\n",
              "      <td>NaN</td>\n",
              "      <td>Student</td>\n",
              "      <td>Fled/Apprehended</td>\n",
              "      <td>No</td>\n",
              "      <td>None</td>\n",
              "      <td>unlawful possession of a firearm, disturbing s...</td>\n",
              "      <td>NaN</td>\n",
              "      <td>NaN</td>\n",
              "      <td>NaN</td>\n",
              "    </tr>\n",
              "    <tr>\n",
              "      <th>2</th>\n",
              "      <td>20220610ALBYB</td>\n",
              "      <td>Teen</td>\n",
              "      <td>Male</td>\n",
              "      <td>NaN</td>\n",
              "      <td>Student</td>\n",
              "      <td>Fled/Apprehended</td>\n",
              "      <td>No</td>\n",
              "      <td>None</td>\n",
              "      <td>NaN</td>\n",
              "      <td>NaN</td>\n",
              "      <td>NaN</td>\n",
              "      <td>NaN</td>\n",
              "    </tr>\n",
              "    <tr>\n",
              "      <th>3</th>\n",
              "      <td>20220609ALWAG</td>\n",
              "      <td>NaN</td>\n",
              "      <td>NaN</td>\n",
              "      <td>NaN</td>\n",
              "      <td>Police Officer/SRO</td>\n",
              "      <td>Law Enforcement</td>\n",
              "      <td>No</td>\n",
              "      <td>None</td>\n",
              "      <td>NaN</td>\n",
              "      <td>NaN</td>\n",
              "      <td>NaN</td>\n",
              "      <td>NaN</td>\n",
              "    </tr>\n",
              "    <tr>\n",
              "      <th>4</th>\n",
              "      <td>20220608ARLIL</td>\n",
              "      <td>NaN</td>\n",
              "      <td>NaN</td>\n",
              "      <td>NaN</td>\n",
              "      <td>No Relation</td>\n",
              "      <td>Fled/Escaped</td>\n",
              "      <td>No</td>\n",
              "      <td>None</td>\n",
              "      <td>NaN</td>\n",
              "      <td>NaN</td>\n",
              "      <td>NaN</td>\n",
              "      <td>NaN</td>\n",
              "    </tr>\n",
              "  </tbody>\n",
              "</table>\n",
              "</div>\n",
              "      <button class=\"colab-df-convert\" onclick=\"convertToInteractive('df-af211eed-b6eb-42aa-ad2e-fe2a2c893e14')\"\n",
              "              title=\"Convert this dataframe to an interactive table.\"\n",
              "              style=\"display:none;\">\n",
              "        \n",
              "  <svg xmlns=\"http://www.w3.org/2000/svg\" height=\"24px\"viewBox=\"0 0 24 24\"\n",
              "       width=\"24px\">\n",
              "    <path d=\"M0 0h24v24H0V0z\" fill=\"none\"/>\n",
              "    <path d=\"M18.56 5.44l.94 2.06.94-2.06 2.06-.94-2.06-.94-.94-2.06-.94 2.06-2.06.94zm-11 1L8.5 8.5l.94-2.06 2.06-.94-2.06-.94L8.5 2.5l-.94 2.06-2.06.94zm10 10l.94 2.06.94-2.06 2.06-.94-2.06-.94-.94-2.06-.94 2.06-2.06.94z\"/><path d=\"M17.41 7.96l-1.37-1.37c-.4-.4-.92-.59-1.43-.59-.52 0-1.04.2-1.43.59L10.3 9.45l-7.72 7.72c-.78.78-.78 2.05 0 2.83L4 21.41c.39.39.9.59 1.41.59.51 0 1.02-.2 1.41-.59l7.78-7.78 2.81-2.81c.8-.78.8-2.07 0-2.86zM5.41 20L4 18.59l7.72-7.72 1.47 1.35L5.41 20z\"/>\n",
              "  </svg>\n",
              "      </button>\n",
              "      \n",
              "  <style>\n",
              "    .colab-df-container {\n",
              "      display:flex;\n",
              "      flex-wrap:wrap;\n",
              "      gap: 12px;\n",
              "    }\n",
              "\n",
              "    .colab-df-convert {\n",
              "      background-color: #E8F0FE;\n",
              "      border: none;\n",
              "      border-radius: 50%;\n",
              "      cursor: pointer;\n",
              "      display: none;\n",
              "      fill: #1967D2;\n",
              "      height: 32px;\n",
              "      padding: 0 0 0 0;\n",
              "      width: 32px;\n",
              "    }\n",
              "\n",
              "    .colab-df-convert:hover {\n",
              "      background-color: #E2EBFA;\n",
              "      box-shadow: 0px 1px 2px rgba(60, 64, 67, 0.3), 0px 1px 3px 1px rgba(60, 64, 67, 0.15);\n",
              "      fill: #174EA6;\n",
              "    }\n",
              "\n",
              "    [theme=dark] .colab-df-convert {\n",
              "      background-color: #3B4455;\n",
              "      fill: #D2E3FC;\n",
              "    }\n",
              "\n",
              "    [theme=dark] .colab-df-convert:hover {\n",
              "      background-color: #434B5C;\n",
              "      box-shadow: 0px 1px 3px 1px rgba(0, 0, 0, 0.15);\n",
              "      filter: drop-shadow(0px 1px 2px rgba(0, 0, 0, 0.3));\n",
              "      fill: #FFFFFF;\n",
              "    }\n",
              "  </style>\n",
              "\n",
              "      <script>\n",
              "        const buttonEl =\n",
              "          document.querySelector('#df-af211eed-b6eb-42aa-ad2e-fe2a2c893e14 button.colab-df-convert');\n",
              "        buttonEl.style.display =\n",
              "          google.colab.kernel.accessAllowed ? 'block' : 'none';\n",
              "\n",
              "        async function convertToInteractive(key) {\n",
              "          const element = document.querySelector('#df-af211eed-b6eb-42aa-ad2e-fe2a2c893e14');\n",
              "          const dataTable =\n",
              "            await google.colab.kernel.invokeFunction('convertToInteractive',\n",
              "                                                     [key], {});\n",
              "          if (!dataTable) return;\n",
              "\n",
              "          const docLinkHtml = 'Like what you see? Visit the ' +\n",
              "            '<a target=\"_blank\" href=https://colab.research.google.com/notebooks/data_table.ipynb>data table notebook</a>'\n",
              "            + ' to learn more about interactive tables.';\n",
              "          element.innerHTML = '';\n",
              "          dataTable['output_type'] = 'display_data';\n",
              "          await google.colab.output.renderOutput(dataTable, element);\n",
              "          const docLink = document.createElement('div');\n",
              "          docLink.innerHTML = docLinkHtml;\n",
              "          element.appendChild(docLink);\n",
              "        }\n",
              "      </script>\n",
              "    </div>\n",
              "  </div>\n",
              "  "
            ]
          },
          "metadata": {},
          "execution_count": 116
        }
      ]
    },
    {
      "cell_type": "code",
      "source": [
        "df_victm.head()"
      ],
      "metadata": {
        "colab": {
          "base_uri": "https://localhost:8080/",
          "height": 206
        },
        "id": "MZt3F1gu1Pt0",
        "outputId": "8d3dfc5b-1377-42b2-dccb-f9e7ceeec755"
      },
      "execution_count": 117,
      "outputs": [
        {
          "output_type": "execute_result",
          "data": {
            "text/plain": [
              "      incidentid   race   injury  gender schoolaffiliation age\n",
              "0  20220620ILGRC    NaN  Wounded  Female       No Relation  34\n",
              "1  20220620ILGRC    NaN  Wounded    Male       No Relation  16\n",
              "2  20220620ILGRC    NaN  Wounded  Female       No Relation  17\n",
              "3  20220609ALWAG  Black    Fatal    Male       No Relation  32\n",
              "4  20220605INWEG    NaN  Wounded    Male               NaN  19"
            ],
            "text/html": [
              "\n",
              "  <div id=\"df-6d3f75b2-7368-4d95-a8c8-dcb21d816af2\">\n",
              "    <div class=\"colab-df-container\">\n",
              "      <div>\n",
              "<style scoped>\n",
              "    .dataframe tbody tr th:only-of-type {\n",
              "        vertical-align: middle;\n",
              "    }\n",
              "\n",
              "    .dataframe tbody tr th {\n",
              "        vertical-align: top;\n",
              "    }\n",
              "\n",
              "    .dataframe thead th {\n",
              "        text-align: right;\n",
              "    }\n",
              "</style>\n",
              "<table border=\"1\" class=\"dataframe\">\n",
              "  <thead>\n",
              "    <tr style=\"text-align: right;\">\n",
              "      <th></th>\n",
              "      <th>incidentid</th>\n",
              "      <th>race</th>\n",
              "      <th>injury</th>\n",
              "      <th>gender</th>\n",
              "      <th>schoolaffiliation</th>\n",
              "      <th>age</th>\n",
              "    </tr>\n",
              "  </thead>\n",
              "  <tbody>\n",
              "    <tr>\n",
              "      <th>0</th>\n",
              "      <td>20220620ILGRC</td>\n",
              "      <td>NaN</td>\n",
              "      <td>Wounded</td>\n",
              "      <td>Female</td>\n",
              "      <td>No Relation</td>\n",
              "      <td>34</td>\n",
              "    </tr>\n",
              "    <tr>\n",
              "      <th>1</th>\n",
              "      <td>20220620ILGRC</td>\n",
              "      <td>NaN</td>\n",
              "      <td>Wounded</td>\n",
              "      <td>Male</td>\n",
              "      <td>No Relation</td>\n",
              "      <td>16</td>\n",
              "    </tr>\n",
              "    <tr>\n",
              "      <th>2</th>\n",
              "      <td>20220620ILGRC</td>\n",
              "      <td>NaN</td>\n",
              "      <td>Wounded</td>\n",
              "      <td>Female</td>\n",
              "      <td>No Relation</td>\n",
              "      <td>17</td>\n",
              "    </tr>\n",
              "    <tr>\n",
              "      <th>3</th>\n",
              "      <td>20220609ALWAG</td>\n",
              "      <td>Black</td>\n",
              "      <td>Fatal</td>\n",
              "      <td>Male</td>\n",
              "      <td>No Relation</td>\n",
              "      <td>32</td>\n",
              "    </tr>\n",
              "    <tr>\n",
              "      <th>4</th>\n",
              "      <td>20220605INWEG</td>\n",
              "      <td>NaN</td>\n",
              "      <td>Wounded</td>\n",
              "      <td>Male</td>\n",
              "      <td>NaN</td>\n",
              "      <td>19</td>\n",
              "    </tr>\n",
              "  </tbody>\n",
              "</table>\n",
              "</div>\n",
              "      <button class=\"colab-df-convert\" onclick=\"convertToInteractive('df-6d3f75b2-7368-4d95-a8c8-dcb21d816af2')\"\n",
              "              title=\"Convert this dataframe to an interactive table.\"\n",
              "              style=\"display:none;\">\n",
              "        \n",
              "  <svg xmlns=\"http://www.w3.org/2000/svg\" height=\"24px\"viewBox=\"0 0 24 24\"\n",
              "       width=\"24px\">\n",
              "    <path d=\"M0 0h24v24H0V0z\" fill=\"none\"/>\n",
              "    <path d=\"M18.56 5.44l.94 2.06.94-2.06 2.06-.94-2.06-.94-.94-2.06-.94 2.06-2.06.94zm-11 1L8.5 8.5l.94-2.06 2.06-.94-2.06-.94L8.5 2.5l-.94 2.06-2.06.94zm10 10l.94 2.06.94-2.06 2.06-.94-2.06-.94-.94-2.06-.94 2.06-2.06.94z\"/><path d=\"M17.41 7.96l-1.37-1.37c-.4-.4-.92-.59-1.43-.59-.52 0-1.04.2-1.43.59L10.3 9.45l-7.72 7.72c-.78.78-.78 2.05 0 2.83L4 21.41c.39.39.9.59 1.41.59.51 0 1.02-.2 1.41-.59l7.78-7.78 2.81-2.81c.8-.78.8-2.07 0-2.86zM5.41 20L4 18.59l7.72-7.72 1.47 1.35L5.41 20z\"/>\n",
              "  </svg>\n",
              "      </button>\n",
              "      \n",
              "  <style>\n",
              "    .colab-df-container {\n",
              "      display:flex;\n",
              "      flex-wrap:wrap;\n",
              "      gap: 12px;\n",
              "    }\n",
              "\n",
              "    .colab-df-convert {\n",
              "      background-color: #E8F0FE;\n",
              "      border: none;\n",
              "      border-radius: 50%;\n",
              "      cursor: pointer;\n",
              "      display: none;\n",
              "      fill: #1967D2;\n",
              "      height: 32px;\n",
              "      padding: 0 0 0 0;\n",
              "      width: 32px;\n",
              "    }\n",
              "\n",
              "    .colab-df-convert:hover {\n",
              "      background-color: #E2EBFA;\n",
              "      box-shadow: 0px 1px 2px rgba(60, 64, 67, 0.3), 0px 1px 3px 1px rgba(60, 64, 67, 0.15);\n",
              "      fill: #174EA6;\n",
              "    }\n",
              "\n",
              "    [theme=dark] .colab-df-convert {\n",
              "      background-color: #3B4455;\n",
              "      fill: #D2E3FC;\n",
              "    }\n",
              "\n",
              "    [theme=dark] .colab-df-convert:hover {\n",
              "      background-color: #434B5C;\n",
              "      box-shadow: 0px 1px 3px 1px rgba(0, 0, 0, 0.15);\n",
              "      filter: drop-shadow(0px 1px 2px rgba(0, 0, 0, 0.3));\n",
              "      fill: #FFFFFF;\n",
              "    }\n",
              "  </style>\n",
              "\n",
              "      <script>\n",
              "        const buttonEl =\n",
              "          document.querySelector('#df-6d3f75b2-7368-4d95-a8c8-dcb21d816af2 button.colab-df-convert');\n",
              "        buttonEl.style.display =\n",
              "          google.colab.kernel.accessAllowed ? 'block' : 'none';\n",
              "\n",
              "        async function convertToInteractive(key) {\n",
              "          const element = document.querySelector('#df-6d3f75b2-7368-4d95-a8c8-dcb21d816af2');\n",
              "          const dataTable =\n",
              "            await google.colab.kernel.invokeFunction('convertToInteractive',\n",
              "                                                     [key], {});\n",
              "          if (!dataTable) return;\n",
              "\n",
              "          const docLinkHtml = 'Like what you see? Visit the ' +\n",
              "            '<a target=\"_blank\" href=https://colab.research.google.com/notebooks/data_table.ipynb>data table notebook</a>'\n",
              "            + ' to learn more about interactive tables.';\n",
              "          element.innerHTML = '';\n",
              "          dataTable['output_type'] = 'display_data';\n",
              "          await google.colab.output.renderOutput(dataTable, element);\n",
              "          const docLink = document.createElement('div');\n",
              "          docLink.innerHTML = docLinkHtml;\n",
              "          element.appendChild(docLink);\n",
              "        }\n",
              "      </script>\n",
              "    </div>\n",
              "  </div>\n",
              "  "
            ]
          },
          "metadata": {},
          "execution_count": 117
        }
      ]
    },
    {
      "cell_type": "code",
      "source": [
        "df_weapn.head()"
      ],
      "metadata": {
        "colab": {
          "base_uri": "https://localhost:8080/",
          "height": 206
        },
        "id": "bq99WdxE1avQ",
        "outputId": "ac05c6b8-aebd-4c92-aa27-dd2da067bcde"
      },
      "execution_count": 118,
      "outputs": [
        {
          "output_type": "execute_result",
          "data": {
            "text/plain": [
              "      incidentid   weaponcaliber weapondetails weapontype\n",
              "0  20220620ILGRC             NaN           NaN        NaN\n",
              "1  20220613WAMAE             NaN           NaN    Handgun\n",
              "2  20220610ALBYB             NaN           NaN    Handgun\n",
              "3  20220609ALWAG  Service Weapon           NaN    Handgun\n",
              "4  20220608ARLIL             NaN           NaN        NaN"
            ],
            "text/html": [
              "\n",
              "  <div id=\"df-3f6bbbfb-826f-495b-af1d-4adce41ab46d\">\n",
              "    <div class=\"colab-df-container\">\n",
              "      <div>\n",
              "<style scoped>\n",
              "    .dataframe tbody tr th:only-of-type {\n",
              "        vertical-align: middle;\n",
              "    }\n",
              "\n",
              "    .dataframe tbody tr th {\n",
              "        vertical-align: top;\n",
              "    }\n",
              "\n",
              "    .dataframe thead th {\n",
              "        text-align: right;\n",
              "    }\n",
              "</style>\n",
              "<table border=\"1\" class=\"dataframe\">\n",
              "  <thead>\n",
              "    <tr style=\"text-align: right;\">\n",
              "      <th></th>\n",
              "      <th>incidentid</th>\n",
              "      <th>weaponcaliber</th>\n",
              "      <th>weapondetails</th>\n",
              "      <th>weapontype</th>\n",
              "    </tr>\n",
              "  </thead>\n",
              "  <tbody>\n",
              "    <tr>\n",
              "      <th>0</th>\n",
              "      <td>20220620ILGRC</td>\n",
              "      <td>NaN</td>\n",
              "      <td>NaN</td>\n",
              "      <td>NaN</td>\n",
              "    </tr>\n",
              "    <tr>\n",
              "      <th>1</th>\n",
              "      <td>20220613WAMAE</td>\n",
              "      <td>NaN</td>\n",
              "      <td>NaN</td>\n",
              "      <td>Handgun</td>\n",
              "    </tr>\n",
              "    <tr>\n",
              "      <th>2</th>\n",
              "      <td>20220610ALBYB</td>\n",
              "      <td>NaN</td>\n",
              "      <td>NaN</td>\n",
              "      <td>Handgun</td>\n",
              "    </tr>\n",
              "    <tr>\n",
              "      <th>3</th>\n",
              "      <td>20220609ALWAG</td>\n",
              "      <td>Service Weapon</td>\n",
              "      <td>NaN</td>\n",
              "      <td>Handgun</td>\n",
              "    </tr>\n",
              "    <tr>\n",
              "      <th>4</th>\n",
              "      <td>20220608ARLIL</td>\n",
              "      <td>NaN</td>\n",
              "      <td>NaN</td>\n",
              "      <td>NaN</td>\n",
              "    </tr>\n",
              "  </tbody>\n",
              "</table>\n",
              "</div>\n",
              "      <button class=\"colab-df-convert\" onclick=\"convertToInteractive('df-3f6bbbfb-826f-495b-af1d-4adce41ab46d')\"\n",
              "              title=\"Convert this dataframe to an interactive table.\"\n",
              "              style=\"display:none;\">\n",
              "        \n",
              "  <svg xmlns=\"http://www.w3.org/2000/svg\" height=\"24px\"viewBox=\"0 0 24 24\"\n",
              "       width=\"24px\">\n",
              "    <path d=\"M0 0h24v24H0V0z\" fill=\"none\"/>\n",
              "    <path d=\"M18.56 5.44l.94 2.06.94-2.06 2.06-.94-2.06-.94-.94-2.06-.94 2.06-2.06.94zm-11 1L8.5 8.5l.94-2.06 2.06-.94-2.06-.94L8.5 2.5l-.94 2.06-2.06.94zm10 10l.94 2.06.94-2.06 2.06-.94-2.06-.94-.94-2.06-.94 2.06-2.06.94z\"/><path d=\"M17.41 7.96l-1.37-1.37c-.4-.4-.92-.59-1.43-.59-.52 0-1.04.2-1.43.59L10.3 9.45l-7.72 7.72c-.78.78-.78 2.05 0 2.83L4 21.41c.39.39.9.59 1.41.59.51 0 1.02-.2 1.41-.59l7.78-7.78 2.81-2.81c.8-.78.8-2.07 0-2.86zM5.41 20L4 18.59l7.72-7.72 1.47 1.35L5.41 20z\"/>\n",
              "  </svg>\n",
              "      </button>\n",
              "      \n",
              "  <style>\n",
              "    .colab-df-container {\n",
              "      display:flex;\n",
              "      flex-wrap:wrap;\n",
              "      gap: 12px;\n",
              "    }\n",
              "\n",
              "    .colab-df-convert {\n",
              "      background-color: #E8F0FE;\n",
              "      border: none;\n",
              "      border-radius: 50%;\n",
              "      cursor: pointer;\n",
              "      display: none;\n",
              "      fill: #1967D2;\n",
              "      height: 32px;\n",
              "      padding: 0 0 0 0;\n",
              "      width: 32px;\n",
              "    }\n",
              "\n",
              "    .colab-df-convert:hover {\n",
              "      background-color: #E2EBFA;\n",
              "      box-shadow: 0px 1px 2px rgba(60, 64, 67, 0.3), 0px 1px 3px 1px rgba(60, 64, 67, 0.15);\n",
              "      fill: #174EA6;\n",
              "    }\n",
              "\n",
              "    [theme=dark] .colab-df-convert {\n",
              "      background-color: #3B4455;\n",
              "      fill: #D2E3FC;\n",
              "    }\n",
              "\n",
              "    [theme=dark] .colab-df-convert:hover {\n",
              "      background-color: #434B5C;\n",
              "      box-shadow: 0px 1px 3px 1px rgba(0, 0, 0, 0.15);\n",
              "      filter: drop-shadow(0px 1px 2px rgba(0, 0, 0, 0.3));\n",
              "      fill: #FFFFFF;\n",
              "    }\n",
              "  </style>\n",
              "\n",
              "      <script>\n",
              "        const buttonEl =\n",
              "          document.querySelector('#df-3f6bbbfb-826f-495b-af1d-4adce41ab46d button.colab-df-convert');\n",
              "        buttonEl.style.display =\n",
              "          google.colab.kernel.accessAllowed ? 'block' : 'none';\n",
              "\n",
              "        async function convertToInteractive(key) {\n",
              "          const element = document.querySelector('#df-3f6bbbfb-826f-495b-af1d-4adce41ab46d');\n",
              "          const dataTable =\n",
              "            await google.colab.kernel.invokeFunction('convertToInteractive',\n",
              "                                                     [key], {});\n",
              "          if (!dataTable) return;\n",
              "\n",
              "          const docLinkHtml = 'Like what you see? Visit the ' +\n",
              "            '<a target=\"_blank\" href=https://colab.research.google.com/notebooks/data_table.ipynb>data table notebook</a>'\n",
              "            + ' to learn more about interactive tables.';\n",
              "          element.innerHTML = '';\n",
              "          dataTable['output_type'] = 'display_data';\n",
              "          await google.colab.output.renderOutput(dataTable, element);\n",
              "          const docLink = document.createElement('div');\n",
              "          docLink.innerHTML = docLinkHtml;\n",
              "          element.appendChild(docLink);\n",
              "        }\n",
              "      </script>\n",
              "    </div>\n",
              "  </div>\n",
              "  "
            ]
          },
          "metadata": {},
          "execution_count": 118
        }
      ]
    },
    {
      "cell_type": "markdown",
      "source": [
        "## <font color =\"#00b8ff\">2. Limpeza</font>\n",
        "\n",
        "Realizar limpeza e uniformização do dataset. Também é possível juntar datasets pela coluna incidentid."
      ],
      "metadata": {
        "id": "t5HwnisD1zbC"
      }
    },
    {
      "cell_type": "markdown",
      "source": [
        "### <font color =\"#00b8ff\">2.1 df_incid</font>"
      ],
      "metadata": {
        "id": "JSu0uqNTnpOs"
      }
    },
    {
      "cell_type": "code",
      "source": [
        "#Removendo valores duplicados caso existam\n",
        "df_incid = df_incid.drop_duplicates()\n",
        "\n",
        "#Verificando\n",
        "print(df_incid.isnull().sum())"
      ],
      "metadata": {
        "id": "deAGEyDe1EdW",
        "colab": {
          "base_uri": "https://localhost:8080/"
        },
        "outputId": "bf90c4a7-53d3-4dae-c344-ff37da086f39"
      },
      "execution_count": 119,
      "outputs": [
        {
          "output_type": "stream",
          "name": "stdout",
          "text": [
            "Incident_ID              0\n",
            "Sources                  0\n",
            "Number_News           1375\n",
            "Media_Attention       1335\n",
            "Reliability              0\n",
            "Date                     0\n",
            "Quarter                 11\n",
            "School                   1\n",
            "City                     0\n",
            "State                    0\n",
            "School_Level            24\n",
            "Location                 3\n",
            "Location_Type            5\n",
            "During_School           22\n",
            "Time_Period            164\n",
            "First_Shot             475\n",
            "Summary                  0\n",
            "Narrative               15\n",
            "Situation              163\n",
            "Targets                306\n",
            "Accomplice             301\n",
            "Hostages                14\n",
            "Barricade               14\n",
            "Officer_Involved         8\n",
            "Bullied                308\n",
            "Domestic_Violence      156\n",
            "Gang_Related           424\n",
            "Preplanned              90\n",
            "Shots_Fired            660\n",
            "Active_Shooter_FBI     973\n",
            "dtype: int64\n"
          ]
        }
      ]
    },
    {
      "cell_type": "code",
      "source": [
        "#O tratamento de variáveis de tipo String do dataset 'Incidentes':\n",
        "colunas_string=['Number_News','Media_Attention','School','School_Level','Location','Location_Type','During_School','First_Shot','Narrative','Situation','Targets','Accomplice','Hostages','Barricade','Officer_Involved','Bullied','Domestic_Violence','Gang_Related','Preplanned','Shots_Fired','Active_Shooter_FBI']\n",
        "\n",
        "df_incid[colunas_string] = df_incid[colunas_string].fillna(\"Unknown\")\n",
        "\n",
        "#O tratamento de variáveis de tipo numérico, substituindo os valores nulos por 0.\n",
        "df_incid['Reliability'] = df_incid['Reliability'].fillna(-1)\n",
        "df_incid.isnull().sum()\n",
        "\n",
        "#O tratamento da coluna de estações\n",
        "seasons_dict = {\n",
        "    1: 'Winter',\n",
        "    2: 'Winter',\n",
        "    3: 'Spring',\n",
        "    4: 'Spring',\n",
        "    5: 'Spring',\n",
        "    6: 'Summer',\n",
        "    7: 'Summer',\n",
        "    8: 'Summer',\n",
        "    9: 'Fall',\n",
        "    10: 'Fall',\n",
        "    11: 'Fall',\n",
        "    12: 'Winter'\n",
        "}\n",
        "\n",
        "df_incid['Quarter'] = pd.to_datetime(df_incid['Date']).dt.month.map(seasons_dict)\n",
        "\n",
        "def get_time_period(time_string):                             #Tentando preencher os períodos do dia com null a partir da hora do primeiro tiro\n",
        "    if ':' in time_string:\n",
        "        hour = int(time_string.split(':')[0])\n",
        "        if hour < 12 and hour < 6:\n",
        "          return 'Night'\n",
        "        if hour < 12:\n",
        "            return 'Morning'\n",
        "        elif hour < 18:\n",
        "            return 'Afternoon'\n",
        "        else:\n",
        "            return 'Night'\n",
        "    else:\n",
        "        if 'AM' in time_string:\n",
        "            return 'Morning'\n",
        "        else:\n",
        "            return 'Afternoon/Night'\n",
        "\n",
        "df_incid['Time_Period'].fillna(df_incid['First_Shot'].apply(get_time_period), inplace=True)\n",
        "\n",
        "df_incid = df_incid.fillna('Unknown') #preenchendo o restante com 'Unknown'"
      ],
      "metadata": {
        "id": "8gVoMDvD-itl"
      },
      "execution_count": 120,
      "outputs": []
    },
    {
      "cell_type": "code",
      "source": [
        "#Nomeando meses\n",
        "month_names = {\n",
        "    1: 'Janeiro',\n",
        "    2: 'Fevereiro',\n",
        "    3: 'Março',\n",
        "    4: 'Abril',\n",
        "    5: 'Maio',\n",
        "    6: 'Junho',\n",
        "    7: 'Julho',\n",
        "    8: 'Agosto',\n",
        "    9: 'Setembro',\n",
        "    10: 'Outubro',\n",
        "    11: 'Novembro',\n",
        "    12: 'Dezembro'\n",
        "}"
      ],
      "metadata": {
        "id": "exeNEQ1o-pN5"
      },
      "execution_count": 121,
      "outputs": []
    },
    {
      "cell_type": "code",
      "source": [
        "# Extraindo ano, mês e dia do dataset\n",
        "df_incid['Year'] = df_incid['Date'].dt.year\n",
        "df_incid['Month'] = pd.to_datetime(df_incid['Date']).dt.month.map(month_names)\n",
        "df_incid['Day'] = df_incid['Date'].dt.day"
      ],
      "metadata": {
        "id": "Bp9gM6-h-rXX"
      },
      "execution_count": 122,
      "outputs": []
    },
    {
      "cell_type": "code",
      "source": [
        "df_incid['Time_Period'].value_counts()"
      ],
      "metadata": {
        "colab": {
          "base_uri": "https://localhost:8080/"
        },
        "id": "xN07nY_2-tF5",
        "outputId": "703782f5-620e-47de-fd38-d26a199240ba"
      },
      "execution_count": 123,
      "outputs": [
        {
          "output_type": "execute_result",
          "data": {
            "text/plain": [
              "Morning Classes      373\n",
              "Afternoon Classes    213\n",
              "Sport Event          208\n",
              "Dismissal            200\n",
              "Afternoon/Night      154\n",
              "Lunch                146\n",
              "Evening              137\n",
              "After School         137\n",
              "Night                129\n",
              "School Start         110\n",
              "Not a School Day      96\n",
              "Before School         94\n",
              "School Event          52\n",
              "Unknown               12\n",
              "Morning                5\n",
              "Afternoon              2\n",
              "Not A School Day       1\n",
              "Name: Time_Period, dtype: int64"
            ]
          },
          "metadata": {},
          "execution_count": 123
        }
      ]
    },
    {
      "cell_type": "code",
      "source": [
        "df_incid['Quarter'].value_counts()"
      ],
      "metadata": {
        "colab": {
          "base_uri": "https://localhost:8080/"
        },
        "id": "8uJK0kUm-t71",
        "outputId": "63227af7-245e-41d7-f00a-d1f157e6f0c2"
      },
      "execution_count": 124,
      "outputs": [
        {
          "output_type": "execute_result",
          "data": {
            "text/plain": [
              "Fall      675\n",
              "Winter    588\n",
              "Spring    558\n",
              "Summer    248\n",
              "Name: Quarter, dtype: int64"
            ]
          },
          "metadata": {},
          "execution_count": 124
        }
      ]
    },
    {
      "cell_type": "code",
      "source": [
        "#Classificando as vítimas em Adulto, Adolescente e Criança\n",
        "def classify_age(age):\n",
        "    if isinstance(age, str):\n",
        "        if age.strip() == '':\n",
        "            return 'Unknown'\n",
        "        else:\n",
        "            return age\n",
        "    else:\n",
        "        if age < 0:\n",
        "            return 'Invalid'\n",
        "        elif age <= 12:\n",
        "            return 'Child'\n",
        "        elif age <= 20:\n",
        "            return 'Teen'\n",
        "        elif age >20:\n",
        "            return 'Adult'\n",
        "        else:\n",
        "          return 'Unknown'\n",
        "\n",
        "df_incid['age'] = pd.to_numeric(df_shoot['age'], errors='coerce')\n",
        "df_incid['ageclass'] = df_incid['age'].apply(classify_age)\n",
        "df_incid['ageclass'].value_counts()"
      ],
      "metadata": {
        "colab": {
          "base_uri": "https://localhost:8080/"
        },
        "id": "rj9rvKo_-1rz",
        "outputId": "c3fbd9a0-159a-4c36-e3a8-e83e2de0762e"
      },
      "execution_count": 125,
      "outputs": [
        {
          "output_type": "execute_result",
          "data": {
            "text/plain": [
              "Teen       932\n",
              "Unknown    795\n",
              "Adult      286\n",
              "Child       56\n",
              "Name: ageclass, dtype: int64"
            ]
          },
          "metadata": {},
          "execution_count": 125
        }
      ]
    },
    {
      "cell_type": "markdown",
      "source": [
        "Verificação final de valores null"
      ],
      "metadata": {
        "id": "UeWInTSM-7oa"
      }
    },
    {
      "cell_type": "code",
      "source": [
        "print(df_incid.isnull().sum())"
      ],
      "metadata": {
        "colab": {
          "base_uri": "https://localhost:8080/"
        },
        "id": "Ti3BXVg--8mU",
        "outputId": "9a5993e8-ad98-4f9d-dc83-4e47bd417074"
      },
      "execution_count": 126,
      "outputs": [
        {
          "output_type": "stream",
          "name": "stdout",
          "text": [
            "Incident_ID             0\n",
            "Sources                 0\n",
            "Number_News             0\n",
            "Media_Attention         0\n",
            "Reliability             0\n",
            "Date                    0\n",
            "Quarter                 0\n",
            "School                  0\n",
            "City                    0\n",
            "State                   0\n",
            "School_Level            0\n",
            "Location                0\n",
            "Location_Type           0\n",
            "During_School           0\n",
            "Time_Period             0\n",
            "First_Shot              0\n",
            "Summary                 0\n",
            "Narrative               0\n",
            "Situation               0\n",
            "Targets                 0\n",
            "Accomplice              0\n",
            "Hostages                0\n",
            "Barricade               0\n",
            "Officer_Involved        0\n",
            "Bullied                 0\n",
            "Domestic_Violence       0\n",
            "Gang_Related            0\n",
            "Preplanned              0\n",
            "Shots_Fired             0\n",
            "Active_Shooter_FBI      0\n",
            "Year                    0\n",
            "Month                   0\n",
            "Day                     0\n",
            "age                   795\n",
            "ageclass                0\n",
            "dtype: int64\n"
          ]
        }
      ]
    },
    {
      "cell_type": "markdown",
      "source": [
        "### <font color =\"#00b8ff\">2.2 df_shoot</font>"
      ],
      "metadata": {
        "id": "n8V-s82sofN8"
      }
    },
    {
      "cell_type": "code",
      "source": [
        "df_shoot.info()"
      ],
      "metadata": {
        "colab": {
          "base_uri": "https://localhost:8080/"
        },
        "id": "TfIFEM93steB",
        "outputId": "68f23b40-e973-4111-f055-70550d09a647"
      },
      "execution_count": 127,
      "outputs": [
        {
          "output_type": "stream",
          "name": "stdout",
          "text": [
            "<class 'pandas.core.frame.DataFrame'>\n",
            "RangeIndex: 2294 entries, 0 to 2293\n",
            "Data columns (total 12 columns):\n",
            " #   Column             Non-Null Count  Dtype \n",
            "---  ------             --------------  ----- \n",
            " 0   incidentid         2294 non-null   object\n",
            " 1   age                1865 non-null   object\n",
            " 2   gender             1928 non-null   object\n",
            " 3   race               643 non-null    object\n",
            " 4   schoolaffiliation  2151 non-null   object\n",
            " 5   shooteroutcome     2289 non-null   object\n",
            " 6   shooterdied        2285 non-null   object\n",
            " 7   injury             2286 non-null   object\n",
            " 8   chargesfiled       706 non-null    object\n",
            " 9   verdict            182 non-null    object\n",
            " 10  minorchargedadult  243 non-null    object\n",
            " 11  criminalhistory    186 non-null    object\n",
            "dtypes: object(12)\n",
            "memory usage: 215.2+ KB\n"
          ]
        }
      ]
    },
    {
      "cell_type": "code",
      "source": [
        "df_shoot = df_shoot.drop_duplicates()\n",
        "df_shoot.isnull().sum()"
      ],
      "metadata": {
        "colab": {
          "base_uri": "https://localhost:8080/"
        },
        "id": "Poy90xRSr5sm",
        "outputId": "b009f0fb-b7ef-4f56-830f-5101ddadd449"
      },
      "execution_count": 128,
      "outputs": [
        {
          "output_type": "execute_result",
          "data": {
            "text/plain": [
              "incidentid              0\n",
              "age                   406\n",
              "gender                345\n",
              "race                 1565\n",
              "schoolaffiliation     132\n",
              "shooteroutcome          5\n",
              "shooterdied             7\n",
              "injury                  6\n",
              "chargesfiled         1515\n",
              "verdict              2006\n",
              "minorchargedadult    1950\n",
              "criminalhistory      1999\n",
              "dtype: int64"
            ]
          },
          "metadata": {},
          "execution_count": 128
        }
      ]
    },
    {
      "cell_type": "markdown",
      "source": [
        "#### <font color =\"#00b8ff\">2.2.1 coluna incidentid</font>"
      ],
      "metadata": {
        "id": "8OJZksLGvx5r"
      }
    },
    {
      "cell_type": "markdown",
      "source": [
        "Não há dados nulos na coluna de ID"
      ],
      "metadata": {
        "id": "RjYIev-dyrxZ"
      }
    },
    {
      "cell_type": "markdown",
      "source": [
        "#### <font color =\"#00b8ff\">2.2.2 coluna age</font>"
      ],
      "metadata": {
        "id": "s30nt9MNuHWs"
      }
    },
    {
      "cell_type": "code",
      "source": [
        "# quandidade de dados nulos\n",
        "df_shoot['age'].isnull().sum()"
      ],
      "metadata": {
        "colab": {
          "base_uri": "https://localhost:8080/"
        },
        "id": "kYnZrke_y2Nf",
        "outputId": "b966e09d-8f7e-4817-e869-e4989e18a236"
      },
      "execution_count": 129,
      "outputs": [
        {
          "output_type": "execute_result",
          "data": {
            "text/plain": [
              "406"
            ]
          },
          "metadata": {},
          "execution_count": 129
        }
      ]
    },
    {
      "cell_type": "code",
      "source": [
        "df_shoot['age'].value_counts()"
      ],
      "metadata": {
        "colab": {
          "base_uri": "https://localhost:8080/"
        },
        "id": "LtJWc5EVzHJz",
        "outputId": "e4c62e2d-80e1-4026-8f5a-a900a25ce77c"
      },
      "execution_count": 130,
      "outputs": [
        {
          "output_type": "execute_result",
          "data": {
            "text/plain": [
              "17       234\n",
              "16       198\n",
              "Adult    180\n",
              "Teen     169\n",
              "18       164\n",
              "        ... \n",
              "78         1\n",
              "5          1\n",
              "68         1\n",
              "52         1\n",
              "72         1\n",
              "Name: age, Length: 67, dtype: int64"
            ]
          },
          "metadata": {},
          "execution_count": 130
        }
      ]
    },
    {
      "cell_type": "markdown",
      "source": [
        "A coluna de idade possui dados não numéricos e dados nulos."
      ],
      "metadata": {
        "id": "Sxlq-lDlzar0"
      }
    },
    {
      "cell_type": "code",
      "source": [
        "#Classificando as vítimas em Adulto, Adolescente e Criança\n",
        "def classify_age(age):\n",
        "    if isinstance(age, str):\n",
        "        if age.strip() == '':\n",
        "            return 'Unknown'\n",
        "        else:\n",
        "            return age\n",
        "    else:\n",
        "        if age < 0:\n",
        "            return 'Invalid'\n",
        "        elif age <= 12:\n",
        "            return 'Child'\n",
        "        elif age <= 20:\n",
        "            return 'Teen'\n",
        "        elif age >20:\n",
        "            return 'Adult'\n",
        "        else:\n",
        "          return 'Unknown'\n",
        "\n",
        "df_shoot['age'] = pd.to_numeric(df_shoot['age'], errors='coerce')\n",
        "df_shoot['ageclass'] = df_shoot['age'].apply(classify_age)"
      ],
      "metadata": {
        "id": "iGcH98yLzezV"
      },
      "execution_count": 131,
      "outputs": []
    },
    {
      "cell_type": "code",
      "source": [
        "# Preenchendo valores nulos como unknown\n",
        "df_shoot['age'].fillna('Unknown',inplace=True)"
      ],
      "metadata": {
        "id": "80NxRj_I6hOo"
      },
      "execution_count": 132,
      "outputs": []
    },
    {
      "cell_type": "markdown",
      "source": [
        "#### <font color =\"#00b8ff\">2.2.3 coluna gender</font>"
      ],
      "metadata": {
        "id": "YHFf_NP_ueDO"
      }
    },
    {
      "cell_type": "markdown",
      "source": [
        "Não temos nenhuma outra coluna com relação ao gênero para poder ser usada para tentar classificar o dado faltante.  \n",
        "O preenchimento dos dados nulos foi feito utilizando uma nova classe dita unknow\n"
      ],
      "metadata": {
        "id": "UjLoCA6-1Vde"
      }
    },
    {
      "cell_type": "code",
      "source": [
        "df_shoot['gender'].fillna(\"Unknown\",inplace=True)"
      ],
      "metadata": {
        "id": "A_R3v9821LtM"
      },
      "execution_count": 133,
      "outputs": []
    },
    {
      "cell_type": "markdown",
      "source": [
        "#### <font color =\"#00b8ff\">2.2.4 coluna race</font>"
      ],
      "metadata": {
        "id": "nmqjMYnEv4Mg"
      }
    },
    {
      "cell_type": "code",
      "source": [
        "# quantidade de dados faltantes\n",
        "df_shoot['race'].isnull().sum()"
      ],
      "metadata": {
        "colab": {
          "base_uri": "https://localhost:8080/"
        },
        "id": "OuUbsA-i2P3d",
        "outputId": "069545bd-3b44-430f-d076-914d0cb03bbd"
      },
      "execution_count": 134,
      "outputs": [
        {
          "output_type": "execute_result",
          "data": {
            "text/plain": [
              "1565"
            ]
          },
          "metadata": {},
          "execution_count": 134
        }
      ]
    },
    {
      "cell_type": "code",
      "source": [
        "df_shoot['race'].value_counts()\n"
      ],
      "metadata": {
        "colab": {
          "base_uri": "https://localhost:8080/"
        },
        "id": "d9SqhhGl2Y55",
        "outputId": "b7c2dabd-bcf4-4c00-963b-d2095230d0fe"
      },
      "execution_count": 135,
      "outputs": [
        {
          "output_type": "execute_result",
          "data": {
            "text/plain": [
              "Black                            293\n",
              "White                            224\n",
              "Hispanic                          74\n",
              "Asian                             12\n",
              "Other                              6\n",
              "Native American/Alaska Native      3\n",
              "Hawaiian/Pacific Islander          2\n",
              "Middle Eastern                     1\n",
              "Name: race, dtype: int64"
            ]
          },
          "metadata": {},
          "execution_count": 135
        }
      ]
    },
    {
      "cell_type": "code",
      "source": [
        "df_shoot['race'].fillna(\"Unknown\",inplace=True)"
      ],
      "metadata": {
        "id": "NrfmaBv_20kH"
      },
      "execution_count": 136,
      "outputs": []
    },
    {
      "cell_type": "markdown",
      "source": [
        "#### <font color =\"#00b8ff\">2.2.5 coluna schoolaffiliation</font>"
      ],
      "metadata": {
        "id": "4ft85j2Nueda"
      }
    },
    {
      "cell_type": "code",
      "source": [
        "df_shoot['schoolaffiliation'].isnull().sum()"
      ],
      "metadata": {
        "colab": {
          "base_uri": "https://localhost:8080/"
        },
        "id": "lTHnpTPA3Ywo",
        "outputId": "59eaa802-44d9-44db-a00c-f8a01fb48608"
      },
      "execution_count": 137,
      "outputs": [
        {
          "output_type": "execute_result",
          "data": {
            "text/plain": [
              "132"
            ]
          },
          "metadata": {},
          "execution_count": 137
        }
      ]
    },
    {
      "cell_type": "code",
      "source": [
        "df_shoot['schoolaffiliation'].value_counts()\n",
        "df_shoot['schoolaffiliation'].fillna(\"Unknown\",inplace=True)"
      ],
      "metadata": {
        "id": "ciBWry8Y3phe"
      },
      "execution_count": 138,
      "outputs": []
    },
    {
      "cell_type": "markdown",
      "source": [
        "#### <font color =\"#00b8ff\">2.2.6 coluna shooteroutcome</font>"
      ],
      "metadata": {
        "id": "suOMVFo1ufFo"
      }
    },
    {
      "cell_type": "code",
      "source": [
        "df_shoot['shooteroutcome'].isnull().sum()"
      ],
      "metadata": {
        "colab": {
          "base_uri": "https://localhost:8080/"
        },
        "id": "CGJEz20d4Rli",
        "outputId": "90b9a229-3262-410c-ec57-2a34d5fabd05"
      },
      "execution_count": 139,
      "outputs": [
        {
          "output_type": "execute_result",
          "data": {
            "text/plain": [
              "5"
            ]
          },
          "metadata": {},
          "execution_count": 139
        }
      ]
    },
    {
      "cell_type": "code",
      "source": [
        "df_shoot['shooteroutcome'].unique()"
      ],
      "metadata": {
        "colab": {
          "base_uri": "https://localhost:8080/"
        },
        "id": "qD5s-f0s4UmO",
        "outputId": "68139858-6592-41b5-99b0-73dc64fdc172"
      },
      "execution_count": 140,
      "outputs": [
        {
          "output_type": "execute_result",
          "data": {
            "text/plain": [
              "array(['Fled/Escaped', 'Fled/Apprehended', 'Law Enforcement',\n",
              "       'Apprehended/Killed by SRO', 'Apprehended/Killed by LE',\n",
              "       'Surrendered', nan, 'Suicide', 'Subdued by Students/Staff/Other',\n",
              "       'Apprehended/Killed by Other', 'Attempted Suicide', 'Unknown',\n",
              "       'Other'], dtype=object)"
            ]
          },
          "metadata": {},
          "execution_count": 140
        }
      ]
    },
    {
      "cell_type": "code",
      "source": [
        "df_shoot['shooteroutcome'].fillna(\"Unknown\",inplace=True)"
      ],
      "metadata": {
        "id": "k5ZMu3Sm4Yil"
      },
      "execution_count": 141,
      "outputs": []
    },
    {
      "cell_type": "markdown",
      "source": [
        "#### <font color =\"#00b8ff\">2.2.7 coluna shooterdied</font>"
      ],
      "metadata": {
        "id": "PhJ5yHpLufkl"
      }
    },
    {
      "cell_type": "markdown",
      "source": [
        "Como as colunas abaixo seguem o mesmo tipo de de dados da anterior o processo vai ser o mesmo."
      ],
      "metadata": {
        "id": "D2WRecx24q-f"
      }
    },
    {
      "cell_type": "code",
      "source": [
        "df_shoot['shooterdied'].fillna(\"Unknown\",inplace=True)"
      ],
      "metadata": {
        "id": "3zYJwtes4lsO"
      },
      "execution_count": 142,
      "outputs": []
    },
    {
      "cell_type": "markdown",
      "source": [
        "#### <font color =\"#00b8ff\">2.2.8 coluna injury</font>"
      ],
      "metadata": {
        "id": "-8SM8bldwRw9"
      }
    },
    {
      "cell_type": "code",
      "source": [
        "df_shoot['injury'].fillna(\"Unknown\",inplace=True)"
      ],
      "metadata": {
        "id": "13hii7Gf4ziI"
      },
      "execution_count": 143,
      "outputs": []
    },
    {
      "cell_type": "markdown",
      "source": [
        "#### <font color =\"#00b8ff\">2.2.9 coluna chargesfiled</font>"
      ],
      "metadata": {
        "id": "UM4x3Ma1ugou"
      }
    },
    {
      "cell_type": "code",
      "source": [
        "df_shoot['chargesfiled'].fillna(\"Unknown\",inplace=True)"
      ],
      "metadata": {
        "id": "DRl0eNUW41vK"
      },
      "execution_count": 144,
      "outputs": []
    },
    {
      "cell_type": "markdown",
      "source": [
        "#### <font color =\"#00b8ff\">2.2.10 coluna verdict</font>\n",
        "\n"
      ],
      "metadata": {
        "id": "1q-cCRvnuhWx"
      }
    },
    {
      "cell_type": "code",
      "source": [
        "df_shoot['verdict'].fillna(\"Unknown\",inplace=True)"
      ],
      "metadata": {
        "id": "VTX2uhoA5NKb"
      },
      "execution_count": 145,
      "outputs": []
    },
    {
      "cell_type": "markdown",
      "source": [
        "#### <font color =\"#00b8ff\">2.2.11 coluna minorchargedadult</font>"
      ],
      "metadata": {
        "id": "pKGx4w9PvFLu"
      }
    },
    {
      "cell_type": "code",
      "source": [
        "df_shoot['minorchargedadult'].fillna(\"Unknown\",inplace=True)"
      ],
      "metadata": {
        "id": "8Q2VMr_x5Ul_"
      },
      "execution_count": 146,
      "outputs": []
    },
    {
      "cell_type": "markdown",
      "source": [
        "#### <font color =\"#00b8ff\">2.2.12 coluna criminalhistory</font>"
      ],
      "metadata": {
        "id": "g_VLfPkyvGDL"
      }
    },
    {
      "cell_type": "code",
      "source": [
        "df_shoot['criminalhistory'].unique()"
      ],
      "metadata": {
        "colab": {
          "base_uri": "https://localhost:8080/"
        },
        "id": "J-ePL8h2ta0e",
        "outputId": "8cfa2a2c-543c-4804-e0e7-f5228c95964c"
      },
      "execution_count": 147,
      "outputs": [
        {
          "output_type": "execute_result",
          "data": {
            "text/plain": [
              "array([nan, 'On probation for juvenile offense', 'Prior criminal history',\n",
              "       'None', 'Minor under 15 cannot be charged as adult in PA',\n",
              "       'Aggravated robbery', 'Driving stolen vehicle',\n",
              "       'Crashed stolen police car into school',\n",
              "       'Released on $50,000 bond with GPS monitor',\n",
              "       'Wearing ankle monitor at time of shooting',\n",
              "       'Domestic violence, battery, unlawful imprisonment ',\n",
              "       'On probation', 'Suspended from school',\n",
              "       'Wanted for homicide in Newport News, VA',\n",
              "       'Shot 2 coworkers at hospital prior to shootout with police',\n",
              "       'Involved in armed carjacking prior to game, and two prior shootings in area',\n",
              "       \"Before Friday’s hearing, prosecutors reduced an aggravated malicious wounding to malicious wounding, reducing the possible sentence for the charge from life in prison to 20 years. The change was based on improvement to the girl's leg wound, White said.<br><br>The teen faces up to 65 years behind bars at sentencing Aug. 5.\",\n",
              "       'Prior charge of carrying weapon near school, robbery, assault, shooting during robbery',\n",
              "       'Security officer firing at man who attempted to steal vehicle parts',\n",
              "       'Extensive violent criminal history, 2013 felony conviction and prison',\n",
              "       'Charged w/ breach of peace in the 2nd degree, unlawful discharge of a firearm, reckless endangerment in the first degree, weapons in a motor vehicle, illegal sale or transfer of a firearm, possession of a pistol without a permit, possession of a high capacity magazine',\n",
              "       'Charged with breach of peace in the 2nd degree, unlawful discharge of a firearm, reckless endangerment in the first degree, weapons in a motor vehicle, illegal sale or transfer of a firearm, possession of a pistol without a permit, possession of a high capacity magazine',\n",
              "       'Can be charged as adult due to gun offense',\n",
              "       'Multiple similar pellet gun shootings in the same area.',\n",
              "       '2 armed robbery charges in March, released to child services',\n",
              "       'Fugitive suspected in 3 shootings at law enforcement and a private bail bondsman in the past month. Fired at police during pursuit in stolen vehicle prior to the standoff. ',\n",
              "       'Prior felony conviction for drug dealing (cocaine)',\n",
              "       'Felony charges can be transferred to adult court in NC. Decision of district attorney.',\n",
              "       'Felon, investigated for firing shots into a residence in the same area.',\n",
              "       'Guilty of prior felony.', 'History of mental illness.',\n",
              "       'Convicted felon under surveillance', 'No',\n",
              "       'Three prior felony convictions. ',\n",
              "       '9 prior felony convictions. On parole during the shooting.',\n",
              "       'Possession of weapons on school grounds',\n",
              "       'Arrested 7 times, some of the charges were felony breaking and entering, second degree arson, assault on a female, gun-related offences, resisting arrest, ',\n",
              "       'Marijuana possession; Railroad property trespassing',\n",
              "       'Shooter had reported in the past that he had someone killed but the police never confirmed that and pressed no charges',\n",
              "       'Yes, Unknown', 'Investigated by the FBI because of online post',\n",
              "       'Restraining order due to stabbing and assault on neighbor',\n",
              "       '31 offences, 18 of which were assaults',\n",
              "       'Brandishing weapons, assault, 2 restraining orders, crimes against public peace',\n",
              "       'Other charges',\n",
              "       'Arrested for possession of a machete and a hatchet at school',\n",
              "       'Assault with intent to do great bodily harm less than murder',\n",
              "       'J.A.: juvenile court: assault with a dangerous weapon, possession of a firearm; adult court: carrying a firearm without a license, assault with a dangerous weapon and malicious destruction of property, he was in the car during a traffic stop shooting where a police officer was shot, multiple probation violations; B.B.: being a career criminal in possession of a firearm, selling crack, assault and battery on a police officer and carrying a dangerous weapon',\n",
              "       'Restraining order',\n",
              "       'In King County for\\xa0molesting three different female students, and a pending case in Alabama in which he was charged with third-degree assault and disorderly conduct after pushing or throwing a desk at a fellow student;',\n",
              "       'Davenport was on probation for assault, known gang member',\n",
              "       'Drug-related charges (on federal probation); gang affiliation',\n",
              "       '2008 arrest (unknown), abduction and rape immediately before suicide',\n",
              "       '2 years prior, shooter got off a bike at a bus stop and started shooting at 2 males, wounded 1 of them in the shoulder. Victim admitted who shot him 3 months later. Charges- first-degree assault and carrying a pistol without a permit',\n",
              "       'Felony probation and a pending robbery case in juvenile court',\n",
              "       'Bringing a knife to school, carrying a concealed gun and possession of marijuana, misdemeanor second-degree trespassing and resisting a public officer',\n",
              "       '2 burglary charges',\n",
              "       'Sexual harassment, bringing a gun to school ',\n",
              "       'Hacked into a government computer system',\n",
              "       'Protective order against him for domestic violence',\n",
              "       'Burglary charge when he was 8; disorderly conduct and trespassing',\n",
              "       'Assault and stealing cars', 'probation for six months',\n",
              "       'Adjudicated as a delinquent and was placed on formal probation, which he violated by making the bomb threat',\n",
              "       'probation, punching another student',\n",
              "       'Crimninal tresspasing and an unknown charge in the past',\n",
              "       'Stalking', 'Multiple criminal charges and on probation',\n",
              "       'Stole teachers car (expelled for it)', 'Multiple robbery charges',\n",
              "       'Charged with bringing gun to school that day',\n",
              "       'Armed robbery, attempted murder, resisting arrest',\n",
              "       'Extensive history of violence',\n",
              "       'Served jail time for armed robbery',\n",
              "       'Committed multiple offenses after being released including kidnapping, domestic violence, and carrying a weapon as a felon. Killed by police in 2021 when he pointed a gun at an officer.',\n",
              "       'Robbery', 'Ex-felon'], dtype=object)"
            ]
          },
          "metadata": {},
          "execution_count": 147
        }
      ]
    },
    {
      "cell_type": "code",
      "source": [
        "df_shoot['criminalhistory'].fillna(\"Unknown\",inplace=True)"
      ],
      "metadata": {
        "id": "Mn7m7aFp5heP"
      },
      "execution_count": 148,
      "outputs": []
    },
    {
      "cell_type": "code",
      "source": [
        "df_shoot.isnull().sum()"
      ],
      "metadata": {
        "colab": {
          "base_uri": "https://localhost:8080/"
        },
        "id": "sSdaITJY5vsv",
        "outputId": "06c5886a-15b6-40ba-d6ab-d8dd6b000db5"
      },
      "execution_count": 149,
      "outputs": [
        {
          "output_type": "execute_result",
          "data": {
            "text/plain": [
              "incidentid           0\n",
              "age                  0\n",
              "gender               0\n",
              "race                 0\n",
              "schoolaffiliation    0\n",
              "shooteroutcome       0\n",
              "shooterdied          0\n",
              "injury               0\n",
              "chargesfiled         0\n",
              "verdict              0\n",
              "minorchargedadult    0\n",
              "criminalhistory      0\n",
              "ageclass             0\n",
              "dtype: int64"
            ]
          },
          "metadata": {},
          "execution_count": 149
        }
      ]
    },
    {
      "cell_type": "markdown",
      "source": [
        "### <font color =\"#00b8ff\">2.3 df_victm</font>"
      ],
      "metadata": {
        "id": "xRRMlvaooxz7"
      }
    },
    {
      "cell_type": "code",
      "source": [
        "df_victm.info()"
      ],
      "metadata": {
        "colab": {
          "base_uri": "https://localhost:8080/"
        },
        "id": "J0pnzFTLvYzq",
        "outputId": "09b3f7ab-1ef4-46fe-eeeb-aad3909a30c3"
      },
      "execution_count": 150,
      "outputs": [
        {
          "output_type": "stream",
          "name": "stdout",
          "text": [
            "<class 'pandas.core.frame.DataFrame'>\n",
            "RangeIndex: 3099 entries, 0 to 3098\n",
            "Data columns (total 6 columns):\n",
            " #   Column             Non-Null Count  Dtype \n",
            "---  ------             --------------  ----- \n",
            " 0   incidentid         3099 non-null   object\n",
            " 1   race               317 non-null    object\n",
            " 2   injury             3099 non-null   object\n",
            " 3   gender             2395 non-null   object\n",
            " 4   schoolaffiliation  2775 non-null   object\n",
            " 5   age                2817 non-null   object\n",
            "dtypes: object(6)\n",
            "memory usage: 145.4+ KB\n"
          ]
        }
      ]
    },
    {
      "cell_type": "code",
      "source": [
        "df_victm = df_victm.drop_duplicates()\n",
        "df_victm.isnull().sum()"
      ],
      "metadata": {
        "colab": {
          "base_uri": "https://localhost:8080/"
        },
        "id": "62Rxe1oMsUix",
        "outputId": "32430764-eb3d-4e67-89ea-3f22e5337297"
      },
      "execution_count": 151,
      "outputs": [
        {
          "output_type": "execute_result",
          "data": {
            "text/plain": [
              "incidentid              0\n",
              "race                 2202\n",
              "injury                  0\n",
              "gender                367\n",
              "schoolaffiliation     290\n",
              "age                   252\n",
              "dtype: int64"
            ]
          },
          "metadata": {},
          "execution_count": 151
        }
      ]
    },
    {
      "cell_type": "markdown",
      "source": [
        "#### <font color =\"#00b8ff\">2.3.1 coluna incidentid</font>"
      ],
      "metadata": {
        "id": "6L1Spi-lvh8C"
      }
    },
    {
      "cell_type": "markdown",
      "source": [
        "Não há dados nulos na coluna de ID."
      ],
      "metadata": {
        "id": "4WszSKPlb3BF"
      }
    },
    {
      "cell_type": "markdown",
      "source": [
        "#### <font color =\"#00b8ff\">2.3.2 coluna race</font>"
      ],
      "metadata": {
        "id": "37v0KC3CwszW"
      }
    },
    {
      "cell_type": "code",
      "source": [
        "df_victm['race'] = df_victm['race'].fillna('Unknown')"
      ],
      "metadata": {
        "id": "zVLisnTQxIW1",
        "colab": {
          "base_uri": "https://localhost:8080/"
        },
        "outputId": "cfb93323-4275-4a4f-ae9f-a678ea66d1b3"
      },
      "execution_count": 152,
      "outputs": [
        {
          "output_type": "stream",
          "name": "stderr",
          "text": [
            "<ipython-input-152-7cfb005d44cb>:1: SettingWithCopyWarning: \n",
            "A value is trying to be set on a copy of a slice from a DataFrame.\n",
            "Try using .loc[row_indexer,col_indexer] = value instead\n",
            "\n",
            "See the caveats in the documentation: https://pandas.pydata.org/pandas-docs/stable/user_guide/indexing.html#returning-a-view-versus-a-copy\n",
            "  df_victm['race'] = df_victm['race'].fillna('Unknown')\n"
          ]
        }
      ]
    },
    {
      "cell_type": "markdown",
      "source": [
        "#### <font color =\"#00b8ff\">2.3.3 coluna injury</font>"
      ],
      "metadata": {
        "id": "Hg9p6UfXwx6M"
      }
    },
    {
      "cell_type": "markdown",
      "source": [
        "Não há dados nulos na coluna de ferimento."
      ],
      "metadata": {
        "id": "G3bM0rR9cQfs"
      }
    },
    {
      "cell_type": "markdown",
      "source": [
        "#### <font color =\"#00b8ff\">2.3.4 coluna gender</font>"
      ],
      "metadata": {
        "id": "piBKuUUuwyVj"
      }
    },
    {
      "cell_type": "code",
      "source": [
        "df_victm['gender'] = df_victm['gender'].fillna('Unknown')"
      ],
      "metadata": {
        "id": "rcL8QeNmxFBa"
      },
      "execution_count": 62,
      "outputs": []
    },
    {
      "cell_type": "markdown",
      "source": [
        "#### <font color =\"#00b8ff\">2.3.5 schoolaffiliation</font>"
      ],
      "metadata": {
        "id": "bkvSDopRwzeX"
      }
    },
    {
      "cell_type": "code",
      "source": [
        "df_victm['schoolaffiliation'] = df_victm['schoolaffiliation'].fillna('Unknown')"
      ],
      "metadata": {
        "id": "tZfPDooHxG4q"
      },
      "execution_count": 63,
      "outputs": []
    },
    {
      "cell_type": "markdown",
      "source": [
        "#### <font color =\"#00b8ff\">2.3.6 coluna age</font>\n",
        "\n"
      ],
      "metadata": {
        "id": "77QyiIJPwz91"
      }
    },
    {
      "cell_type": "code",
      "source": [
        "df_victm['age'] = pd.to_numeric(df_victm['age'], errors='coerce')\n",
        "df_victm['ageclass'] = df_victm['age'].apply(classify_age)\n",
        "\n",
        "df_victm"
      ],
      "metadata": {
        "id": "yLXanRRzrIC5",
        "colab": {
          "base_uri": "https://localhost:8080/",
          "height": 424
        },
        "outputId": "c552cd5c-5e15-4956-cb8d-e3118fe3894a"
      },
      "execution_count": 64,
      "outputs": [
        {
          "output_type": "execute_result",
          "data": {
            "text/plain": [
              "         incidentid     race   injury  gender schoolaffiliation   age ageclass\n",
              "0     20220620ILGRC  Unknown  Wounded  Female       No Relation  34.0    Adult\n",
              "1     20220620ILGRC  Unknown  Wounded    Male       No Relation  16.0     Teen\n",
              "2     20220620ILGRC  Unknown  Wounded  Female       No Relation  17.0     Teen\n",
              "3     20220609ALWAG    Black    Fatal    Male       No Relation  32.0    Adult\n",
              "4     20220605INWEG  Unknown  Wounded    Male           Unknown  19.0     Teen\n",
              "...             ...      ...      ...     ...               ...   ...      ...\n",
              "3094  19700323CADAL  Unknown  Wounded    Male           Student  16.0     Teen\n",
              "3095  19700206OHJOC  Unknown  Wounded    Male           Student  18.0     Teen\n",
              "3096  19700105DCUNW  Unknown     None    Male           Unknown  16.0     Teen\n",
              "3097  19700105DCSOW  Unknown  Wounded    Male           Student   NaN  Unknown\n",
              "3098  19700105DCHIW  Unknown    Fatal    Male           Student  15.0     Teen\n",
              "\n",
              "[2489 rows x 7 columns]"
            ],
            "text/html": [
              "\n",
              "  <div id=\"df-08c3891c-4b96-45ae-8e57-8d0e58de0cfc\">\n",
              "    <div class=\"colab-df-container\">\n",
              "      <div>\n",
              "<style scoped>\n",
              "    .dataframe tbody tr th:only-of-type {\n",
              "        vertical-align: middle;\n",
              "    }\n",
              "\n",
              "    .dataframe tbody tr th {\n",
              "        vertical-align: top;\n",
              "    }\n",
              "\n",
              "    .dataframe thead th {\n",
              "        text-align: right;\n",
              "    }\n",
              "</style>\n",
              "<table border=\"1\" class=\"dataframe\">\n",
              "  <thead>\n",
              "    <tr style=\"text-align: right;\">\n",
              "      <th></th>\n",
              "      <th>incidentid</th>\n",
              "      <th>race</th>\n",
              "      <th>injury</th>\n",
              "      <th>gender</th>\n",
              "      <th>schoolaffiliation</th>\n",
              "      <th>age</th>\n",
              "      <th>ageclass</th>\n",
              "    </tr>\n",
              "  </thead>\n",
              "  <tbody>\n",
              "    <tr>\n",
              "      <th>0</th>\n",
              "      <td>20220620ILGRC</td>\n",
              "      <td>Unknown</td>\n",
              "      <td>Wounded</td>\n",
              "      <td>Female</td>\n",
              "      <td>No Relation</td>\n",
              "      <td>34.0</td>\n",
              "      <td>Adult</td>\n",
              "    </tr>\n",
              "    <tr>\n",
              "      <th>1</th>\n",
              "      <td>20220620ILGRC</td>\n",
              "      <td>Unknown</td>\n",
              "      <td>Wounded</td>\n",
              "      <td>Male</td>\n",
              "      <td>No Relation</td>\n",
              "      <td>16.0</td>\n",
              "      <td>Teen</td>\n",
              "    </tr>\n",
              "    <tr>\n",
              "      <th>2</th>\n",
              "      <td>20220620ILGRC</td>\n",
              "      <td>Unknown</td>\n",
              "      <td>Wounded</td>\n",
              "      <td>Female</td>\n",
              "      <td>No Relation</td>\n",
              "      <td>17.0</td>\n",
              "      <td>Teen</td>\n",
              "    </tr>\n",
              "    <tr>\n",
              "      <th>3</th>\n",
              "      <td>20220609ALWAG</td>\n",
              "      <td>Black</td>\n",
              "      <td>Fatal</td>\n",
              "      <td>Male</td>\n",
              "      <td>No Relation</td>\n",
              "      <td>32.0</td>\n",
              "      <td>Adult</td>\n",
              "    </tr>\n",
              "    <tr>\n",
              "      <th>4</th>\n",
              "      <td>20220605INWEG</td>\n",
              "      <td>Unknown</td>\n",
              "      <td>Wounded</td>\n",
              "      <td>Male</td>\n",
              "      <td>Unknown</td>\n",
              "      <td>19.0</td>\n",
              "      <td>Teen</td>\n",
              "    </tr>\n",
              "    <tr>\n",
              "      <th>...</th>\n",
              "      <td>...</td>\n",
              "      <td>...</td>\n",
              "      <td>...</td>\n",
              "      <td>...</td>\n",
              "      <td>...</td>\n",
              "      <td>...</td>\n",
              "      <td>...</td>\n",
              "    </tr>\n",
              "    <tr>\n",
              "      <th>3094</th>\n",
              "      <td>19700323CADAL</td>\n",
              "      <td>Unknown</td>\n",
              "      <td>Wounded</td>\n",
              "      <td>Male</td>\n",
              "      <td>Student</td>\n",
              "      <td>16.0</td>\n",
              "      <td>Teen</td>\n",
              "    </tr>\n",
              "    <tr>\n",
              "      <th>3095</th>\n",
              "      <td>19700206OHJOC</td>\n",
              "      <td>Unknown</td>\n",
              "      <td>Wounded</td>\n",
              "      <td>Male</td>\n",
              "      <td>Student</td>\n",
              "      <td>18.0</td>\n",
              "      <td>Teen</td>\n",
              "    </tr>\n",
              "    <tr>\n",
              "      <th>3096</th>\n",
              "      <td>19700105DCUNW</td>\n",
              "      <td>Unknown</td>\n",
              "      <td>None</td>\n",
              "      <td>Male</td>\n",
              "      <td>Unknown</td>\n",
              "      <td>16.0</td>\n",
              "      <td>Teen</td>\n",
              "    </tr>\n",
              "    <tr>\n",
              "      <th>3097</th>\n",
              "      <td>19700105DCSOW</td>\n",
              "      <td>Unknown</td>\n",
              "      <td>Wounded</td>\n",
              "      <td>Male</td>\n",
              "      <td>Student</td>\n",
              "      <td>NaN</td>\n",
              "      <td>Unknown</td>\n",
              "    </tr>\n",
              "    <tr>\n",
              "      <th>3098</th>\n",
              "      <td>19700105DCHIW</td>\n",
              "      <td>Unknown</td>\n",
              "      <td>Fatal</td>\n",
              "      <td>Male</td>\n",
              "      <td>Student</td>\n",
              "      <td>15.0</td>\n",
              "      <td>Teen</td>\n",
              "    </tr>\n",
              "  </tbody>\n",
              "</table>\n",
              "<p>2489 rows × 7 columns</p>\n",
              "</div>\n",
              "      <button class=\"colab-df-convert\" onclick=\"convertToInteractive('df-08c3891c-4b96-45ae-8e57-8d0e58de0cfc')\"\n",
              "              title=\"Convert this dataframe to an interactive table.\"\n",
              "              style=\"display:none;\">\n",
              "        \n",
              "  <svg xmlns=\"http://www.w3.org/2000/svg\" height=\"24px\"viewBox=\"0 0 24 24\"\n",
              "       width=\"24px\">\n",
              "    <path d=\"M0 0h24v24H0V0z\" fill=\"none\"/>\n",
              "    <path d=\"M18.56 5.44l.94 2.06.94-2.06 2.06-.94-2.06-.94-.94-2.06-.94 2.06-2.06.94zm-11 1L8.5 8.5l.94-2.06 2.06-.94-2.06-.94L8.5 2.5l-.94 2.06-2.06.94zm10 10l.94 2.06.94-2.06 2.06-.94-2.06-.94-.94-2.06-.94 2.06-2.06.94z\"/><path d=\"M17.41 7.96l-1.37-1.37c-.4-.4-.92-.59-1.43-.59-.52 0-1.04.2-1.43.59L10.3 9.45l-7.72 7.72c-.78.78-.78 2.05 0 2.83L4 21.41c.39.39.9.59 1.41.59.51 0 1.02-.2 1.41-.59l7.78-7.78 2.81-2.81c.8-.78.8-2.07 0-2.86zM5.41 20L4 18.59l7.72-7.72 1.47 1.35L5.41 20z\"/>\n",
              "  </svg>\n",
              "      </button>\n",
              "      \n",
              "  <style>\n",
              "    .colab-df-container {\n",
              "      display:flex;\n",
              "      flex-wrap:wrap;\n",
              "      gap: 12px;\n",
              "    }\n",
              "\n",
              "    .colab-df-convert {\n",
              "      background-color: #E8F0FE;\n",
              "      border: none;\n",
              "      border-radius: 50%;\n",
              "      cursor: pointer;\n",
              "      display: none;\n",
              "      fill: #1967D2;\n",
              "      height: 32px;\n",
              "      padding: 0 0 0 0;\n",
              "      width: 32px;\n",
              "    }\n",
              "\n",
              "    .colab-df-convert:hover {\n",
              "      background-color: #E2EBFA;\n",
              "      box-shadow: 0px 1px 2px rgba(60, 64, 67, 0.3), 0px 1px 3px 1px rgba(60, 64, 67, 0.15);\n",
              "      fill: #174EA6;\n",
              "    }\n",
              "\n",
              "    [theme=dark] .colab-df-convert {\n",
              "      background-color: #3B4455;\n",
              "      fill: #D2E3FC;\n",
              "    }\n",
              "\n",
              "    [theme=dark] .colab-df-convert:hover {\n",
              "      background-color: #434B5C;\n",
              "      box-shadow: 0px 1px 3px 1px rgba(0, 0, 0, 0.15);\n",
              "      filter: drop-shadow(0px 1px 2px rgba(0, 0, 0, 0.3));\n",
              "      fill: #FFFFFF;\n",
              "    }\n",
              "  </style>\n",
              "\n",
              "      <script>\n",
              "        const buttonEl =\n",
              "          document.querySelector('#df-08c3891c-4b96-45ae-8e57-8d0e58de0cfc button.colab-df-convert');\n",
              "        buttonEl.style.display =\n",
              "          google.colab.kernel.accessAllowed ? 'block' : 'none';\n",
              "\n",
              "        async function convertToInteractive(key) {\n",
              "          const element = document.querySelector('#df-08c3891c-4b96-45ae-8e57-8d0e58de0cfc');\n",
              "          const dataTable =\n",
              "            await google.colab.kernel.invokeFunction('convertToInteractive',\n",
              "                                                     [key], {});\n",
              "          if (!dataTable) return;\n",
              "\n",
              "          const docLinkHtml = 'Like what you see? Visit the ' +\n",
              "            '<a target=\"_blank\" href=https://colab.research.google.com/notebooks/data_table.ipynb>data table notebook</a>'\n",
              "            + ' to learn more about interactive tables.';\n",
              "          element.innerHTML = '';\n",
              "          dataTable['output_type'] = 'display_data';\n",
              "          await google.colab.output.renderOutput(dataTable, element);\n",
              "          const docLink = document.createElement('div');\n",
              "          docLink.innerHTML = docLinkHtml;\n",
              "          element.appendChild(docLink);\n",
              "        }\n",
              "      </script>\n",
              "    </div>\n",
              "  </div>\n",
              "  "
            ]
          },
          "metadata": {},
          "execution_count": 64
        }
      ]
    },
    {
      "cell_type": "code",
      "source": [
        "print(df_victm.isnull().sum()) #Na coluna ['age'] ainda existem valores null pq estes não foram substituídos, preferimos criar uma nova coluna com valores interpolados"
      ],
      "metadata": {
        "id": "SHpM5KBJrfUc",
        "colab": {
          "base_uri": "https://localhost:8080/"
        },
        "outputId": "57da3c0f-ec15-4c17-9bf3-b31db320c466"
      },
      "execution_count": 65,
      "outputs": [
        {
          "output_type": "stream",
          "name": "stdout",
          "text": [
            "incidentid             0\n",
            "race                   0\n",
            "injury                 0\n",
            "gender                 0\n",
            "schoolaffiliation      0\n",
            "age                  836\n",
            "ageclass               0\n",
            "dtype: int64\n"
          ]
        }
      ]
    },
    {
      "cell_type": "code",
      "source": [
        "df_victm['age'].hist() #analisando a distribuição "
      ],
      "metadata": {
        "id": "6qeASve3rj12",
        "colab": {
          "base_uri": "https://localhost:8080/",
          "height": 447
        },
        "outputId": "15b5a898-4244-4a47-d07b-e265200519a0"
      },
      "execution_count": 66,
      "outputs": [
        {
          "output_type": "execute_result",
          "data": {
            "text/plain": [
              "<Axes: >"
            ]
          },
          "metadata": {},
          "execution_count": 66
        },
        {
          "output_type": "display_data",
          "data": {
            "text/plain": [
              "<Figure size 640x480 with 1 Axes>"
            ],
            "image/png": "[encoded data removed]"
          },
          "metadata": {}
        }
      ]
    },
    {
      "cell_type": "code",
      "source": [
        "nan_interpol = df_victm['age'].fillna(df_victm['age'].interpolate(method='nearest')) #verificando a coerência da interpolação das idades\n",
        "print(nan_interpol.hist())\n",
        "df_victm['ageinterp'] = df_victm['age'].fillna(df_victm['age'].interpolate(method='nearest'))\n",
        "df_victm['ageinterp']"
      ],
      "metadata": {
        "id": "0AIGag8ArnNa",
        "outputId": "6a98e0b0-50c7-4d3c-d45e-5973c0f65e1f",
        "colab": {
          "base_uri": "https://localhost:8080/",
          "height": 656
        }
      },
      "execution_count": 67,
      "outputs": [
        {
          "output_type": "stream",
          "name": "stdout",
          "text": [
            "Axes(0.125,0.11;0.775x0.77)\n"
          ]
        },
        {
          "output_type": "execute_result",
          "data": {
            "text/plain": [
              "0       34.0\n",
              "1       16.0\n",
              "2       17.0\n",
              "3       32.0\n",
              "4       19.0\n",
              "        ... \n",
              "3094    16.0\n",
              "3095    18.0\n",
              "3096    16.0\n",
              "3097    16.0\n",
              "3098    15.0\n",
              "Name: ageinterp, Length: 2489, dtype: float64"
            ]
          },
          "metadata": {},
          "execution_count": 67
        },
        {
          "output_type": "display_data",
          "data": {
            "text/plain": [
              "<Figure size 640x480 with 1 Axes>"
            ],
            "image/png": "[encoded data removed]"
          },
          "metadata": {}
        }
      ]
    },
    {
      "cell_type": "code",
      "source": [
        "print(df_victm.isnull().sum()) #Na coluna ['age'] ainda existem valores null pq estes não foram substituídos, preferimos criar uma nova coluna com valores interpolados"
      ],
      "metadata": {
        "id": "J2Wg5IZ2dP9N",
        "outputId": "ec5ef651-71a9-4435-954c-86f7885514aa",
        "colab": {
          "base_uri": "https://localhost:8080/"
        }
      },
      "execution_count": 68,
      "outputs": [
        {
          "output_type": "stream",
          "name": "stdout",
          "text": [
            "incidentid             0\n",
            "race                   0\n",
            "injury                 0\n",
            "gender                 0\n",
            "schoolaffiliation      0\n",
            "age                  836\n",
            "ageclass               0\n",
            "ageinterp              0\n",
            "dtype: int64\n"
          ]
        }
      ]
    },
    {
      "cell_type": "code",
      "source": [
        "# Preenchendo valores nulos como unknown\n",
        "df_victm['age'].fillna('Unknown',inplace=True)"
      ],
      "metadata": {
        "id": "3_UxtepbwNKb"
      },
      "execution_count": 69,
      "outputs": []
    },
    {
      "cell_type": "code",
      "source": [
        "df_victm.isnull().sum()"
      ],
      "metadata": {
        "id": "QNVUlhPPwZCj",
        "outputId": "a473f014-7e41-4460-affa-629edcd31166",
        "colab": {
          "base_uri": "https://localhost:8080/"
        }
      },
      "execution_count": 70,
      "outputs": [
        {
          "output_type": "execute_result",
          "data": {
            "text/plain": [
              "incidentid           0\n",
              "race                 0\n",
              "injury               0\n",
              "gender               0\n",
              "schoolaffiliation    0\n",
              "age                  0\n",
              "ageclass             0\n",
              "ageinterp            0\n",
              "dtype: int64"
            ]
          },
          "metadata": {},
          "execution_count": 70
        }
      ]
    },
    {
      "cell_type": "code",
      "source": [
        "df_victm[df_victm['ageinterp'] == 'Teen']"
      ],
      "metadata": {
        "id": "5yGx8XsKeGwz",
        "outputId": "a81b2900-439f-4518-9b4e-6e6c22bc8987",
        "colab": {
          "base_uri": "https://localhost:8080/",
          "height": 49
        }
      },
      "execution_count": 71,
      "outputs": [
        {
          "output_type": "execute_result",
          "data": {
            "text/plain": [
              "Empty DataFrame\n",
              "Columns: [incidentid, race, injury, gender, schoolaffiliation, age, ageclass, ageinterp]\n",
              "Index: []"
            ],
            "text/html": [
              "\n",
              "  <div id=\"df-f7d585f8-71c7-42a5-9460-3b2fd1fe2bfb\">\n",
              "    <div class=\"colab-df-container\">\n",
              "      <div>\n",
              "<style scoped>\n",
              "    .dataframe tbody tr th:only-of-type {\n",
              "        vertical-align: middle;\n",
              "    }\n",
              "\n",
              "    .dataframe tbody tr th {\n",
              "        vertical-align: top;\n",
              "    }\n",
              "\n",
              "    .dataframe thead th {\n",
              "        text-align: right;\n",
              "    }\n",
              "</style>\n",
              "<table border=\"1\" class=\"dataframe\">\n",
              "  <thead>\n",
              "    <tr style=\"text-align: right;\">\n",
              "      <th></th>\n",
              "      <th>incidentid</th>\n",
              "      <th>race</th>\n",
              "      <th>injury</th>\n",
              "      <th>gender</th>\n",
              "      <th>schoolaffiliation</th>\n",
              "      <th>age</th>\n",
              "      <th>ageclass</th>\n",
              "      <th>ageinterp</th>\n",
              "    </tr>\n",
              "  </thead>\n",
              "  <tbody>\n",
              "  </tbody>\n",
              "</table>\n",
              "</div>\n",
              "      <button class=\"colab-df-convert\" onclick=\"convertToInteractive('df-f7d585f8-71c7-42a5-9460-3b2fd1fe2bfb')\"\n",
              "              title=\"Convert this dataframe to an interactive table.\"\n",
              "              style=\"display:none;\">\n",
              "        \n",
              "  <svg xmlns=\"http://www.w3.org/2000/svg\" height=\"24px\"viewBox=\"0 0 24 24\"\n",
              "       width=\"24px\">\n",
              "    <path d=\"M0 0h24v24H0V0z\" fill=\"none\"/>\n",
              "    <path d=\"M18.56 5.44l.94 2.06.94-2.06 2.06-.94-2.06-.94-.94-2.06-.94 2.06-2.06.94zm-11 1L8.5 8.5l.94-2.06 2.06-.94-2.06-.94L8.5 2.5l-.94 2.06-2.06.94zm10 10l.94 2.06.94-2.06 2.06-.94-2.06-.94-.94-2.06-.94 2.06-2.06.94z\"/><path d=\"M17.41 7.96l-1.37-1.37c-.4-.4-.92-.59-1.43-.59-.52 0-1.04.2-1.43.59L10.3 9.45l-7.72 7.72c-.78.78-.78 2.05 0 2.83L4 21.41c.39.39.9.59 1.41.59.51 0 1.02-.2 1.41-.59l7.78-7.78 2.81-2.81c.8-.78.8-2.07 0-2.86zM5.41 20L4 18.59l7.72-7.72 1.47 1.35L5.41 20z\"/>\n",
              "  </svg>\n",
              "      </button>\n",
              "      \n",
              "  <style>\n",
              "    .colab-df-container {\n",
              "      display:flex;\n",
              "      flex-wrap:wrap;\n",
              "      gap: 12px;\n",
              "    }\n",
              "\n",
              "    .colab-df-convert {\n",
              "      background-color: #E8F0FE;\n",
              "      border: none;\n",
              "      border-radius: 50%;\n",
              "      cursor: pointer;\n",
              "      display: none;\n",
              "      fill: #1967D2;\n",
              "      height: 32px;\n",
              "      padding: 0 0 0 0;\n",
              "      width: 32px;\n",
              "    }\n",
              "\n",
              "    .colab-df-convert:hover {\n",
              "      background-color: #E2EBFA;\n",
              "      box-shadow: 0px 1px 2px rgba(60, 64, 67, 0.3), 0px 1px 3px 1px rgba(60, 64, 67, 0.15);\n",
              "      fill: #174EA6;\n",
              "    }\n",
              "\n",
              "    [theme=dark] .colab-df-convert {\n",
              "      background-color: #3B4455;\n",
              "      fill: #D2E3FC;\n",
              "    }\n",
              "\n",
              "    [theme=dark] .colab-df-convert:hover {\n",
              "      background-color: #434B5C;\n",
              "      box-shadow: 0px 1px 3px 1px rgba(0, 0, 0, 0.15);\n",
              "      filter: drop-shadow(0px 1px 2px rgba(0, 0, 0, 0.3));\n",
              "      fill: #FFFFFF;\n",
              "    }\n",
              "  </style>\n",
              "\n",
              "      <script>\n",
              "        const buttonEl =\n",
              "          document.querySelector('#df-f7d585f8-71c7-42a5-9460-3b2fd1fe2bfb button.colab-df-convert');\n",
              "        buttonEl.style.display =\n",
              "          google.colab.kernel.accessAllowed ? 'block' : 'none';\n",
              "\n",
              "        async function convertToInteractive(key) {\n",
              "          const element = document.querySelector('#df-f7d585f8-71c7-42a5-9460-3b2fd1fe2bfb');\n",
              "          const dataTable =\n",
              "            await google.colab.kernel.invokeFunction('convertToInteractive',\n",
              "                                                     [key], {});\n",
              "          if (!dataTable) return;\n",
              "\n",
              "          const docLinkHtml = 'Like what you see? Visit the ' +\n",
              "            '<a target=\"_blank\" href=https://colab.research.google.com/notebooks/data_table.ipynb>data table notebook</a>'\n",
              "            + ' to learn more about interactive tables.';\n",
              "          element.innerHTML = '';\n",
              "          dataTable['output_type'] = 'display_data';\n",
              "          await google.colab.output.renderOutput(dataTable, element);\n",
              "          const docLink = document.createElement('div');\n",
              "          docLink.innerHTML = docLinkHtml;\n",
              "          element.appendChild(docLink);\n",
              "        }\n",
              "      </script>\n",
              "    </div>\n",
              "  </div>\n",
              "  "
            ]
          },
          "metadata": {},
          "execution_count": 71
        }
      ]
    },
    {
      "cell_type": "code",
      "source": [
        "df_victm[df_victm['ageinterp'] == 'Adult']"
      ],
      "metadata": {
        "id": "kUXf6kusedhc",
        "outputId": "90eff583-892d-4301-ebfa-3f642b57ecc9",
        "colab": {
          "base_uri": "https://localhost:8080/",
          "height": 49
        }
      },
      "execution_count": 72,
      "outputs": [
        {
          "output_type": "execute_result",
          "data": {
            "text/plain": [
              "Empty DataFrame\n",
              "Columns: [incidentid, race, injury, gender, schoolaffiliation, age, ageclass, ageinterp]\n",
              "Index: []"
            ],
            "text/html": [
              "\n",
              "  <div id=\"df-0d525171-1f88-4042-af32-1078eab2a03f\">\n",
              "    <div class=\"colab-df-container\">\n",
              "      <div>\n",
              "<style scoped>\n",
              "    .dataframe tbody tr th:only-of-type {\n",
              "        vertical-align: middle;\n",
              "    }\n",
              "\n",
              "    .dataframe tbody tr th {\n",
              "        vertical-align: top;\n",
              "    }\n",
              "\n",
              "    .dataframe thead th {\n",
              "        text-align: right;\n",
              "    }\n",
              "</style>\n",
              "<table border=\"1\" class=\"dataframe\">\n",
              "  <thead>\n",
              "    <tr style=\"text-align: right;\">\n",
              "      <th></th>\n",
              "      <th>incidentid</th>\n",
              "      <th>race</th>\n",
              "      <th>injury</th>\n",
              "      <th>gender</th>\n",
              "      <th>schoolaffiliation</th>\n",
              "      <th>age</th>\n",
              "      <th>ageclass</th>\n",
              "      <th>ageinterp</th>\n",
              "    </tr>\n",
              "  </thead>\n",
              "  <tbody>\n",
              "  </tbody>\n",
              "</table>\n",
              "</div>\n",
              "      <button class=\"colab-df-convert\" onclick=\"convertToInteractive('df-0d525171-1f88-4042-af32-1078eab2a03f')\"\n",
              "              title=\"Convert this dataframe to an interactive table.\"\n",
              "              style=\"display:none;\">\n",
              "        \n",
              "  <svg xmlns=\"http://www.w3.org/2000/svg\" height=\"24px\"viewBox=\"0 0 24 24\"\n",
              "       width=\"24px\">\n",
              "    <path d=\"M0 0h24v24H0V0z\" fill=\"none\"/>\n",
              "    <path d=\"M18.56 5.44l.94 2.06.94-2.06 2.06-.94-2.06-.94-.94-2.06-.94 2.06-2.06.94zm-11 1L8.5 8.5l.94-2.06 2.06-.94-2.06-.94L8.5 2.5l-.94 2.06-2.06.94zm10 10l.94 2.06.94-2.06 2.06-.94-2.06-.94-.94-2.06-.94 2.06-2.06.94z\"/><path d=\"M17.41 7.96l-1.37-1.37c-.4-.4-.92-.59-1.43-.59-.52 0-1.04.2-1.43.59L10.3 9.45l-7.72 7.72c-.78.78-.78 2.05 0 2.83L4 21.41c.39.39.9.59 1.41.59.51 0 1.02-.2 1.41-.59l7.78-7.78 2.81-2.81c.8-.78.8-2.07 0-2.86zM5.41 20L4 18.59l7.72-7.72 1.47 1.35L5.41 20z\"/>\n",
              "  </svg>\n",
              "      </button>\n",
              "      \n",
              "  <style>\n",
              "    .colab-df-container {\n",
              "      display:flex;\n",
              "      flex-wrap:wrap;\n",
              "      gap: 12px;\n",
              "    }\n",
              "\n",
              "    .colab-df-convert {\n",
              "      background-color: #E8F0FE;\n",
              "      border: none;\n",
              "      border-radius: 50%;\n",
              "      cursor: pointer;\n",
              "      display: none;\n",
              "      fill: #1967D2;\n",
              "      height: 32px;\n",
              "      padding: 0 0 0 0;\n",
              "      width: 32px;\n",
              "    }\n",
              "\n",
              "    .colab-df-convert:hover {\n",
              "      background-color: #E2EBFA;\n",
              "      box-shadow: 0px 1px 2px rgba(60, 64, 67, 0.3), 0px 1px 3px 1px rgba(60, 64, 67, 0.15);\n",
              "      fill: #174EA6;\n",
              "    }\n",
              "\n",
              "    [theme=dark] .colab-df-convert {\n",
              "      background-color: #3B4455;\n",
              "      fill: #D2E3FC;\n",
              "    }\n",
              "\n",
              "    [theme=dark] .colab-df-convert:hover {\n",
              "      background-color: #434B5C;\n",
              "      box-shadow: 0px 1px 3px 1px rgba(0, 0, 0, 0.15);\n",
              "      filter: drop-shadow(0px 1px 2px rgba(0, 0, 0, 0.3));\n",
              "      fill: #FFFFFF;\n",
              "    }\n",
              "  </style>\n",
              "\n",
              "      <script>\n",
              "        const buttonEl =\n",
              "          document.querySelector('#df-0d525171-1f88-4042-af32-1078eab2a03f button.colab-df-convert');\n",
              "        buttonEl.style.display =\n",
              "          google.colab.kernel.accessAllowed ? 'block' : 'none';\n",
              "\n",
              "        async function convertToInteractive(key) {\n",
              "          const element = document.querySelector('#df-0d525171-1f88-4042-af32-1078eab2a03f');\n",
              "          const dataTable =\n",
              "            await google.colab.kernel.invokeFunction('convertToInteractive',\n",
              "                                                     [key], {});\n",
              "          if (!dataTable) return;\n",
              "\n",
              "          const docLinkHtml = 'Like what you see? Visit the ' +\n",
              "            '<a target=\"_blank\" href=https://colab.research.google.com/notebooks/data_table.ipynb>data table notebook</a>'\n",
              "            + ' to learn more about interactive tables.';\n",
              "          element.innerHTML = '';\n",
              "          dataTable['output_type'] = 'display_data';\n",
              "          await google.colab.output.renderOutput(dataTable, element);\n",
              "          const docLink = document.createElement('div');\n",
              "          docLink.innerHTML = docLinkHtml;\n",
              "          element.appendChild(docLink);\n",
              "        }\n",
              "      </script>\n",
              "    </div>\n",
              "  </div>\n",
              "  "
            ]
          },
          "metadata": {},
          "execution_count": 72
        }
      ]
    },
    {
      "cell_type": "code",
      "source": [
        "df_victm[df_victm['ageinterp'] == 'Child']"
      ],
      "metadata": {
        "id": "XS0HAGpesbAp",
        "outputId": "72bb8760-151b-40c0-ed9f-947326d84bcc",
        "colab": {
          "base_uri": "https://localhost:8080/",
          "height": 49
        }
      },
      "execution_count": 73,
      "outputs": [
        {
          "output_type": "execute_result",
          "data": {
            "text/plain": [
              "Empty DataFrame\n",
              "Columns: [incidentid, race, injury, gender, schoolaffiliation, age, ageclass, ageinterp]\n",
              "Index: []"
            ],
            "text/html": [
              "\n",
              "  <div id=\"df-efa87bd1-58e6-4d0f-b15a-70665c471786\">\n",
              "    <div class=\"colab-df-container\">\n",
              "      <div>\n",
              "<style scoped>\n",
              "    .dataframe tbody tr th:only-of-type {\n",
              "        vertical-align: middle;\n",
              "    }\n",
              "\n",
              "    .dataframe tbody tr th {\n",
              "        vertical-align: top;\n",
              "    }\n",
              "\n",
              "    .dataframe thead th {\n",
              "        text-align: right;\n",
              "    }\n",
              "</style>\n",
              "<table border=\"1\" class=\"dataframe\">\n",
              "  <thead>\n",
              "    <tr style=\"text-align: right;\">\n",
              "      <th></th>\n",
              "      <th>incidentid</th>\n",
              "      <th>race</th>\n",
              "      <th>injury</th>\n",
              "      <th>gender</th>\n",
              "      <th>schoolaffiliation</th>\n",
              "      <th>age</th>\n",
              "      <th>ageclass</th>\n",
              "      <th>ageinterp</th>\n",
              "    </tr>\n",
              "  </thead>\n",
              "  <tbody>\n",
              "  </tbody>\n",
              "</table>\n",
              "</div>\n",
              "      <button class=\"colab-df-convert\" onclick=\"convertToInteractive('df-efa87bd1-58e6-4d0f-b15a-70665c471786')\"\n",
              "              title=\"Convert this dataframe to an interactive table.\"\n",
              "              style=\"display:none;\">\n",
              "        \n",
              "  <svg xmlns=\"http://www.w3.org/2000/svg\" height=\"24px\"viewBox=\"0 0 24 24\"\n",
              "       width=\"24px\">\n",
              "    <path d=\"M0 0h24v24H0V0z\" fill=\"none\"/>\n",
              "    <path d=\"M18.56 5.44l.94 2.06.94-2.06 2.06-.94-2.06-.94-.94-2.06-.94 2.06-2.06.94zm-11 1L8.5 8.5l.94-2.06 2.06-.94-2.06-.94L8.5 2.5l-.94 2.06-2.06.94zm10 10l.94 2.06.94-2.06 2.06-.94-2.06-.94-.94-2.06-.94 2.06-2.06.94z\"/><path d=\"M17.41 7.96l-1.37-1.37c-.4-.4-.92-.59-1.43-.59-.52 0-1.04.2-1.43.59L10.3 9.45l-7.72 7.72c-.78.78-.78 2.05 0 2.83L4 21.41c.39.39.9.59 1.41.59.51 0 1.02-.2 1.41-.59l7.78-7.78 2.81-2.81c.8-.78.8-2.07 0-2.86zM5.41 20L4 18.59l7.72-7.72 1.47 1.35L5.41 20z\"/>\n",
              "  </svg>\n",
              "      </button>\n",
              "      \n",
              "  <style>\n",
              "    .colab-df-container {\n",
              "      display:flex;\n",
              "      flex-wrap:wrap;\n",
              "      gap: 12px;\n",
              "    }\n",
              "\n",
              "    .colab-df-convert {\n",
              "      background-color: #E8F0FE;\n",
              "      border: none;\n",
              "      border-radius: 50%;\n",
              "      cursor: pointer;\n",
              "      display: none;\n",
              "      fill: #1967D2;\n",
              "      height: 32px;\n",
              "      padding: 0 0 0 0;\n",
              "      width: 32px;\n",
              "    }\n",
              "\n",
              "    .colab-df-convert:hover {\n",
              "      background-color: #E2EBFA;\n",
              "      box-shadow: 0px 1px 2px rgba(60, 64, 67, 0.3), 0px 1px 3px 1px rgba(60, 64, 67, 0.15);\n",
              "      fill: #174EA6;\n",
              "    }\n",
              "\n",
              "    [theme=dark] .colab-df-convert {\n",
              "      background-color: #3B4455;\n",
              "      fill: #D2E3FC;\n",
              "    }\n",
              "\n",
              "    [theme=dark] .colab-df-convert:hover {\n",
              "      background-color: #434B5C;\n",
              "      box-shadow: 0px 1px 3px 1px rgba(0, 0, 0, 0.15);\n",
              "      filter: drop-shadow(0px 1px 2px rgba(0, 0, 0, 0.3));\n",
              "      fill: #FFFFFF;\n",
              "    }\n",
              "  </style>\n",
              "\n",
              "      <script>\n",
              "        const buttonEl =\n",
              "          document.querySelector('#df-efa87bd1-58e6-4d0f-b15a-70665c471786 button.colab-df-convert');\n",
              "        buttonEl.style.display =\n",
              "          google.colab.kernel.accessAllowed ? 'block' : 'none';\n",
              "\n",
              "        async function convertToInteractive(key) {\n",
              "          const element = document.querySelector('#df-efa87bd1-58e6-4d0f-b15a-70665c471786');\n",
              "          const dataTable =\n",
              "            await google.colab.kernel.invokeFunction('convertToInteractive',\n",
              "                                                     [key], {});\n",
              "          if (!dataTable) return;\n",
              "\n",
              "          const docLinkHtml = 'Like what you see? Visit the ' +\n",
              "            '<a target=\"_blank\" href=https://colab.research.google.com/notebooks/data_table.ipynb>data table notebook</a>'\n",
              "            + ' to learn more about interactive tables.';\n",
              "          element.innerHTML = '';\n",
              "          dataTable['output_type'] = 'display_data';\n",
              "          await google.colab.output.renderOutput(dataTable, element);\n",
              "          const docLink = document.createElement('div');\n",
              "          docLink.innerHTML = docLinkHtml;\n",
              "          element.appendChild(docLink);\n",
              "        }\n",
              "      </script>\n",
              "    </div>\n",
              "  </div>\n",
              "  "
            ]
          },
          "metadata": {},
          "execution_count": 73
        }
      ]
    },
    {
      "cell_type": "code",
      "source": [
        "df_victm[df_victm['ageinterp'] == 'Officer']"
      ],
      "metadata": {
        "id": "U4QK4q-ith3a",
        "outputId": "d5069910-ec89-46db-9e3e-604a295a601a",
        "colab": {
          "base_uri": "https://localhost:8080/",
          "height": 49
        }
      },
      "execution_count": 74,
      "outputs": [
        {
          "output_type": "execute_result",
          "data": {
            "text/plain": [
              "Empty DataFrame\n",
              "Columns: [incidentid, race, injury, gender, schoolaffiliation, age, ageclass, ageinterp]\n",
              "Index: []"
            ],
            "text/html": [
              "\n",
              "  <div id=\"df-00a0a027-8ac0-4bc7-80f9-8949967c98fd\">\n",
              "    <div class=\"colab-df-container\">\n",
              "      <div>\n",
              "<style scoped>\n",
              "    .dataframe tbody tr th:only-of-type {\n",
              "        vertical-align: middle;\n",
              "    }\n",
              "\n",
              "    .dataframe tbody tr th {\n",
              "        vertical-align: top;\n",
              "    }\n",
              "\n",
              "    .dataframe thead th {\n",
              "        text-align: right;\n",
              "    }\n",
              "</style>\n",
              "<table border=\"1\" class=\"dataframe\">\n",
              "  <thead>\n",
              "    <tr style=\"text-align: right;\">\n",
              "      <th></th>\n",
              "      <th>incidentid</th>\n",
              "      <th>race</th>\n",
              "      <th>injury</th>\n",
              "      <th>gender</th>\n",
              "      <th>schoolaffiliation</th>\n",
              "      <th>age</th>\n",
              "      <th>ageclass</th>\n",
              "      <th>ageinterp</th>\n",
              "    </tr>\n",
              "  </thead>\n",
              "  <tbody>\n",
              "  </tbody>\n",
              "</table>\n",
              "</div>\n",
              "      <button class=\"colab-df-convert\" onclick=\"convertToInteractive('df-00a0a027-8ac0-4bc7-80f9-8949967c98fd')\"\n",
              "              title=\"Convert this dataframe to an interactive table.\"\n",
              "              style=\"display:none;\">\n",
              "        \n",
              "  <svg xmlns=\"http://www.w3.org/2000/svg\" height=\"24px\"viewBox=\"0 0 24 24\"\n",
              "       width=\"24px\">\n",
              "    <path d=\"M0 0h24v24H0V0z\" fill=\"none\"/>\n",
              "    <path d=\"M18.56 5.44l.94 2.06.94-2.06 2.06-.94-2.06-.94-.94-2.06-.94 2.06-2.06.94zm-11 1L8.5 8.5l.94-2.06 2.06-.94-2.06-.94L8.5 2.5l-.94 2.06-2.06.94zm10 10l.94 2.06.94-2.06 2.06-.94-2.06-.94-.94-2.06-.94 2.06-2.06.94z\"/><path d=\"M17.41 7.96l-1.37-1.37c-.4-.4-.92-.59-1.43-.59-.52 0-1.04.2-1.43.59L10.3 9.45l-7.72 7.72c-.78.78-.78 2.05 0 2.83L4 21.41c.39.39.9.59 1.41.59.51 0 1.02-.2 1.41-.59l7.78-7.78 2.81-2.81c.8-.78.8-2.07 0-2.86zM5.41 20L4 18.59l7.72-7.72 1.47 1.35L5.41 20z\"/>\n",
              "  </svg>\n",
              "      </button>\n",
              "      \n",
              "  <style>\n",
              "    .colab-df-container {\n",
              "      display:flex;\n",
              "      flex-wrap:wrap;\n",
              "      gap: 12px;\n",
              "    }\n",
              "\n",
              "    .colab-df-convert {\n",
              "      background-color: #E8F0FE;\n",
              "      border: none;\n",
              "      border-radius: 50%;\n",
              "      cursor: pointer;\n",
              "      display: none;\n",
              "      fill: #1967D2;\n",
              "      height: 32px;\n",
              "      padding: 0 0 0 0;\n",
              "      width: 32px;\n",
              "    }\n",
              "\n",
              "    .colab-df-convert:hover {\n",
              "      background-color: #E2EBFA;\n",
              "      box-shadow: 0px 1px 2px rgba(60, 64, 67, 0.3), 0px 1px 3px 1px rgba(60, 64, 67, 0.15);\n",
              "      fill: #174EA6;\n",
              "    }\n",
              "\n",
              "    [theme=dark] .colab-df-convert {\n",
              "      background-color: #3B4455;\n",
              "      fill: #D2E3FC;\n",
              "    }\n",
              "\n",
              "    [theme=dark] .colab-df-convert:hover {\n",
              "      background-color: #434B5C;\n",
              "      box-shadow: 0px 1px 3px 1px rgba(0, 0, 0, 0.15);\n",
              "      filter: drop-shadow(0px 1px 2px rgba(0, 0, 0, 0.3));\n",
              "      fill: #FFFFFF;\n",
              "    }\n",
              "  </style>\n",
              "\n",
              "      <script>\n",
              "        const buttonEl =\n",
              "          document.querySelector('#df-00a0a027-8ac0-4bc7-80f9-8949967c98fd button.colab-df-convert');\n",
              "        buttonEl.style.display =\n",
              "          google.colab.kernel.accessAllowed ? 'block' : 'none';\n",
              "\n",
              "        async function convertToInteractive(key) {\n",
              "          const element = document.querySelector('#df-00a0a027-8ac0-4bc7-80f9-8949967c98fd');\n",
              "          const dataTable =\n",
              "            await google.colab.kernel.invokeFunction('convertToInteractive',\n",
              "                                                     [key], {});\n",
              "          if (!dataTable) return;\n",
              "\n",
              "          const docLinkHtml = 'Like what you see? Visit the ' +\n",
              "            '<a target=\"_blank\" href=https://colab.research.google.com/notebooks/data_table.ipynb>data table notebook</a>'\n",
              "            + ' to learn more about interactive tables.';\n",
              "          element.innerHTML = '';\n",
              "          dataTable['output_type'] = 'display_data';\n",
              "          await google.colab.output.renderOutput(dataTable, element);\n",
              "          const docLink = document.createElement('div');\n",
              "          docLink.innerHTML = docLinkHtml;\n",
              "          element.appendChild(docLink);\n",
              "        }\n",
              "      </script>\n",
              "    </div>\n",
              "  </div>\n",
              "  "
            ]
          },
          "metadata": {},
          "execution_count": 74
        }
      ]
    },
    {
      "cell_type": "code",
      "source": [
        "df_victm['age'].unique()"
      ],
      "metadata": {
        "id": "KOtwPikcumrT",
        "outputId": "4f551d09-bc82-48d0-bcb7-94b079a6317d",
        "colab": {
          "base_uri": "https://localhost:8080/"
        }
      },
      "execution_count": 75,
      "outputs": [
        {
          "output_type": "execute_result",
          "data": {
            "text/plain": [
              "array([34.0, 16.0, 17.0, 32.0, 19.0, 80.0, 'Unknown', 20.0, 33.0, 21.0,\n",
              "       31.0, 15.0, 25.0, 40.0, 18.0, 7.0, 13.0, 12.0, 39.0, 26.0, 43.0,\n",
              "       14.0, 6.0, 71.0, 9.0, 30.0, 47.0, 66.0, 46.0, 41.0, 8.0, 24.0,\n",
              "       29.0, 60.0, 22.0, 11.0, 38.0, 53.0, 4.0, 28.0, 36.0, 27.0, 37.0,\n",
              "       10.0, 45.0, 48.0, 56.0, 42.0, 63.0, 64.0, 51.0, 35.0, 50.0, 49.0,\n",
              "       2.0, 52.0, 23.0, 67.0, 44.0, 59.0, 5.0, 62.0, 58.0, 68.0, 57.0,\n",
              "       54.0, 61.0, 74.0, 1.0, 55.0, 69.0], dtype=object)"
            ]
          },
          "metadata": {},
          "execution_count": 75
        }
      ]
    },
    {
      "cell_type": "code",
      "source": [
        "df_victm['ageinterp'].unique()"
      ],
      "metadata": {
        "id": "lqKydPlMskkh",
        "outputId": "5cc3364e-f387-4368-b4f1-6087e1499279",
        "colab": {
          "base_uri": "https://localhost:8080/"
        }
      },
      "execution_count": 76,
      "outputs": [
        {
          "output_type": "execute_result",
          "data": {
            "text/plain": [
              "array([34., 16., 17., 32., 19., 80., 20., 33., 21., 31., 15., 25., 40.,\n",
              "       18.,  7., 13., 12., 39., 26., 43., 14.,  6., 71.,  9., 30., 47.,\n",
              "       66., 46., 41.,  8., 24., 29., 60., 22., 11., 38., 53.,  4., 28.,\n",
              "       36., 27., 37., 10., 45., 48., 56., 42., 63., 64., 51., 35., 50.,\n",
              "       49.,  2., 52., 23., 67., 44., 59.,  5., 62., 58., 68., 57., 54.,\n",
              "       61., 74.,  1., 55., 69.])"
            ]
          },
          "metadata": {},
          "execution_count": 76
        }
      ]
    },
    {
      "cell_type": "markdown",
      "source": [
        "### <font color =\"#00b8ff\">2.4 df_weapon</font>"
      ],
      "metadata": {
        "id": "4kBZr5kMo5VE"
      }
    },
    {
      "cell_type": "code",
      "source": [
        "df_weapn = df_weapn.drop_duplicates()\n",
        "print(df_weapn.isnull().sum())"
      ],
      "metadata": {
        "id": "98PN6CbksEcP",
        "colab": {
          "base_uri": "https://localhost:8080/"
        },
        "outputId": "e83336d2-8fef-48ae-9afb-aacd901f01c6"
      },
      "execution_count": 77,
      "outputs": [
        {
          "output_type": "stream",
          "name": "stdout",
          "text": [
            "incidentid          0\n",
            "weaponcaliber     624\n",
            "weapondetails    1973\n",
            "weapontype         70\n",
            "dtype: int64\n"
          ]
        }
      ]
    },
    {
      "cell_type": "code",
      "source": [
        "df_weapn.describe()"
      ],
      "metadata": {
        "colab": {
          "base_uri": "https://localhost:8080/",
          "height": 175
        },
        "id": "-E-mjxg7DJ-h",
        "outputId": "5ddb0388-73df-47bd-91e3-41767d2d71fb"
      },
      "execution_count": 78,
      "outputs": [
        {
          "output_type": "execute_result",
          "data": {
            "text/plain": [
              "           incidentid weaponcaliber   weapondetails weapontype\n",
              "count            2058          1434              85       1988\n",
              "unique           2018            35              67          9\n",
              "top     19990420COCOL       Unknown  Gel pellet gun    Handgun\n",
              "freq                4           729               4       1395"
            ],
            "text/html": [
              "\n",
              "  <div id=\"df-2a1b4816-4520-49dc-90c7-06a0868d8ad6\">\n",
              "    <div class=\"colab-df-container\">\n",
              "      <div>\n",
              "<style scoped>\n",
              "    .dataframe tbody tr th:only-of-type {\n",
              "        vertical-align: middle;\n",
              "    }\n",
              "\n",
              "    .dataframe tbody tr th {\n",
              "        vertical-align: top;\n",
              "    }\n",
              "\n",
              "    .dataframe thead th {\n",
              "        text-align: right;\n",
              "    }\n",
              "</style>\n",
              "<table border=\"1\" class=\"dataframe\">\n",
              "  <thead>\n",
              "    <tr style=\"text-align: right;\">\n",
              "      <th></th>\n",
              "      <th>incidentid</th>\n",
              "      <th>weaponcaliber</th>\n",
              "      <th>weapondetails</th>\n",
              "      <th>weapontype</th>\n",
              "    </tr>\n",
              "  </thead>\n",
              "  <tbody>\n",
              "    <tr>\n",
              "      <th>count</th>\n",
              "      <td>2058</td>\n",
              "      <td>1434</td>\n",
              "      <td>85</td>\n",
              "      <td>1988</td>\n",
              "    </tr>\n",
              "    <tr>\n",
              "      <th>unique</th>\n",
              "      <td>2018</td>\n",
              "      <td>35</td>\n",
              "      <td>67</td>\n",
              "      <td>9</td>\n",
              "    </tr>\n",
              "    <tr>\n",
              "      <th>top</th>\n",
              "      <td>19990420COCOL</td>\n",
              "      <td>Unknown</td>\n",
              "      <td>Gel pellet gun</td>\n",
              "      <td>Handgun</td>\n",
              "    </tr>\n",
              "    <tr>\n",
              "      <th>freq</th>\n",
              "      <td>4</td>\n",
              "      <td>729</td>\n",
              "      <td>4</td>\n",
              "      <td>1395</td>\n",
              "    </tr>\n",
              "  </tbody>\n",
              "</table>\n",
              "</div>\n",
              "      <button class=\"colab-df-convert\" onclick=\"convertToInteractive('df-2a1b4816-4520-49dc-90c7-06a0868d8ad6')\"\n",
              "              title=\"Convert this dataframe to an interactive table.\"\n",
              "              style=\"display:none;\">\n",
              "        \n",
              "  <svg xmlns=\"http://www.w3.org/2000/svg\" height=\"24px\"viewBox=\"0 0 24 24\"\n",
              "       width=\"24px\">\n",
              "    <path d=\"M0 0h24v24H0V0z\" fill=\"none\"/>\n",
              "    <path d=\"M18.56 5.44l.94 2.06.94-2.06 2.06-.94-2.06-.94-.94-2.06-.94 2.06-2.06.94zm-11 1L8.5 8.5l.94-2.06 2.06-.94-2.06-.94L8.5 2.5l-.94 2.06-2.06.94zm10 10l.94 2.06.94-2.06 2.06-.94-2.06-.94-.94-2.06-.94 2.06-2.06.94z\"/><path d=\"M17.41 7.96l-1.37-1.37c-.4-.4-.92-.59-1.43-.59-.52 0-1.04.2-1.43.59L10.3 9.45l-7.72 7.72c-.78.78-.78 2.05 0 2.83L4 21.41c.39.39.9.59 1.41.59.51 0 1.02-.2 1.41-.59l7.78-7.78 2.81-2.81c.8-.78.8-2.07 0-2.86zM5.41 20L4 18.59l7.72-7.72 1.47 1.35L5.41 20z\"/>\n",
              "  </svg>\n",
              "      </button>\n",
              "      \n",
              "  <style>\n",
              "    .colab-df-container {\n",
              "      display:flex;\n",
              "      flex-wrap:wrap;\n",
              "      gap: 12px;\n",
              "    }\n",
              "\n",
              "    .colab-df-convert {\n",
              "      background-color: #E8F0FE;\n",
              "      border: none;\n",
              "      border-radius: 50%;\n",
              "      cursor: pointer;\n",
              "      display: none;\n",
              "      fill: #1967D2;\n",
              "      height: 32px;\n",
              "      padding: 0 0 0 0;\n",
              "      width: 32px;\n",
              "    }\n",
              "\n",
              "    .colab-df-convert:hover {\n",
              "      background-color: #E2EBFA;\n",
              "      box-shadow: 0px 1px 2px rgba(60, 64, 67, 0.3), 0px 1px 3px 1px rgba(60, 64, 67, 0.15);\n",
              "      fill: #174EA6;\n",
              "    }\n",
              "\n",
              "    [theme=dark] .colab-df-convert {\n",
              "      background-color: #3B4455;\n",
              "      fill: #D2E3FC;\n",
              "    }\n",
              "\n",
              "    [theme=dark] .colab-df-convert:hover {\n",
              "      background-color: #434B5C;\n",
              "      box-shadow: 0px 1px 3px 1px rgba(0, 0, 0, 0.15);\n",
              "      filter: drop-shadow(0px 1px 2px rgba(0, 0, 0, 0.3));\n",
              "      fill: #FFFFFF;\n",
              "    }\n",
              "  </style>\n",
              "\n",
              "      <script>\n",
              "        const buttonEl =\n",
              "          document.querySelector('#df-2a1b4816-4520-49dc-90c7-06a0868d8ad6 button.colab-df-convert');\n",
              "        buttonEl.style.display =\n",
              "          google.colab.kernel.accessAllowed ? 'block' : 'none';\n",
              "\n",
              "        async function convertToInteractive(key) {\n",
              "          const element = document.querySelector('#df-2a1b4816-4520-49dc-90c7-06a0868d8ad6');\n",
              "          const dataTable =\n",
              "            await google.colab.kernel.invokeFunction('convertToInteractive',\n",
              "                                                     [key], {});\n",
              "          if (!dataTable) return;\n",
              "\n",
              "          const docLinkHtml = 'Like what you see? Visit the ' +\n",
              "            '<a target=\"_blank\" href=https://colab.research.google.com/notebooks/data_table.ipynb>data table notebook</a>'\n",
              "            + ' to learn more about interactive tables.';\n",
              "          element.innerHTML = '';\n",
              "          dataTable['output_type'] = 'display_data';\n",
              "          await google.colab.output.renderOutput(dataTable, element);\n",
              "          const docLink = document.createElement('div');\n",
              "          docLink.innerHTML = docLinkHtml;\n",
              "          element.appendChild(docLink);\n",
              "        }\n",
              "      </script>\n",
              "    </div>\n",
              "  </div>\n",
              "  "
            ]
          },
          "metadata": {},
          "execution_count": 78
        }
      ]
    },
    {
      "cell_type": "code",
      "source": [
        "df_weapn[\"weaponcaliber\"].value_counts()"
      ],
      "metadata": {
        "colab": {
          "base_uri": "https://localhost:8080/"
        },
        "id": "SLlhUQoNR41L",
        "outputId": "e7707d63-89a3-447d-9b74-5cba6d06aa90"
      },
      "execution_count": 79,
      "outputs": [
        {
          "output_type": "execute_result",
          "data": {
            "text/plain": [
              "Unknown            729\n",
              ".22 caliber        184\n",
              ".38 caliber        110\n",
              "9mm                 76\n",
              "BB                  49\n",
              ".25 caliber         43\n",
              "Service Weapon      36\n",
              ".45 caliber         34\n",
              ".357 caliber        33\n",
              "Pellet              30\n",
              "12 gauge            20\n",
              ".32 caliber         15\n",
              ".40 caliber         13\n",
              "AR-15                7\n",
              ".223 caliber         6\n",
              "airsoft              5\n",
              "AK-47                5\n",
              ".44 caliber          5\n",
              "Airsoft              5\n",
              "Semiautomatic        4\n",
              ".30-30               4\n",
              "20 gauge             3\n",
              ".30-06               2\n",
              ".27 caliber          2\n",
              ".308 caliber         2\n",
              "10mm                 2\n",
              "Service weapon       2\n",
              "Double-barreled      1\n",
              "5.56mm               1\n",
              ".22 caliber          1\n",
              "7.26mm               1\n",
              "Submachine gun       1\n",
              "410 gauge            1\n",
              "Starter              1\n",
              "Automatic            1\n",
              "Name: weaponcaliber, dtype: int64"
            ]
          },
          "metadata": {},
          "execution_count": 79
        }
      ]
    },
    {
      "cell_type": "code",
      "source": [
        "df_weapn.loc[df_weapn[\"weaponcaliber\"] == '.22 caliber ',\"weaponcaliber\"] = '.22 caliber' #renomeando o .22 que estava com um espaço no final\n",
        "df_weapn.loc[df_weapn[\"weaponcaliber\"] == 'airsoft',\"weaponcaliber\"] = 'Airsoft' #renomeando os \"airsoft\" minúsculos\n",
        "df_weapn.loc[df_weapn[\"weaponcaliber\"] == 'Service weapon',\"weaponcaliber\"] = 'Service Weapon' "
      ],
      "metadata": {
        "id": "f80z6uU58eug"
      },
      "execution_count": 80,
      "outputs": []
    },
    {
      "cell_type": "code",
      "source": [
        "df_weapn[\"weaponcaliber\"].value_counts()"
      ],
      "metadata": {
        "colab": {
          "base_uri": "https://localhost:8080/"
        },
        "id": "SsIe3GcO8sw7",
        "outputId": "f3efd718-810c-4f58-c85b-8ea3b245c8da"
      },
      "execution_count": 81,
      "outputs": [
        {
          "output_type": "execute_result",
          "data": {
            "text/plain": [
              "Unknown            729\n",
              ".22 caliber        185\n",
              ".38 caliber        110\n",
              "9mm                 76\n",
              "BB                  49\n",
              ".25 caliber         43\n",
              "Service Weapon      38\n",
              ".45 caliber         34\n",
              ".357 caliber        33\n",
              "Pellet              30\n",
              "12 gauge            20\n",
              ".32 caliber         15\n",
              ".40 caliber         13\n",
              "Airsoft             10\n",
              "AR-15                7\n",
              ".223 caliber         6\n",
              "AK-47                5\n",
              ".44 caliber          5\n",
              "Semiautomatic        4\n",
              ".30-30               4\n",
              "20 gauge             3\n",
              ".30-06               2\n",
              ".27 caliber          2\n",
              ".308 caliber         2\n",
              "10mm                 2\n",
              "Double-barreled      1\n",
              "5.56mm               1\n",
              "7.26mm               1\n",
              "Submachine gun       1\n",
              "410 gauge            1\n",
              "Starter              1\n",
              "Automatic            1\n",
              "Name: weaponcaliber, dtype: int64"
            ]
          },
          "metadata": {},
          "execution_count": 81
        }
      ]
    },
    {
      "cell_type": "code",
      "source": [
        "df_weapn[\"weaponcaliber\"].unique()"
      ],
      "metadata": {
        "colab": {
          "base_uri": "https://localhost:8080/"
        },
        "id": "2xxCKb4K8w_F",
        "outputId": "76ba3b0e-67cc-4b05-8627-56e9397fc121"
      },
      "execution_count": 82,
      "outputs": [
        {
          "output_type": "execute_result",
          "data": {
            "text/plain": [
              "array([nan, 'Service Weapon', 'Airsoft', '9mm', 'BB', 'Pellet',\n",
              "       '.22 caliber', 'AR-15', '.38 caliber', '.223 caliber',\n",
              "       '.45 caliber', '.40 caliber', 'Unknown', '5.56mm', '.357 caliber',\n",
              "       'Semiautomatic', '.32 caliber', '12 gauge', '20 gauge', 'AK-47',\n",
              "       '10mm', '.44 caliber', '.308 caliber', 'Double-barreled', '.30-06',\n",
              "       '.25 caliber', '.27 caliber', '7.26mm', '.30-30', 'Submachine gun',\n",
              "       '410 gauge', 'Starter', 'Automatic'], dtype=object)"
            ]
          },
          "metadata": {},
          "execution_count": 82
        }
      ]
    },
    {
      "cell_type": "code",
      "source": [
        "df_weapn = df_weapn.fillna('Unknown') #Preenchendo as informações nulas da aba arma"
      ],
      "metadata": {
        "id": "fV05Jevt3GEF"
      },
      "execution_count": 83,
      "outputs": []
    },
    {
      "cell_type": "markdown",
      "source": [
        "Verificação final de valores null"
      ],
      "metadata": {
        "id": "-5015UBCB7DE"
      }
    },
    {
      "cell_type": "code",
      "source": [
        "print(df_weapn.isnull().sum())"
      ],
      "metadata": {
        "colab": {
          "base_uri": "https://localhost:8080/"
        },
        "id": "VwbfZbGtBLx4",
        "outputId": "564b7408-e4b9-4c17-c443-300492885221"
      },
      "execution_count": 84,
      "outputs": [
        {
          "output_type": "stream",
          "name": "stdout",
          "text": [
            "incidentid       0\n",
            "weaponcaliber    0\n",
            "weapondetails    0\n",
            "weapontype       0\n",
            "dtype: int64\n"
          ]
        }
      ]
    },
    {
      "cell_type": "markdown",
      "source": [
        "## <font color =\"#00b8ff\">3. Análise Descritiva</font>\n",
        "\n",
        "Realizar análise do dataset, mostrar série histórica, trazer visualizações, etc"
      ],
      "metadata": {
        "id": "7GP5xozXC4hm"
      }
    },
    {
      "cell_type": "markdown",
      "source": [
        "### <font color =\"#00b8ff\">3.1 Análise de série histórica e geográfica - Duda e Gisele</font>\n",
        "\n",
        "\n"
      ],
      "metadata": {
        "id": "CaMYV6vXC4hv"
      }
    },
    {
      "cell_type": "markdown",
      "source": [
        "Observamos uma tendência de aumento na quantidade de incidentes em escolas ao longo do tempo."
      ],
      "metadata": {
        "id": "1QRudUK2aZ4X"
      }
    },
    {
      "cell_type": "code",
      "source": [
        "plt.figure(figsize=(12,6)) #importante plotar tamanho antes do gráfico no seaborn\n",
        "sns.set_theme(style=\"whitegrid\")\n",
        "sns.countplot(x=df_incid[\"Year\"], palette=\"flare\").xaxis.set_major_locator(ticker.AutoLocator())\n",
        "plt.xticks(rotation=45, fontsize=10) #rotaciona valores do eixo x\n",
        "plt.yticks(fontsize=12) #altera tamanho de fonte de valores do eixo y\n",
        "plt.title('Quantidade de incidentes por ano', fontsize=16) #define título para gráfico\n",
        "plt.xlabel('Ano', fontsize=12) #define título para eixo x\n",
        "plt.ylabel('Quantidade de incidentes', fontsize=12) #define título para eixo y\n",
        "# plt.tight_layout() #otimiza o tamanho do layout do gráfico\n",
        "plt.show"
      ],
      "metadata": {
        "outputId": "05748c04-28a8-4ab0-af8d-5d7d133a3139",
        "colab": {
          "base_uri": "https://localhost:8080/",
          "height": 611
        },
        "id": "VG05J_o2C4hv"
      },
      "execution_count": 92,
      "outputs": [
        {
          "output_type": "execute_result",
          "data": {
            "text/plain": [
              "<function matplotlib.pyplot.show(close=None, block=None)>"
            ]
          },
          "metadata": {},
          "execution_count": 92
        },
        {
          "output_type": "display_data",
          "data": {
            "text/plain": [
              "<Figure size 1200x600 with 1 Axes>"
            ],
            "image/png": "[encoded data removed]"
          },
          "metadata": {}
        }
      ]
    },
    {
      "cell_type": "markdown",
      "source": [
        "A partir desse gráfico é possível perceber que a quantidade de incidentes a partir de 2019 aumentou bastante em relação aos anos anteriores, sobretudo no ano de 2021."
      ],
      "metadata": {
        "id": "jByAe2-tlNMo"
      }
    },
    {
      "cell_type": "code",
      "source": [
        "fig = plt.figure(figsize=(25,5))\n",
        "sts = sns.countplot(x=df_incid[\"State\"], order=df_incid['State'].value_counts(ascending=False).index)\n",
        "sts.set(xlabel =\"Estados\", ylabel = \"Quantidade de incidentes\", title ='Contagem de incidências por estado')"
      ],
      "metadata": {
        "id": "5A2FZxZlOMaO",
        "outputId": "3eff782d-36ed-4502-cec3-1c0e33dc049f",
        "colab": {
          "base_uri": "https://localhost:8080/",
          "height": 495
        }
      },
      "execution_count": 93,
      "outputs": [
        {
          "output_type": "execute_result",
          "data": {
            "text/plain": [
              "[Text(0.5, 0, 'Estados'),\n",
              " Text(0, 0.5, 'Quantidade de incidentes'),\n",
              " Text(0.5, 1.0, 'Contagem de incidências por estado')]"
            ]
          },
          "metadata": {},
          "execution_count": 93
        },
        {
          "output_type": "display_data",
          "data": {
            "text/plain": [
              "<Figure size 2500x500 with 1 Axes>"
            ],
            "image/png": "[encoded data removed]"
          },
          "metadata": {}
        }
      ]
    },
    {
      "cell_type": "markdown",
      "source": [
        "Quanto ao número de acidentes por estados, é possível perceber uma relação com a quantidade de habitantes, visto que a Califórnia, o Texas, a Flórida e Illinois estão no [topo da lista de população dos EUA]('https://pt.wikipedia.org/wiki/Lista_de_estados_dos_Estados_Unidos_por_popula%C3%A7%C3%A3o') e também na de quantidade de incidentes, enquanto estados com poucas incidências possuem menor população."
      ],
      "metadata": {
        "id": "q2eU_0z6mSdg"
      }
    },
    {
      "cell_type": "code",
      "source": [
        "plt.title('As dez cidades com mais ocorrências de atentado', fontsize = 16)\n",
        "plt.ylabel('Número de Acidentes', fontsize=14)\n",
        "plt.xlabel('Cidades', fontsize=14)\n",
        "df_incid[\"City\"].value_counts()[:10].plot(kind = 'bar', figsize=(17, 10), fontsize = 10, color = 'royalblue', grid = True);\n",
        "plt.xticks(rotation = 0, fontsize=14)\n",
        "plt.show()"
      ],
      "metadata": {
        "id": "jvsrxZnpsBde",
        "outputId": "5cc14d9d-c0e4-4ad9-a230-e8a14c51e4df",
        "colab": {
          "base_uri": "https://localhost:8080/",
          "height": 888
        }
      },
      "execution_count": 94,
      "outputs": [
        {
          "output_type": "display_data",
          "data": {
            "text/plain": [
              "<Figure size 1700x1000 with 1 Axes>"
            ],
            "image/png": "[encoded data removed]"
          },
          "metadata": {}
        }
      ]
    },
    {
      "cell_type": "markdown",
      "source": [
        "De forma análoga ao resultado encontrado referente aos estados, é póssivel associar as cidades com maior número de incidentes à sua população, visto que as 10 cidades que possuem mais incidências estão no top 25 de [cidades mais populosas dos EUA](https://pt.wikipedia.org/wiki/Lista_das_cidades_mais_populosas_dos_Estados_Unidos)."
      ],
      "metadata": {
        "id": "luBzFwVRtV5v"
      }
    },
    {
      "cell_type": "code",
      "source": [
        "sns.lineplot(x=df_incid['Year'], y=df_incid['Preplanned'])"
      ],
      "metadata": {
        "id": "sugTxKJlLwiV",
        "outputId": "d8719701-2639-4788-a537-591265904b64",
        "colab": {
          "base_uri": "https://localhost:8080/",
          "height": 475
        }
      },
      "execution_count": 95,
      "outputs": [
        {
          "output_type": "execute_result",
          "data": {
            "text/plain": [
              "<Axes: xlabel='Year', ylabel='Preplanned'>"
            ]
          },
          "metadata": {},
          "execution_count": 95
        },
        {
          "output_type": "display_data",
          "data": {
            "text/plain": [
              "<Figure size 640x480 with 1 Axes>"
            ],
            "image/png": "[encoded data removed]"
          },
          "metadata": {}
        }
      ]
    },
    {
      "cell_type": "code",
      "source": [
        "sns.lineplot(x='Year', y=df_incid['Preplanned'], hue=df_incid['Preplanned'], \n",
        "             data=pd.melt(df_incid, ['Year']))"
      ],
      "metadata": {
        "id": "DSNY5JcHqFov",
        "outputId": "3786a880-0136-4648-fa11-2b1f4b205493",
        "colab": {
          "base_uri": "https://localhost:8080/",
          "height": 475
        }
      },
      "execution_count": 96,
      "outputs": [
        {
          "output_type": "execute_result",
          "data": {
            "text/plain": [
              "<Axes: xlabel='Year', ylabel='Preplanned'>"
            ]
          },
          "metadata": {},
          "execution_count": 96
        },
        {
          "output_type": "display_data",
          "data": {
            "text/plain": [
              "<Figure size 640x480 with 1 Axes>"
            ],
            "image/png": "[encoded data removed]"
          },
          "metadata": {}
        }
      ]
    },
    {
      "cell_type": "code",
      "source": [
        "df_preplanned = df_incid.groupby(['Year', 'Preplanned']).size().unstack()\n",
        "\n",
        "ax = df_preplanned.plot(kind='line', stacked=True, figsize=(12, 6), rot=0);\n",
        "ax.set_title('Ocorrências por ano (pré planejadas ou não)', fontsize = 16)\n",
        "ax.set_xlabel('Ano', fontsize=14)\n",
        "ax.set_ylabel('Número de acidentes', fontsize=14)"
      ],
      "metadata": {
        "id": "yYi9pLZArWkm",
        "outputId": "deef5415-084e-4492-879d-67e8b1c31098",
        "colab": {
          "base_uri": "https://localhost:8080/",
          "height": 594
        }
      },
      "execution_count": 97,
      "outputs": [
        {
          "output_type": "execute_result",
          "data": {
            "text/plain": [
              "Text(0, 0.5, 'Número de acidentes')"
            ]
          },
          "metadata": {},
          "execution_count": 97
        },
        {
          "output_type": "display_data",
          "data": {
            "text/plain": [
              "<Figure size 1200x600 with 1 Axes>"
            ],
            "image/png": "[encoded data removed]"
          },
          "metadata": {}
        }
      ]
    },
    {
      "cell_type": "code",
      "source": [
        "df_incid['Preplanned'].value_counts().plot(kind='pie')"
      ],
      "metadata": {
        "id": "Sl4fePwOreuu",
        "outputId": "4d40c642-7a8c-4eea-d00e-8c7f64236ade",
        "colab": {
          "base_uri": "https://localhost:8080/",
          "height": 423
        }
      },
      "execution_count": 98,
      "outputs": [
        {
          "output_type": "execute_result",
          "data": {
            "text/plain": [
              "<Axes: ylabel='Preplanned'>"
            ]
          },
          "metadata": {},
          "execution_count": 98
        },
        {
          "output_type": "display_data",
          "data": {
            "text/plain": [
              "<Figure size 640x480 with 1 Axes>"
            ],
            "image/png": "[encoded data removed]"
          },
          "metadata": {}
        }
      ]
    },
    {
      "cell_type": "code",
      "source": [
        "accident_quarter_df = df_incid.groupby(['Year', 'Quarter']).size().unstack()\n",
        "\n",
        "ax = accident_quarter_df.tail().plot(kind='barh', stacked=True, figsize=(12, 6), color=['#fcfa5d', '#ffe066', '#fab666', '#f68f6a'], rot=0);\n",
        "ax.set_title('Quantidade de ocorrências por estação nos últimos 5 anos', fontsize = 16)\n",
        "ax.set_ylabel('Ano', fontsize=14)\n",
        "ax.set_xlabel('Número de acidentes', fontsize=14)"
      ],
      "metadata": {
        "id": "MZbJOEI4vLAE",
        "outputId": "0161e1fd-30a3-4ed6-e63e-cfaa90ba5df2",
        "colab": {
          "base_uri": "https://localhost:8080/",
          "height": 594
        }
      },
      "execution_count": 99,
      "outputs": [
        {
          "output_type": "execute_result",
          "data": {
            "text/plain": [
              "Text(0.5, 0, 'Número de acidentes')"
            ]
          },
          "metadata": {},
          "execution_count": 99
        },
        {
          "output_type": "display_data",
          "data": {
            "text/plain": [
              "<Figure size 1200x600 with 1 Axes>"
            ],
            "image/png": "[encoded data removed]"
          },
          "metadata": {}
        }
      ]
    },
    {
      "cell_type": "markdown",
      "source": [
        "Pode-se perceber que a estação do ano em que mais ocorrem incidentes é o *outono*, correspondente ao período de início do ano letivo nos EUA.\n",
        "\n",
        "**OBS.:** Esse dataset possui registros até o mês de junho de 2022, como o outono começa em setembro não foi possível contabilizar as ocorrências dessa estação nesse ano."
      ],
      "metadata": {
        "id": "npDMYDvuvZAB"
      }
    },
    {
      "cell_type": "code",
      "source": [
        "# Quantidade de shootings por mês \n",
        "fig = plt.figure(figsize=(18,5))\n",
        "ordem = ['Janeiro', 'Fevereiro', 'Março', 'Abril', 'Maio', 'Junho', 'Julho', 'Agosto', 'Setembro', 'Outubro', 'Novembro', 'Dezembro']\n",
        "plt.title('Contagem de incidências por mês')\n",
        "sns.countplot(x=df_incid[\"Month\"], order=ordem)"
      ],
      "metadata": {
        "colab": {
          "base_uri": "https://localhost:8080/",
          "height": 513
        },
        "id": "NEnGebUyBqNf",
        "outputId": "ebba76f0-553e-4d47-df31-627986fe5c97"
      },
      "execution_count": 100,
      "outputs": [
        {
          "output_type": "execute_result",
          "data": {
            "text/plain": [
              "<Axes: title={'center': 'Contagem de incidências por mês'}, xlabel='Month', ylabel='count'>"
            ]
          },
          "metadata": {},
          "execution_count": 100
        },
        {
          "output_type": "display_data",
          "data": {
            "text/plain": [
              "<Figure size 1800x500 with 1 Axes>"
            ],
            "image/png": "[encoded data removed]"
          },
          "metadata": {}
        }
      ]
    },
    {
      "cell_type": "code",
      "source": [
        "# Porcentagem de incidências por estação do ano\n",
        "fig, ax = plt.subplots(figsize=(4, 4))\n",
        "plt.title('Porcentagem de incidências por estação do ano')\n",
        "\n",
        "contagem = df_incid[\"Quarter\"].value_counts() # 4 valores\n",
        "porcentagem = contagem / contagem.sum() * 100 # calculando a porcentagem de cada estação\n",
        "cores = ['#fa6ec9', 'cyan', 'yellow', 'magenta'] # cores que acho bonitas - #fa6ec9: rosinha não tão claro nem tão escuro\n",
        "ax.pie(porcentagem, labels=porcentagem.index, autopct='%1.1f%%', colors=cores)\n",
        "\n",
        "plt.show()"
      ],
      "metadata": {
        "colab": {
          "base_uri": "https://localhost:8080/",
          "height": 367
        },
        "id": "oCHXplrKFH3f",
        "outputId": "1faec442-2f39-4a0d-b1ad-a1bf187b0e8e"
      },
      "execution_count": 101,
      "outputs": [
        {
          "output_type": "display_data",
          "data": {
            "text/plain": [
              "<Figure size 400x400 with 1 Axes>"
            ],
            "image/png": "[encoded data removed]"
          },
          "metadata": {}
        }
      ]
    },
    {
      "cell_type": "code",
      "source": [
        "df_incid[\"Year\"].value_counts().values"
      ],
      "metadata": {
        "id": "3Opa_LS9VN85",
        "outputId": "f97b626b-0cec-4222-b0db-efd5aeb623e1",
        "colab": {
          "base_uri": "https://localhost:8080/"
        }
      },
      "execution_count": 102,
      "outputs": [
        {
          "output_type": "execute_result",
          "data": {
            "text/plain": [
              "array([251, 155, 119, 118, 114,  59,  58,  50,  47,  47,  46,  44,  40,\n",
              "        39,  38,  35,  35,  34,  33,  32,  32,  31,  29,  28,  26,  25,\n",
              "        25,  25,  25,  22,  22,  21,  21,  20,  20,  20,  20,  19,  19,\n",
              "        18,  18,  18,  18,  17,  16,  16,  16,  16,  16,  16,  15,  14,\n",
              "        11])"
            ]
          },
          "metadata": {},
          "execution_count": 102
        }
      ]
    },
    {
      "cell_type": "markdown",
      "source": [
        "### <font color =\"#00b8ff\">3.2 Análise dos Incidentes - João Victor, Hermano e Raffael</font>"
      ],
      "metadata": {
        "id": "LmuUvH0-C4hy"
      }
    },
    {
      "cell_type": "code",
      "source": [
        "df_incid.head()"
      ],
      "metadata": {
        "colab": {
          "base_uri": "https://localhost:8080/",
          "height": 490
        },
        "outputId": "04d211d9-9817-4d2c-a17f-4f2d99264b79",
        "id": "F6Bv4KUhC4hy"
      },
      "execution_count": 103,
      "outputs": [
        {
          "output_type": "execute_result",
          "data": {
            "text/plain": [
              "     Incident_ID                                            Sources  \\\n",
              "0  20220620ILGRC  https://www.cbsnews.com/chicago/news/woman-and...   \n",
              "1  20220613WAMAE  https://www.q13fox.com/news/deputies-arrest-15...   \n",
              "2  20220610ALBYB  https://www.actionnews5.com/2022/06/10/student...   \n",
              "3  20220609ALWAG  https://www.live5news.com/2022/06/09/potential...   \n",
              "4  20220608ARLIL  https://www.kark.com/crime/lrpd-school-bus-hit...   \n",
              "\n",
              "  Number_News Media_Attention  Reliability       Date Quarter  \\\n",
              "0          50        National            4 2022-06-20  Summer   \n",
              "1           5           Local            4 2022-06-13  Summer   \n",
              "2           3           Local            4 2022-06-10  Summer   \n",
              "3         100        National            4 2022-06-09  Summer   \n",
              "4           5        National            4 2022-06-08  Summer   \n",
              "\n",
              "                            School         City State  ... Domestic_Violence  \\\n",
              "0     Gresham School of Excellence      Chicago    IL  ...                No   \n",
              "1              Mariner High School      Everett    WA  ...                No   \n",
              "2              Byhalia High School      Byhalia    MS  ...                No   \n",
              "3    Walnut Park Elementary School      Gadsden    AL  ...           Unknown   \n",
              "4  Little Rock School District Bus  Little Rock    AR  ...                No   \n",
              "\n",
              "  Gang_Related Preplanned Shots_Fired Active_Shooter_FBI  Year  Month Day  \\\n",
              "0      Unknown         No         100                 No  2022  Junho  20   \n",
              "1      Unknown         No          99                 No  2022  Junho  13   \n",
              "2      Unknown         No           1                 No  2022  Junho  10   \n",
              "3      Unknown    Unknown     Unknown                 No  2022  Junho   9   \n",
              "4      Unknown         No          99                 No  2022  Junho   8   \n",
              "\n",
              "    age ageclass  \n",
              "0   NaN  Unknown  \n",
              "1  15.0     Teen  \n",
              "2   NaN  Unknown  \n",
              "3   NaN  Unknown  \n",
              "4   NaN  Unknown  \n",
              "\n",
              "[5 rows x 35 columns]"
            ],
            "text/html": [
              "\n",
              "  <div id=\"df-0ea03d04-3970-4de5-abb5-a813482a0d60\">\n",
              "    <div class=\"colab-df-container\">\n",
              "      <div>\n",
              "<style scoped>\n",
              "    .dataframe tbody tr th:only-of-type {\n",
              "        vertical-align: middle;\n",
              "    }\n",
              "\n",
              "    .dataframe tbody tr th {\n",
              "        vertical-align: top;\n",
              "    }\n",
              "\n",
              "    .dataframe thead th {\n",
              "        text-align: right;\n",
              "    }\n",
              "</style>\n",
              "<table border=\"1\" class=\"dataframe\">\n",
              "  <thead>\n",
              "    <tr style=\"text-align: right;\">\n",
              "      <th></th>\n",
              "      <th>Incident_ID</th>\n",
              "      <th>Sources</th>\n",
              "      <th>Number_News</th>\n",
              "      <th>Media_Attention</th>\n",
              "      <th>Reliability</th>\n",
              "      <th>Date</th>\n",
              "      <th>Quarter</th>\n",
              "      <th>School</th>\n",
              "      <th>City</th>\n",
              "      <th>State</th>\n",
              "      <th>...</th>\n",
              "      <th>Domestic_Violence</th>\n",
              "      <th>Gang_Related</th>\n",
              "      <th>Preplanned</th>\n",
              "      <th>Shots_Fired</th>\n",
              "      <th>Active_Shooter_FBI</th>\n",
              "      <th>Year</th>\n",
              "      <th>Month</th>\n",
              "      <th>Day</th>\n",
              "      <th>age</th>\n",
              "      <th>ageclass</th>\n",
              "    </tr>\n",
              "  </thead>\n",
              "  <tbody>\n",
              "    <tr>\n",
              "      <th>0</th>\n",
              "      <td>20220620ILGRC</td>\n",
              "      <td>https://www.cbsnews.com/chicago/news/woman-and...</td>\n",
              "      <td>50</td>\n",
              "      <td>National</td>\n",
              "      <td>4</td>\n",
              "      <td>2022-06-20</td>\n",
              "      <td>Summer</td>\n",
              "      <td>Gresham School of Excellence</td>\n",
              "      <td>Chicago</td>\n",
              "      <td>IL</td>\n",
              "      <td>...</td>\n",
              "      <td>No</td>\n",
              "      <td>Unknown</td>\n",
              "      <td>No</td>\n",
              "      <td>100</td>\n",
              "      <td>No</td>\n",
              "      <td>2022</td>\n",
              "      <td>Junho</td>\n",
              "      <td>20</td>\n",
              "      <td>NaN</td>\n",
              "      <td>Unknown</td>\n",
              "    </tr>\n",
              "    <tr>\n",
              "      <th>1</th>\n",
              "      <td>20220613WAMAE</td>\n",
              "      <td>https://www.q13fox.com/news/deputies-arrest-15...</td>\n",
              "      <td>5</td>\n",
              "      <td>Local</td>\n",
              "      <td>4</td>\n",
              "      <td>2022-06-13</td>\n",
              "      <td>Summer</td>\n",
              "      <td>Mariner High School</td>\n",
              "      <td>Everett</td>\n",
              "      <td>WA</td>\n",
              "      <td>...</td>\n",
              "      <td>No</td>\n",
              "      <td>Unknown</td>\n",
              "      <td>No</td>\n",
              "      <td>99</td>\n",
              "      <td>No</td>\n",
              "      <td>2022</td>\n",
              "      <td>Junho</td>\n",
              "      <td>13</td>\n",
              "      <td>15.0</td>\n",
              "      <td>Teen</td>\n",
              "    </tr>\n",
              "    <tr>\n",
              "      <th>2</th>\n",
              "      <td>20220610ALBYB</td>\n",
              "      <td>https://www.actionnews5.com/2022/06/10/student...</td>\n",
              "      <td>3</td>\n",
              "      <td>Local</td>\n",
              "      <td>4</td>\n",
              "      <td>2022-06-10</td>\n",
              "      <td>Summer</td>\n",
              "      <td>Byhalia High School</td>\n",
              "      <td>Byhalia</td>\n",
              "      <td>MS</td>\n",
              "      <td>...</td>\n",
              "      <td>No</td>\n",
              "      <td>Unknown</td>\n",
              "      <td>No</td>\n",
              "      <td>1</td>\n",
              "      <td>No</td>\n",
              "      <td>2022</td>\n",
              "      <td>Junho</td>\n",
              "      <td>10</td>\n",
              "      <td>NaN</td>\n",
              "      <td>Unknown</td>\n",
              "    </tr>\n",
              "    <tr>\n",
              "      <th>3</th>\n",
              "      <td>20220609ALWAG</td>\n",
              "      <td>https://www.live5news.com/2022/06/09/potential...</td>\n",
              "      <td>100</td>\n",
              "      <td>National</td>\n",
              "      <td>4</td>\n",
              "      <td>2022-06-09</td>\n",
              "      <td>Summer</td>\n",
              "      <td>Walnut Park Elementary School</td>\n",
              "      <td>Gadsden</td>\n",
              "      <td>AL</td>\n",
              "      <td>...</td>\n",
              "      <td>Unknown</td>\n",
              "      <td>Unknown</td>\n",
              "      <td>Unknown</td>\n",
              "      <td>Unknown</td>\n",
              "      <td>No</td>\n",
              "      <td>2022</td>\n",
              "      <td>Junho</td>\n",
              "      <td>9</td>\n",
              "      <td>NaN</td>\n",
              "      <td>Unknown</td>\n",
              "    </tr>\n",
              "    <tr>\n",
              "      <th>4</th>\n",
              "      <td>20220608ARLIL</td>\n",
              "      <td>https://www.kark.com/crime/lrpd-school-bus-hit...</td>\n",
              "      <td>5</td>\n",
              "      <td>National</td>\n",
              "      <td>4</td>\n",
              "      <td>2022-06-08</td>\n",
              "      <td>Summer</td>\n",
              "      <td>Little Rock School District Bus</td>\n",
              "      <td>Little Rock</td>\n",
              "      <td>AR</td>\n",
              "      <td>...</td>\n",
              "      <td>No</td>\n",
              "      <td>Unknown</td>\n",
              "      <td>No</td>\n",
              "      <td>99</td>\n",
              "      <td>No</td>\n",
              "      <td>2022</td>\n",
              "      <td>Junho</td>\n",
              "      <td>8</td>\n",
              "      <td>NaN</td>\n",
              "      <td>Unknown</td>\n",
              "    </tr>\n",
              "  </tbody>\n",
              "</table>\n",
              "<p>5 rows × 35 columns</p>\n",
              "</div>\n",
              "      <button class=\"colab-df-convert\" onclick=\"convertToInteractive('df-0ea03d04-3970-4de5-abb5-a813482a0d60')\"\n",
              "              title=\"Convert this dataframe to an interactive table.\"\n",
              "              style=\"display:none;\">\n",
              "        \n",
              "  <svg xmlns=\"http://www.w3.org/2000/svg\" height=\"24px\"viewBox=\"0 0 24 24\"\n",
              "       width=\"24px\">\n",
              "    <path d=\"M0 0h24v24H0V0z\" fill=\"none\"/>\n",
              "    <path d=\"M18.56 5.44l.94 2.06.94-2.06 2.06-.94-2.06-.94-.94-2.06-.94 2.06-2.06.94zm-11 1L8.5 8.5l.94-2.06 2.06-.94-2.06-.94L8.5 2.5l-.94 2.06-2.06.94zm10 10l.94 2.06.94-2.06 2.06-.94-2.06-.94-.94-2.06-.94 2.06-2.06.94z\"/><path d=\"M17.41 7.96l-1.37-1.37c-.4-.4-.92-.59-1.43-.59-.52 0-1.04.2-1.43.59L10.3 9.45l-7.72 7.72c-.78.78-.78 2.05 0 2.83L4 21.41c.39.39.9.59 1.41.59.51 0 1.02-.2 1.41-.59l7.78-7.78 2.81-2.81c.8-.78.8-2.07 0-2.86zM5.41 20L4 18.59l7.72-7.72 1.47 1.35L5.41 20z\"/>\n",
              "  </svg>\n",
              "      </button>\n",
              "      \n",
              "  <style>\n",
              "    .colab-df-container {\n",
              "      display:flex;\n",
              "      flex-wrap:wrap;\n",
              "      gap: 12px;\n",
              "    }\n",
              "\n",
              "    .colab-df-convert {\n",
              "      background-color: #E8F0FE;\n",
              "      border: none;\n",
              "      border-radius: 50%;\n",
              "      cursor: pointer;\n",
              "      display: none;\n",
              "      fill: #1967D2;\n",
              "      height: 32px;\n",
              "      padding: 0 0 0 0;\n",
              "      width: 32px;\n",
              "    }\n",
              "\n",
              "    .colab-df-convert:hover {\n",
              "      background-color: #E2EBFA;\n",
              "      box-shadow: 0px 1px 2px rgba(60, 64, 67, 0.3), 0px 1px 3px 1px rgba(60, 64, 67, 0.15);\n",
              "      fill: #174EA6;\n",
              "    }\n",
              "\n",
              "    [theme=dark] .colab-df-convert {\n",
              "      background-color: #3B4455;\n",
              "      fill: #D2E3FC;\n",
              "    }\n",
              "\n",
              "    [theme=dark] .colab-df-convert:hover {\n",
              "      background-color: #434B5C;\n",
              "      box-shadow: 0px 1px 3px 1px rgba(0, 0, 0, 0.15);\n",
              "      filter: drop-shadow(0px 1px 2px rgba(0, 0, 0, 0.3));\n",
              "      fill: #FFFFFF;\n",
              "    }\n",
              "  </style>\n",
              "\n",
              "      <script>\n",
              "        const buttonEl =\n",
              "          document.querySelector('#df-0ea03d04-3970-4de5-abb5-a813482a0d60 button.colab-df-convert');\n",
              "        buttonEl.style.display =\n",
              "          google.colab.kernel.accessAllowed ? 'block' : 'none';\n",
              "\n",
              "        async function convertToInteractive(key) {\n",
              "          const element = document.querySelector('#df-0ea03d04-3970-4de5-abb5-a813482a0d60');\n",
              "          const dataTable =\n",
              "            await google.colab.kernel.invokeFunction('convertToInteractive',\n",
              "                                                     [key], {});\n",
              "          if (!dataTable) return;\n",
              "\n",
              "          const docLinkHtml = 'Like what you see? Visit the ' +\n",
              "            '<a target=\"_blank\" href=https://colab.research.google.com/notebooks/data_table.ipynb>data table notebook</a>'\n",
              "            + ' to learn more about interactive tables.';\n",
              "          element.innerHTML = '';\n",
              "          dataTable['output_type'] = 'display_data';\n",
              "          await google.colab.output.renderOutput(dataTable, element);\n",
              "          const docLink = document.createElement('div');\n",
              "          docLink.innerHTML = docLinkHtml;\n",
              "          element.appendChild(docLink);\n",
              "        }\n",
              "      </script>\n",
              "    </div>\n",
              "  </div>\n",
              "  "
            ]
          },
          "metadata": {},
          "execution_count": 103
        }
      ]
    },
    {
      "cell_type": "code",
      "source": [
        "df_incid.info()"
      ],
      "metadata": {
        "colab": {
          "base_uri": "https://localhost:8080/"
        },
        "outputId": "d1c08305-c122-4fa7-a177-5da0895dfa21",
        "id": "F_WcYqJZC4hy"
      },
      "execution_count": 104,
      "outputs": [
        {
          "output_type": "stream",
          "name": "stdout",
          "text": [
            "<class 'pandas.core.frame.DataFrame'>\n",
            "Int64Index: 2069 entries, 0 to 2068\n",
            "Data columns (total 35 columns):\n",
            " #   Column              Non-Null Count  Dtype         \n",
            "---  ------              --------------  -----         \n",
            " 0   Incident_ID         2069 non-null   object        \n",
            " 1   Sources             2069 non-null   object        \n",
            " 2   Number_News         2069 non-null   object        \n",
            " 3   Media_Attention     2069 non-null   object        \n",
            " 4   Reliability         2069 non-null   int64         \n",
            " 5   Date                2069 non-null   datetime64[ns]\n",
            " 6   Quarter             2069 non-null   object        \n",
            " 7   School              2069 non-null   object        \n",
            " 8   City                2069 non-null   object        \n",
            " 9   State               2069 non-null   object        \n",
            " 10  School_Level        2069 non-null   object        \n",
            " 11  Location            2069 non-null   object        \n",
            " 12  Location_Type       2069 non-null   object        \n",
            " 13  During_School       2069 non-null   object        \n",
            " 14  Time_Period         2069 non-null   object        \n",
            " 15  First_Shot          2069 non-null   object        \n",
            " 16  Summary             2069 non-null   object        \n",
            " 17  Narrative           2069 non-null   object        \n",
            " 18  Situation           2069 non-null   object        \n",
            " 19  Targets             2069 non-null   object        \n",
            " 20  Accomplice          2069 non-null   object        \n",
            " 21  Hostages            2069 non-null   object        \n",
            " 22  Barricade           2069 non-null   object        \n",
            " 23  Officer_Involved    2069 non-null   object        \n",
            " 24  Bullied             2069 non-null   object        \n",
            " 25  Domestic_Violence   2069 non-null   object        \n",
            " 26  Gang_Related        2069 non-null   object        \n",
            " 27  Preplanned          2069 non-null   object        \n",
            " 28  Shots_Fired         2069 non-null   object        \n",
            " 29  Active_Shooter_FBI  2069 non-null   object        \n",
            " 30  Year                2069 non-null   int64         \n",
            " 31  Month               2069 non-null   object        \n",
            " 32  Day                 2069 non-null   int64         \n",
            " 33  age                 1274 non-null   float64       \n",
            " 34  ageclass            2069 non-null   object        \n",
            "dtypes: datetime64[ns](1), float64(1), int64(3), object(30)\n",
            "memory usage: 646.4+ KB\n"
          ]
        }
      ]
    },
    {
      "cell_type": "code",
      "source": [
        "df_incid.describe()"
      ],
      "metadata": {
        "colab": {
          "base_uri": "https://localhost:8080/",
          "height": 300
        },
        "outputId": "ffae6e9c-2457-41b0-fc38-e54b5ab373aa",
        "id": "8v3wE1BPC4hz"
      },
      "execution_count": 105,
      "outputs": [
        {
          "output_type": "execute_result",
          "data": {
            "text/plain": [
              "       Reliability         Year          Day          age\n",
              "count  2069.000000  2069.000000  2069.000000  1274.000000\n",
              "mean      2.766554  2005.714355    15.745771    20.236264\n",
              "std       0.996184    15.432015     8.732714    10.097478\n",
              "min       1.000000  1970.000000     1.000000     5.000000\n",
              "25%       2.000000  1993.000000     9.000000    15.000000\n",
              "50%       2.000000  2010.000000    15.000000    17.000000\n",
              "75%       4.000000  2020.000000    23.000000    20.000000\n",
              "max       5.000000  2022.000000    31.000000    78.000000"
            ],
            "text/html": [
              "\n",
              "  <div id=\"df-a4c4de5c-8f8d-42ee-ac6c-fede5b05a752\">\n",
              "    <div class=\"colab-df-container\">\n",
              "      <div>\n",
              "<style scoped>\n",
              "    .dataframe tbody tr th:only-of-type {\n",
              "        vertical-align: middle;\n",
              "    }\n",
              "\n",
              "    .dataframe tbody tr th {\n",
              "        vertical-align: top;\n",
              "    }\n",
              "\n",
              "    .dataframe thead th {\n",
              "        text-align: right;\n",
              "    }\n",
              "</style>\n",
              "<table border=\"1\" class=\"dataframe\">\n",
              "  <thead>\n",
              "    <tr style=\"text-align: right;\">\n",
              "      <th></th>\n",
              "      <th>Reliability</th>\n",
              "      <th>Year</th>\n",
              "      <th>Day</th>\n",
              "      <th>age</th>\n",
              "    </tr>\n",
              "  </thead>\n",
              "  <tbody>\n",
              "    <tr>\n",
              "      <th>count</th>\n",
              "      <td>2069.000000</td>\n",
              "      <td>2069.000000</td>\n",
              "      <td>2069.000000</td>\n",
              "      <td>1274.000000</td>\n",
              "    </tr>\n",
              "    <tr>\n",
              "      <th>mean</th>\n",
              "      <td>2.766554</td>\n",
              "      <td>2005.714355</td>\n",
              "      <td>15.745771</td>\n",
              "      <td>20.236264</td>\n",
              "    </tr>\n",
              "    <tr>\n",
              "      <th>std</th>\n",
              "      <td>0.996184</td>\n",
              "      <td>15.432015</td>\n",
              "      <td>8.732714</td>\n",
              "      <td>10.097478</td>\n",
              "    </tr>\n",
              "    <tr>\n",
              "      <th>min</th>\n",
              "      <td>1.000000</td>\n",
              "      <td>1970.000000</td>\n",
              "      <td>1.000000</td>\n",
              "      <td>5.000000</td>\n",
              "    </tr>\n",
              "    <tr>\n",
              "      <th>25%</th>\n",
              "      <td>2.000000</td>\n",
              "      <td>1993.000000</td>\n",
              "      <td>9.000000</td>\n",
              "      <td>15.000000</td>\n",
              "    </tr>\n",
              "    <tr>\n",
              "      <th>50%</th>\n",
              "      <td>2.000000</td>\n",
              "      <td>2010.000000</td>\n",
              "      <td>15.000000</td>\n",
              "      <td>17.000000</td>\n",
              "    </tr>\n",
              "    <tr>\n",
              "      <th>75%</th>\n",
              "      <td>4.000000</td>\n",
              "      <td>2020.000000</td>\n",
              "      <td>23.000000</td>\n",
              "      <td>20.000000</td>\n",
              "    </tr>\n",
              "    <tr>\n",
              "      <th>max</th>\n",
              "      <td>5.000000</td>\n",
              "      <td>2022.000000</td>\n",
              "      <td>31.000000</td>\n",
              "      <td>78.000000</td>\n",
              "    </tr>\n",
              "  </tbody>\n",
              "</table>\n",
              "</div>\n",
              "      <button class=\"colab-df-convert\" onclick=\"convertToInteractive('df-a4c4de5c-8f8d-42ee-ac6c-fede5b05a752')\"\n",
              "              title=\"Convert this dataframe to an interactive table.\"\n",
              "              style=\"display:none;\">\n",
              "        \n",
              "  <svg xmlns=\"http://www.w3.org/2000/svg\" height=\"24px\"viewBox=\"0 0 24 24\"\n",
              "       width=\"24px\">\n",
              "    <path d=\"M0 0h24v24H0V0z\" fill=\"none\"/>\n",
              "    <path d=\"M18.56 5.44l.94 2.06.94-2.06 2.06-.94-2.06-.94-.94-2.06-.94 2.06-2.06.94zm-11 1L8.5 8.5l.94-2.06 2.06-.94-2.06-.94L8.5 2.5l-.94 2.06-2.06.94zm10 10l.94 2.06.94-2.06 2.06-.94-2.06-.94-.94-2.06-.94 2.06-2.06.94z\"/><path d=\"M17.41 7.96l-1.37-1.37c-.4-.4-.92-.59-1.43-.59-.52 0-1.04.2-1.43.59L10.3 9.45l-7.72 7.72c-.78.78-.78 2.05 0 2.83L4 21.41c.39.39.9.59 1.41.59.51 0 1.02-.2 1.41-.59l7.78-7.78 2.81-2.81c.8-.78.8-2.07 0-2.86zM5.41 20L4 18.59l7.72-7.72 1.47 1.35L5.41 20z\"/>\n",
              "  </svg>\n",
              "      </button>\n",
              "      \n",
              "  <style>\n",
              "    .colab-df-container {\n",
              "      display:flex;\n",
              "      flex-wrap:wrap;\n",
              "      gap: 12px;\n",
              "    }\n",
              "\n",
              "    .colab-df-convert {\n",
              "      background-color: #E8F0FE;\n",
              "      border: none;\n",
              "      border-radius: 50%;\n",
              "      cursor: pointer;\n",
              "      display: none;\n",
              "      fill: #1967D2;\n",
              "      height: 32px;\n",
              "      padding: 0 0 0 0;\n",
              "      width: 32px;\n",
              "    }\n",
              "\n",
              "    .colab-df-convert:hover {\n",
              "      background-color: #E2EBFA;\n",
              "      box-shadow: 0px 1px 2px rgba(60, 64, 67, 0.3), 0px 1px 3px 1px rgba(60, 64, 67, 0.15);\n",
              "      fill: #174EA6;\n",
              "    }\n",
              "\n",
              "    [theme=dark] .colab-df-convert {\n",
              "      background-color: #3B4455;\n",
              "      fill: #D2E3FC;\n",
              "    }\n",
              "\n",
              "    [theme=dark] .colab-df-convert:hover {\n",
              "      background-color: #434B5C;\n",
              "      box-shadow: 0px 1px 3px 1px rgba(0, 0, 0, 0.15);\n",
              "      filter: drop-shadow(0px 1px 2px rgba(0, 0, 0, 0.3));\n",
              "      fill: #FFFFFF;\n",
              "    }\n",
              "  </style>\n",
              "\n",
              "      <script>\n",
              "        const buttonEl =\n",
              "          document.querySelector('#df-a4c4de5c-8f8d-42ee-ac6c-fede5b05a752 button.colab-df-convert');\n",
              "        buttonEl.style.display =\n",
              "          google.colab.kernel.accessAllowed ? 'block' : 'none';\n",
              "\n",
              "        async function convertToInteractive(key) {\n",
              "          const element = document.querySelector('#df-a4c4de5c-8f8d-42ee-ac6c-fede5b05a752');\n",
              "          const dataTable =\n",
              "            await google.colab.kernel.invokeFunction('convertToInteractive',\n",
              "                                                     [key], {});\n",
              "          if (!dataTable) return;\n",
              "\n",
              "          const docLinkHtml = 'Like what you see? Visit the ' +\n",
              "            '<a target=\"_blank\" href=https://colab.research.google.com/notebooks/data_table.ipynb>data table notebook</a>'\n",
              "            + ' to learn more about interactive tables.';\n",
              "          element.innerHTML = '';\n",
              "          dataTable['output_type'] = 'display_data';\n",
              "          await google.colab.output.renderOutput(dataTable, element);\n",
              "          const docLink = document.createElement('div');\n",
              "          docLink.innerHTML = docLinkHtml;\n",
              "          element.appendChild(docLink);\n",
              "        }\n",
              "      </script>\n",
              "    </div>\n",
              "  </div>\n",
              "  "
            ]
          },
          "metadata": {},
          "execution_count": 105
        }
      ]
    },
    {
      "cell_type": "code",
      "source": [
        "df_incid['Reliability'].value_counts()\n",
        "confiabilidade = df_incid['Reliability'].value_counts()\n",
        "plt.bar(confiabilidade.index, confiabilidade.values)\n",
        "plt.show()"
      ],
      "metadata": {
        "colab": {
          "base_uri": "https://localhost:8080/",
          "height": 434
        },
        "outputId": "91b7dfe4-99a7-48e7-c2b8-04e6ac235db3",
        "id": "JCDejhi2C4hz"
      },
      "execution_count": 106,
      "outputs": [
        {
          "output_type": "display_data",
          "data": {
            "text/plain": [
              "<Figure size 640x480 with 1 Axes>"
            ],
            "image/png": "[encoded data removed]"
          },
          "metadata": {}
        }
      ]
    },
    {
      "cell_type": "code",
      "source": [
        "escola20 = df_incid['School'].value_counts().head(20)\n",
        "fig = plt.figure(figsize=(17, 5))\n",
        "plt.bar(escola20.index, escola20.values)\n",
        "plt.xticks(rotation=90)\n",
        "plt.show()"
      ],
      "metadata": {
        "colab": {
          "base_uri": "https://localhost:8080/",
          "height": 696
        },
        "outputId": "ffd6a348-cef9-4110-a793-788e339a6647",
        "id": "Q2JunWp_C4hz"
      },
      "execution_count": null,
      "outputs": [
        {
          "output_type": "display_data",
          "data": {
            "text/plain": [
              "<Figure size 1700x500 with 1 Axes>"
            ],
            "image/png": "[encoded data removed]"
          },
          "metadata": {}
        }
      ]
    },
    {
      "cell_type": "markdown",
      "source": [
        "### <font color =\"#00b8ff\">3.3 Análise do Violentador</font>"
      ],
      "metadata": {
        "id": "eDIM-PpiC4hz"
      }
    },
    {
      "cell_type": "code",
      "source": [
        "#df_shoot\n",
        "\n",
        "#Separando o dataset a ser composto, só busquei os 3 primeiros porque o restante representava uma porcentagem muito pequena\n",
        "counts = df_shoot['gender'].value_counts().iloc[:3] \n",
        "\n",
        "# Montando a distribuição em porcentagem\n",
        "percentages = counts / counts.sum() * 100\n",
        "#\n",
        "fig, ax = plt.subplots()\n",
        "ax.barh(percentages.index, percentages.values)\n",
        "\n",
        "#rótulo eixo x\n",
        "ax.set_xlabel('Proporção')\n",
        "# rótulo eixo y\n",
        "ax.set_ylabel('Gênero')\n",
        "# título\n",
        "ax.set_title('Distribuição do gênero dos agressores')\n",
        "\n",
        "# Show the chart\n",
        "plt.show()"
      ],
      "metadata": {
        "colab": {
          "base_uri": "https://localhost:8080/",
          "height": 481
        },
        "id": "2nip-8NgC4hz",
        "outputId": "92328c8a-711b-4281-9333-503e6023c52a"
      },
      "execution_count": 107,
      "outputs": [
        {
          "output_type": "display_data",
          "data": {
            "text/plain": [
              "<Figure size 640x480 with 1 Axes>"
            ],
            "image/png": "[encoded data removed]"
          },
          "metadata": {}
        }
      ]
    },
    {
      "cell_type": "markdown",
      "source": [
        "### <font color =\"#00b8ff\">3.4 Análise das Vítimas</font>"
      ],
      "metadata": {
        "id": "CZCV94CKC4h0"
      }
    },
    {
      "cell_type": "code",
      "source": [],
      "metadata": {
        "id": "bGI5nDNhC4h0"
      },
      "execution_count": null,
      "outputs": []
    },
    {
      "cell_type": "markdown",
      "source": [
        "### <font color =\"#00b8ff\">3.5 Análise das Armas</font>"
      ],
      "metadata": {
        "id": "_kOjyGWkC4h0"
      }
    },
    {
      "cell_type": "code",
      "source": [],
      "metadata": {
        "id": "yOjcMIe8C4h0"
      },
      "execution_count": null,
      "outputs": []
    },
    {
      "cell_type": "markdown",
      "source": [
        "### <font color =\"#00b8ff\">3.6 Regressão Linear</font>"
      ],
      "metadata": {
        "id": "iIy8xtnhC4h0"
      }
    },
    {
      "cell_type": "code",
      "source": [],
      "metadata": {
        "id": "AZVAQyD6C4h0"
      },
      "execution_count": null,
      "outputs": []
    }
  ]
}